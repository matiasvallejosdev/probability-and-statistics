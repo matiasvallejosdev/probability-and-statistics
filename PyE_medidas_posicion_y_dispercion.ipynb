{
  "nbformat": 4,
  "nbformat_minor": 0,
  "metadata": {
    "colab": {
      "name": "PyE_medidas-posicion-y-dispercion.ipynb",
      "provenance": [],
      "authorship_tag": "ABX9TyPXrTs078keZgex04x179R1",
      "include_colab_link": true
    },
    "kernelspec": {
      "name": "python3",
      "display_name": "Python 3"
    },
    "language_info": {
      "name": "python"
    }
  },
  "cells": [
    {
      "cell_type": "markdown",
      "metadata": {
        "id": "view-in-github",
        "colab_type": "text"
      },
      "source": [
        "<a href=\"https://colab.research.google.com/github/matiasvallejosdev/probabilidad-estadistica/blob/main/PyE_medidas_posicion_y_dispercion.ipynb\" target=\"_parent\"><img src=\"https://colab.research.google.com/assets/colab-badge.svg\" alt=\"Open In Colab\"/></a>"
      ]
    },
    {
      "cell_type": "markdown",
      "metadata": {
        "id": "ynebn4d78Qnd"
      },
      "source": [
        "# Medidas de posicion y dispercion\n",
        "Estadistica, Variable datos, Diagramas, Relacion entre Media, Mediana y Moda, Distribucion de intervalos de clases, Grafico de frecuencias acumuladas, Ojiva, Valores de dispercion, Coeficiente de variacion, Cuartiles y percentiles."
      ]
    },
    {
      "cell_type": "code",
      "metadata": {
        "id": "aizEgb0F7PcB"
      },
      "source": [
        "# Import library\n",
        "\n",
        "import numpy as np\n",
        "import pandas as pd\n",
        "import matplotlib.pyplot as plt\n",
        "from scipy import stats as st"
      ],
      "execution_count": 16,
      "outputs": []
    },
    {
      "cell_type": "markdown",
      "metadata": {
        "id": "Hrky5-8j8aVS"
      },
      "source": [
        "## Table helper"
      ]
    },
    {
      "cell_type": "markdown",
      "metadata": {
        "id": "mZLj35Qh-6fR"
      },
      "source": [
        "#### Media, Mediana y Moda"
      ]
    },
    {
      "cell_type": "code",
      "metadata": {
        "colab": {
          "base_uri": "https://localhost:8080/"
        },
        "id": "R7RxwQi98imF",
        "outputId": "f13fe05d-5369-445a-8017-b86519a7730c"
      },
      "source": [
        "# Media, mediana y moda\n",
        "\n",
        "x = np.array([42,47,53,47,50,45,46,48,41,49,45,40,54])\n",
        "print('Data: {}'.format(x))\n",
        "\n",
        "media = np.sum(x) / len(x)\n",
        "print('Media: {}'.format(media))\n",
        "\n",
        "mediana = np.median(x)\n",
        "print('Mediana: {}'.format(mediana))\n",
        "\n",
        "moda = st.mode(x)\n",
        "print('Moda: {} / {}'.format(moda.mode, moda.count))"
      ],
      "execution_count": 11,
      "outputs": [
        {
          "output_type": "stream",
          "text": [
            "Data: [42 47 53 47 50 45 46 48 41 49 45 40 54]\n",
            "Media: 46.69230769230769\n",
            "Mediana: 47.0\n",
            "Moda: [45] / [2]\n"
          ],
          "name": "stdout"
        }
      ]
    },
    {
      "cell_type": "code",
      "metadata": {
        "id": "WjUuPPfJ-JGT"
      },
      "source": [
        ""
      ],
      "execution_count": null,
      "outputs": []
    },
    {
      "cell_type": "markdown",
      "metadata": {
        "id": "f8r15Ew7-Pa6"
      },
      "source": [
        "## Sp1 / h2 : variable datos"
      ]
    },
    {
      "cell_type": "markdown",
      "metadata": {
        "id": "trmZtAKa-gTw"
      },
      "source": [
        "#### Valores estadisticos:"
      ]
    },
    {
      "cell_type": "code",
      "metadata": {
        "colab": {
          "base_uri": "https://localhost:8080/"
        },
        "id": "KgTX--Ty-Uyp",
        "outputId": "a966f661-1e3c-447f-97b8-35f5d42a974f"
      },
      "source": [
        "edad = pd.array([16,16,16,17,17,17,17,17,17,18,18,18,19,20])\n",
        "\n",
        "lenArray = len(edad)\n",
        "\n",
        "media = np.sum(edad) / len(edad)\n",
        "mediana = 17 #impar\n",
        "moda = 17 #repeticion 6 veces\n",
        "\n",
        "print(\"Cantidad de datos:\", lenArray)\n",
        "print(\"Media edad:\", media)\n",
        "print(\"Mediana edad:\", mediana)\n",
        "print(\"Moda edad:\", moda)"
      ],
      "execution_count": 12,
      "outputs": [
        {
          "output_type": "stream",
          "text": [
            "Cantidad de datos: 14\n",
            "Media edad: 17.357142857142858\n",
            "Mediana edad: 17\n",
            "Moda edad: 17\n"
          ],
          "name": "stdout"
        }
      ]
    },
    {
      "cell_type": "code",
      "metadata": {
        "colab": {
          "base_uri": "https://localhost:8080/"
        },
        "id": "5CKyMQLL-bpK",
        "outputId": "54746a40-e43a-4f4e-effc-42e072e97594"
      },
      "source": [
        "# x = max - min\n",
        "rango = 20 - 16\n",
        "# x = (x - m)2 / media\n",
        "varianza = np.sum(np.square(edad - media)) / lenArray\n",
        "# x = _/varianza\n",
        "desviacionEstandar = np.sqrt(varianza)\n",
        "# x = desviacionEstandar / media\n",
        "coeficienteVariacion = (desviacionEstandar / media) * 100\n",
        "\n",
        "print(\"Rango edad:\", rango)\n",
        "print(\"Desviacion estandar edad:\", desviacionEstandar)\n",
        "print(\"Varianza edad:\", varianza)\n",
        "print(\"Coeficiente variacion: \" + str(coeficienteVariacion) + \"%\")"
      ],
      "execution_count": 13,
      "outputs": [
        {
          "output_type": "stream",
          "text": [
            "Rango edad: 4\n",
            "Desviacion estandar edad: 1.1088696211614302\n",
            "Varianza edad: 1.2295918367346936\n",
            "Coeficiente variacion: 6.3885492577201735%\n"
          ],
          "name": "stdout"
        }
      ]
    },
    {
      "cell_type": "markdown",
      "metadata": {
        "id": "BIkDe1l5-jVq"
      },
      "source": [
        "#### Serie de frecuencias:"
      ]
    },
    {
      "cell_type": "code",
      "metadata": {
        "colab": {
          "base_uri": "https://localhost:8080/"
        },
        "id": "GNJEVeGr-oSh",
        "outputId": "26b9e0cb-faae-4db8-d121-77ff5402e616"
      },
      "source": [
        "# 16, 18, 14, 15, 17\n",
        "# 14, 19, 18, 20, 21\n",
        "# 17, 15. 16. 18, 16\n",
        "# 18, 17, 15, 19, 18\n",
        "# 17, 20, 18, 20, 17\n",
        "# 18, 19, 21, 18, 19\n",
        "\n",
        "x = np.array([14,15,16,17,18,19,20,21])\n",
        "print('\\nDatos:', x)\n",
        "\n",
        "f = np.array([2, 3, 3, 5, 8, 4, 3, 2])      # 30\n",
        "print('\\nTotal frecuencia:', np.sum(f))\n",
        "print('\\nFrecuencia:', f)\n",
        "\n",
        "fr = f / np.sum(f)\n",
        "p = np.dot(fr, 100)\n",
        "\n",
        "print('\\nFrecuencia relativa:', fr)\n",
        "print('\\nPorcentaje:', p)"
      ],
      "execution_count": 14,
      "outputs": [
        {
          "output_type": "stream",
          "text": [
            "\n",
            "Datos: [14 15 16 17 18 19 20 21]\n",
            "\n",
            "Total frecuencia: 30\n",
            "\n",
            "Frecuencia: [2 3 3 5 8 4 3 2]\n",
            "\n",
            "Frecuencia relativa: [0.06666667 0.1        0.1        0.16666667 0.26666667 0.13333333\n",
            " 0.1        0.06666667]\n",
            "\n",
            "Porcentaje: [ 6.66666667 10.         10.         16.66666667 26.66666667 13.33333333\n",
            " 10.          6.66666667]\n"
          ],
          "name": "stdout"
        }
      ]
    },
    {
      "cell_type": "markdown",
      "metadata": {
        "id": "V4tGwHve-snh"
      },
      "source": [
        "#### Serie de frecuencias por intervalos agrupados:"
      ]
    },
    {
      "cell_type": "code",
      "metadata": {
        "colab": {
          "base_uri": "https://localhost:8080/"
        },
        "id": "1nHkK8NT-yFy",
        "outputId": "cf4c8c61-d15f-4206-e3ea-b1fb02973e81"
      },
      "source": [
        "X = np.array([[22, 19, 16, 13, 18, 15, 20, 14, 15, 16], [15, 16, 20, 13, 15, 18, 15, 13, 18, 15]])\n",
        "print(X)\n",
        "\n",
        "datos = X.shape[1] * X.shape[0]\n",
        "print(datos)\n",
        "\n",
        "rango = 22 - 13\n",
        "print(rango)\n",
        "\n",
        "intervalos = 1 + 3.322 * np.log10(datos)\n",
        "print(intervalos)\n",
        "\n",
        "amplitud = rango / intervalos\n",
        "print(amplitud)"
      ],
      "execution_count": 15,
      "outputs": [
        {
          "output_type": "stream",
          "text": [
            "[[22 19 16 13 18 15 20 14 15 16]\n",
            " [15 16 20 13 15 18 15 13 18 15]]\n",
            "20\n",
            "9\n",
            "5.322021645595746\n",
            "1.6910866958701634\n"
          ],
          "name": "stdout"
        }
      ]
    },
    {
      "cell_type": "markdown",
      "metadata": {
        "id": "BlKemL8Y_Ig4"
      },
      "source": [
        "## Sp2 / h1 : diagramas"
      ]
    },
    {
      "cell_type": "code",
      "metadata": {
        "colab": {
          "base_uri": "https://localhost:8080/"
        },
        "id": "MjZ99cHo_Qmn",
        "outputId": "60785e66-f139-4c2d-8914-b1fac2455150"
      },
      "source": [
        "# Define datos\n",
        "\n",
        "x = np.array([19, 19,20, 20, 20, 20, 20, 20, 21, 21, 21, 21, 21, 21, 21 ,21 ,21 ,22, 22, 22, 22, 22 ,22 ,22, 23, 23, 23, 24, 24, 25])\n",
        "print(x)"
      ],
      "execution_count": 18,
      "outputs": [
        {
          "output_type": "stream",
          "text": [
            "[19 19 20 20 20 20 20 20 21 21 21 21 21 21 21 21 21 22 22 22 22 22 22 22\n",
            " 23 23 23 24 24 25]\n"
          ],
          "name": "stdout"
        }
      ]
    },
    {
      "cell_type": "code",
      "metadata": {
        "colab": {
          "base_uri": "https://localhost:8080/"
        },
        "id": "Djv0NdNh_UXQ",
        "outputId": "2bd19298-e0ab-40fe-b165-8db9c64ac4e0"
      },
      "source": [
        "# Serie de frecuencias\n",
        "\n",
        "xmarca = np.array([20, 22, 24])\n",
        "frec = np.array([2,6,9,7,3,2,1]) # frecuencia intervalo 1\n",
        "\n",
        "frecrelativa = frec / np.sum(frec) # frecuencia relativa ^\n",
        "\n",
        "frecabsoluta = np.array([2, 8, 15, 23, 26, 28, 29]) # frecuencia absoluta\n",
        "\n",
        "intervalo1 = np.array([19,20,21,22,23,24,25]) # intervalo 1\n",
        "\n",
        "print(xmarca)\n",
        "print(frec)\n",
        "print(frecrelativa)\n",
        "print(frecabsoluta)\n",
        "print(intervalo1)"
      ],
      "execution_count": 19,
      "outputs": [
        {
          "output_type": "stream",
          "text": [
            "[20 22 24]\n",
            "[2 6 9 7 3 2 1]\n",
            "[0.06666667 0.2        0.3        0.23333333 0.1        0.06666667\n",
            " 0.03333333]\n",
            "[ 2  8 15 23 26 28 29]\n",
            "[19 20 21 22 23 24 25]\n"
          ],
          "name": "stdout"
        }
      ]
    },
    {
      "cell_type": "code",
      "metadata": {
        "colab": {
          "base_uri": "https://localhost:8080/"
        },
        "id": "JNQ3UQUZ_Wag",
        "outputId": "56d362e3-aac6-43dd-b8a8-547d8d69d469"
      },
      "source": [
        "# Serie de frecuencias por intervalos procedimientos\n",
        "\n",
        "rango = np.max(x) - np.min(x) \n",
        "intervalo = np.floor(1 + 3.322 * np.log10(len(x)))\n",
        "amplitud = rango / intervalo\n",
        "\n",
        "intervalo2 = np.array([[19, 21], [21, 23], [23, 25]]) # intervalo 2.0\n",
        "\n",
        "print(rango)\n",
        "print(intervalo)\n",
        "print(amplitud)\n",
        "print(intervalo2)"
      ],
      "execution_count": 20,
      "outputs": [
        {
          "output_type": "stream",
          "text": [
            "6\n",
            "5.0\n",
            "1.2\n",
            "[[19 21]\n",
            " [21 23]\n",
            " [23 25]]\n"
          ],
          "name": "stdout"
        }
      ]
    },
    {
      "cell_type": "code",
      "metadata": {
        "colab": {
          "base_uri": "https://localhost:8080/"
        },
        "id": "xwUW6vZN_Yq4",
        "outputId": "69b13232-153a-4aa0-e527-80402a877fa6"
      },
      "source": [
        "# Histograma en numpy\n",
        "\n",
        "a = np.arange(len(frec))\n",
        "hist = np.histogram(x)\n",
        "\n",
        "print(a)\n",
        "print(hist[0]) # frecuencia intervalo 0.6\n",
        "print(hist[1]) # intervalo 0.6"
      ],
      "execution_count": 26,
      "outputs": [
        {
          "output_type": "stream",
          "text": [
            "[0 1 2 3 4 5 6]\n",
            "[2 6 0 9 0 7 3 0 2 1]\n",
            "[19.  19.6 20.2 20.8 21.4 22.  22.6 23.2 23.8 24.4 25. ]\n"
          ],
          "name": "stdout"
        }
      ]
    },
    {
      "cell_type": "markdown",
      "metadata": {
        "id": "Quz1499WAHFO"
      },
      "source": [
        "#### Diagrama de barras:"
      ]
    },
    {
      "cell_type": "code",
      "metadata": {
        "colab": {
          "base_uri": "https://localhost:8080/",
          "height": 337
        },
        "id": "LlUIj86V_nQx",
        "outputId": "8cc59567-d756-436b-e722-9138f25d849d"
      },
      "source": [
        "fig, ax = plt.subplots(figsize=(8,5))\n",
        "ax.bar(a,frec,width=0.5, hatch='/', edgecolor='black', ls='--', linewidth=3, color='orange')"
      ],
      "execution_count": 27,
      "outputs": [
        {
          "output_type": "execute_result",
          "data": {
            "text/plain": [
              "<BarContainer object of 7 artists>"
            ]
          },
          "metadata": {
            "tags": []
          },
          "execution_count": 27
        },
        {
          "output_type": "display_data",
          "data": {
            "image/png": "[encoded data removed]",
            "text/plain": [
              "<Figure size 576x360 with 1 Axes>"
            ]
          },
          "metadata": {
            "tags": [],
            "needs_background": "light"
          }
        }
      ]
    },
    {
      "cell_type": "markdown",
      "metadata": {
        "id": "vWRmC14rAD5w"
      },
      "source": [
        "#### Pie:"
      ]
    },
    {
      "cell_type": "code",
      "metadata": {
        "colab": {
          "base_uri": "https://localhost:8080/",
          "height": 819
        },
        "id": "knMHwOGj_xlp",
        "outputId": "cb4738e1-2c64-4705-d6ca-9abe93aa7cd4"
      },
      "source": [
        "fig, ax = plt.subplots(figsize=(8,8))\n",
        "ax.pie(frec, autopct='%.2f%%',shadow=True, labeldistance=1.1)"
      ],
      "execution_count": 28,
      "outputs": [
        {
          "output_type": "execute_result",
          "data": {
            "text/plain": [
              "([<matplotlib.patches.Wedge at 0x7f294242d310>,\n",
              "  <matplotlib.patches.Wedge at 0x7f294242ddd0>,\n",
              "  <matplotlib.patches.Wedge at 0x7f2942436990>,\n",
              "  <matplotlib.patches.Wedge at 0x7f29423c1610>,\n",
              "  <matplotlib.patches.Wedge at 0x7f29423cd490>,\n",
              "  <matplotlib.patches.Wedge at 0x7f29423d7090>,\n",
              "  <matplotlib.patches.Wedge at 0x7f29423d7950>],\n",
              " [Text(1.075962358309037, 0.22870287165240302, ''),\n",
              "  Text(0.5499999702695115, 0.9526279613277875, ''),\n",
              "  Text(-0.9526279870751434, 0.5499999256737774, ''),\n",
              "  Text(-0.44741018820837447, -1.0049000564669837, ''),\n",
              "  Text(0.646563890003987, -0.8899186120892812, ''),\n",
              "  Text(1.0049000669393746, -0.4474101646869913, ''),\n",
              "  Text(1.093974103116432, -0.11498113632504307, '')],\n",
              " [Text(0.5868885590776565, 0.12474702090131072, '6.67%'),\n",
              "  Text(0.2999999837833699, 0.5196152516333385, '20.00%'),\n",
              "  Text(-0.5196152656773508, 0.299999959458424, '30.00%'),\n",
              "  Text(-0.24404192084093151, -0.5481273035274455, '23.33%'),\n",
              "  Text(0.3526712127294474, -0.48541015204869875, '10.00%'),\n",
              "  Text(0.5481273092396588, -0.2440419080110861, '6.67%'),\n",
              "  Text(0.5967131471544175, -0.06271698345002348, '3.33%')])"
            ]
          },
          "metadata": {
            "tags": []
          },
          "execution_count": 28
        },
        {
          "output_type": "display_data",
          "data": {
            "image/png": "[encoded data removed]",
            "text/plain": [
              "<Figure size 576x576 with 1 Axes>"
            ]
          },
          "metadata": {
            "tags": []
          }
        }
      ]
    },
    {
      "cell_type": "markdown",
      "metadata": {
        "id": "WfaU8Gm3AAvX"
      },
      "source": [
        "#### Histogramas:"
      ]
    },
    {
      "cell_type": "code",
      "metadata": {
        "colab": {
          "base_uri": "https://localhost:8080/",
          "height": 282
        },
        "id": "TDjL3tBh_1Xo",
        "outputId": "ec1384c3-4d39-4ab3-d112-6591d7d7d84b"
      },
      "source": [
        "plt.hist(x, bins=intervalo1)\n",
        "plt.grid(True)\n",
        "plt.show()\n",
        "plt.clf()"
      ],
      "execution_count": 29,
      "outputs": [
        {
          "output_type": "display_data",
          "data": {
            "image/png": "[encoded data removed]",
            "text/plain": [
              "<Figure size 432x288 with 1 Axes>"
            ]
          },
          "metadata": {
            "tags": [],
            "needs_background": "light"
          }
        },
        {
          "output_type": "display_data",
          "data": {
            "text/plain": [
              "<Figure size 432x288 with 0 Axes>"
            ]
          },
          "metadata": {
            "tags": []
          }
        }
      ]
    }
  ]
}
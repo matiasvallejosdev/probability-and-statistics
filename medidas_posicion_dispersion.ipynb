{
  "nbformat": 4,
  "nbformat_minor": 0,
  "metadata": {
    "colab": {
      "name": "PyE_medidas-posicion-y-dispercion.ipynb",
      "provenance": [],
      "authorship_tag": "ABX9TyPL/tbN/CfcCVU/TI9ig9O1",
      "include_colab_link": true
    },
    "kernelspec": {
      "name": "python3",
      "display_name": "Python 3"
    },
    "language_info": {
      "name": "python"
    }
  },
  "cells": [
    {
      "cell_type": "markdown",
      "metadata": {
        "id": "view-in-github",
        "colab_type": "text"
      },
      "source": [
        "<a href=\"https://colab.research.google.com/github/matiasvallejosdev/probabilidad-estadistica/blob/main/medidas_posicion_dispersion.ipynb\" target=\"_parent\"><img src=\"https://colab.research.google.com/assets/colab-badge.svg\" alt=\"Open In Colab\"/></a>"
      ]
    },
    {
      "cell_type": "markdown",
      "metadata": {
        "id": "ynebn4d78Qnd"
      },
      "source": [
        "# Medidas de posicion y dispercion\n",
        "Estadistica, Variable datos, Diagramas, Relacion entre Media, Mediana y Moda, Distribucion de intervalos de clases, Grafico de frecuencias acumuladas, Ojiva, Valores de dispercion, Coeficiente de variacion, Cuartiles y percentiles."
      ]
    },
    {
      "cell_type": "code",
      "metadata": {
        "id": "aizEgb0F7PcB"
      },
      "source": [
        "import numpy as np\n",
        "import pandas as pd\n",
        "import matplotlib.pyplot as plt\n",
        "from scipy import stats as st"
      ],
      "execution_count": 1,
      "outputs": []
    },
    {
      "cell_type": "markdown",
      "metadata": {
        "id": "Hrky5-8j8aVS"
      },
      "source": [
        "## Helper"
      ]
    },
    {
      "cell_type": "markdown",
      "metadata": {
        "id": "BlMSNRHC-qy1"
      },
      "source": [
        "#### Medias de posicion y dispersion\n",
        "\n",
        "1. Definir la muestra (X_muestra)\n",
        "2. Ejecutar celda de pandas\n",
        "3. Calcular rango\n",
        "4. Ejecutar medidas de posicion (Definiendo INTERVALO)\n",
        "5. Ejecutar medidas de dispersion"
      ]
    },
    {
      "cell_type": "code",
      "metadata": {
        "colab": {
          "base_uri": "https://localhost:8080/"
        },
        "id": "QOu_3Lhq-xxn",
        "outputId": "df49ab7a-27c9-49c1-87e4-51c97f7414dd"
      },
      "source": [
        "X_muestra = np.array([2,2,4,4,4,4,6,6,6,6,6,6,6,8,8,8,8,8,8,8,8,8,8,10,10,10,10,10,10,10,10,10,10,10,10,10,10,10,10,10,10,10,10,10,10,12,12,12,12,12,12,12,12,14,14,14,16,16,16,16])\n",
        "\n",
        "X_muestra = np.sort(X_muestra, axis=None)\n",
        "n = X_muestra.size\n",
        "\n",
        "print(\"Muestra: \", X_muestra)\n",
        "print(\"\\nTotal: \", n)\n",
        "print(\"Menor: \", np.min(X_muestra))\n",
        "print(\"Mayor: \", np.max(X_muestra))"
      ],
      "execution_count": 27,
      "outputs": [
        {
          "output_type": "stream",
          "text": [
            "Muestra:  [ 2  2  4  4  4  4  6  6  6  6  6  6  6  8  8  8  8  8  8  8  8  8  8 10\n",
            " 10 10 10 10 10 10 10 10 10 10 10 10 10 10 10 10 10 10 10 10 10 12 12 12\n",
            " 12 12 12 12 12 14 14 14 16 16 16 16]\n",
            "\n",
            "Total:  60\n",
            "Menor:  2\n",
            "Mayor:  16\n"
          ],
          "name": "stdout"
        }
      ]
    },
    {
      "cell_type": "code",
      "metadata": {
        "colab": {
          "base_uri": "https://localhost:8080/"
        },
        "id": "fwVVepmf-xxn",
        "outputId": "356419dc-953b-4292-c5d7-e54fb2555d1a"
      },
      "source": [
        "# Describe data (Quartiles, min, max, media, count)\n",
        "data = pd.Series(X_muestra)\n",
        "data.describe()"
      ],
      "execution_count": 28,
      "outputs": [
        {
          "output_type": "execute_result",
          "data": {
            "text/plain": [
              "count    60.000000\n",
              "mean      9.400000\n",
              "std       3.258366\n",
              "min       2.000000\n",
              "25%       8.000000\n",
              "50%      10.000000\n",
              "75%      10.500000\n",
              "max      16.000000\n",
              "dtype: float64"
            ]
          },
          "metadata": {
            "tags": []
          },
          "execution_count": 28
        }
      ]
    },
    {
      "cell_type": "code",
      "metadata": {
        "colab": {
          "base_uri": "https://localhost:8080/"
        },
        "id": "ztXxV227-xxn",
        "outputId": "c944464e-f070-437b-a227-c8902da4c8d3"
      },
      "source": [
        "# b) Tabla frecuencias\n",
        "# Muestra:\n",
        "\n",
        "R = np.max(X_muestra) - np.min(X_muestra)\n",
        "K = 1 + 3.322 * np.log10(X_muestra.size) # np.round(UP) or np.floor(DOWN)\n",
        "A = (R / K) \n",
        "\n",
        "print(\"Rango: \", R)\n",
        "print(\"\\nIntervalo: \", K)\n",
        "print(\"\\nAmplitud: \", A)"
      ],
      "execution_count": 29,
      "outputs": [
        {
          "output_type": "stream",
          "text": [
            "Rango:  14\n",
            "\n",
            "Intervalo:  6.907018453774464\n",
            "\n",
            "Amplitud:  2.0269237868257686\n"
          ],
          "name": "stdout"
        }
      ]
    },
    {
      "cell_type": "code",
      "metadata": {
        "colab": {
          "base_uri": "https://localhost:8080/"
        },
        "id": "AztHw3cP-xxo",
        "outputId": "82019090-1222-483d-ac22-4d83ef70440a"
      },
      "source": [
        "intervalo = np.array([1,3,5,7,9,11,13,15,17]) # Definir intervalo de clases\n",
        "\n",
        "frec, bins = np.histogram(X_muestra, bins=intervalo) # Frecuencia definida por numpy\n",
        "print(\"Frecuencia: \", frec)\n",
        "print(\"\\nIntervalo: \", bins)\n",
        "\n",
        "frec_relativa = frec / np.sum(X_muestra.size)\n",
        "print(\"\\nFrecuencia relativa: \", frec_relativa)\n",
        "\n",
        "frec_relativa_porcentual = frec_relativa * 100\n",
        "print(\"\\nFrecuencia relativa(%): \", frec_relativa_porcentual)"
      ],
      "execution_count": 31,
      "outputs": [
        {
          "output_type": "stream",
          "text": [
            "Frecuencia:  [ 2  4  7 10 22  8  3  4]\n",
            "\n",
            "Intervalo:  [ 1  3  5  7  9 11 13 15 17]\n",
            "\n",
            "Frecuencia relativa:  [0.03333333 0.06666667 0.11666667 0.16666667 0.36666667 0.13333333\n",
            " 0.05       0.06666667]\n",
            "\n",
            "Frecuencia relativa(%):  [ 3.33333333  6.66666667 11.66666667 16.66666667 36.66666667 13.33333333\n",
            "  5.          6.66666667]\n"
          ],
          "name": "stdout"
        }
      ]
    },
    {
      "cell_type": "code",
      "metadata": {
        "colab": {
          "base_uri": "https://localhost:8080/"
        },
        "id": "IRLeEDaf-xxo",
        "outputId": "1bb282be-01f7-4bcd-9b61-04b3dadb0679"
      },
      "source": [
        "# c) \n",
        "# Media mediana y moda\n",
        "# Muestra \n",
        "\n",
        "media = (np.sum(X_muestra) / np.sum(frec))\n",
        "print(\"Media: \", media)\n",
        "\n",
        "print(\"\\nMediana: \", np.median(X_muestra))\n",
        "\n",
        "moda = st.mode(X_muestra)\n",
        "print(\"\\nModa: \", moda)"
      ],
      "execution_count": 32,
      "outputs": [
        {
          "output_type": "stream",
          "text": [
            "Media:  9.4\n",
            "\n",
            "Mediana:  10.0\n",
            "\n",
            "Moda:  ModeResult(mode=array([10]), count=array([22]))\n"
          ],
          "name": "stdout"
        }
      ]
    },
    {
      "cell_type": "code",
      "metadata": {
        "colab": {
          "base_uri": "https://localhost:8080/"
        },
        "id": "PVUspwEv-xxo",
        "outputId": "0dafe2de-8a39-488a-830d-e18de0fb921c"
      },
      "source": [
        "# Valores de dispercion\n",
        "dm = np.sum(np.abs(X_muestra - media)) / X_muestra.size # la suma del valor absouluto menos el promedio dividido entre el tamaño de muestra\n",
        "print(\"\\nDesviacion media: \", dm)\n",
        "\n",
        "S = np.sum(np.square(X_muestra - media)) / X_muestra.size # Varianza\n",
        "print(\"\\nVarianza: \", S)\n",
        "\n",
        "de = np.sqrt(S) # Desvio estandar\n",
        "print(\"\\nDesvio estandar: \", r)\n",
        "\n",
        "coeficientevar = (de / media) * 100\n",
        "print(\"\\nCoeficiente de variacion: \", coeficientevar)"
      ],
      "execution_count": 33,
      "outputs": [
        {
          "output_type": "stream",
          "text": [
            "\n",
            "Desviacion media:  2.473333333333333\n",
            "\n",
            "Varianza:  10.439999999999998\n",
            "\n",
            "Desvio estandar:  6.317467847167883\n",
            "\n",
            "Coeficiente de variacion:  34.37339238596492\n"
          ],
          "name": "stdout"
        }
      ]
    },
    {
      "cell_type": "code",
      "metadata": {
        "colab": {
          "base_uri": "https://localhost:8080/",
          "height": 279
        },
        "id": "i1yNppuY-xxo",
        "outputId": "930d7e8c-d904-4ea6-f494-c9622af5d7ff"
      },
      "source": [
        "# Histograma de frecuencias\n",
        "\n",
        "plt.hist(X_muestra, bins=intervalo, alpha=0.8)\n",
        "plt.grid(True)\n",
        "plt.xlabel(\"Cantidad de minutos(tiempo)\")\n",
        "plt.ylabel(\"Frecuencia\")\n",
        "\n",
        "# Pie de frecuencias\n",
        "# fig, ax = plt.subplots(figsize=(7,7))\n",
        "# ax.pie(frec, labels=[1, 2, 3, 4, 5], autopct='%.2f%%',shadow=True, labeldistance=1.1)\n",
        "plt.show()"
      ],
      "execution_count": 34,
      "outputs": [
        {
          "output_type": "display_data",
          "data": {
            "image/png": "[encoded data removed]",
            "text/plain": [
              "<Figure size 432x288 with 1 Axes>"
            ]
          },
          "metadata": {
            "tags": [],
            "needs_background": "light"
          }
        }
      ]
    },
    {
      "cell_type": "code",
      "metadata": {
        "id": "nq-RMhRrDqaR",
        "colab": {
          "base_uri": "https://localhost:8080/",
          "height": 282
        },
        "outputId": "886cd82c-d746-431a-a70b-f9accd445bc7"
      },
      "source": [
        "# Histograma de frecuencias acumuladas\n",
        " \n",
        "plt.hist(X_muestra, bins=intervalo, cumulative=True, alpha=0.8)\n",
        "plt.grid(True)\n",
        "plt.show()\n",
        "plt.clf()"
      ],
      "execution_count": 12,
      "outputs": [
        {
          "output_type": "display_data",
          "data": {
            "image/png": "[encoded data removed]",
            "text/plain": [
              "<Figure size 432x288 with 1 Axes>"
            ]
          },
          "metadata": {
            "tags": [],
            "needs_background": "light"
          }
        },
        {
          "output_type": "display_data",
          "data": {
            "text/plain": [
              "<Figure size 432x288 with 0 Axes>"
            ]
          },
          "metadata": {
            "tags": []
          }
        }
      ]
    },
    {
      "cell_type": "code",
      "metadata": {
        "colab": {
          "base_uri": "https://localhost:8080/",
          "height": 279
        },
        "id": "4PjtWuBJ-xxo",
        "outputId": "6c1aaa42-2724-4d95-cd6f-337b33b40001"
      },
      "source": [
        "# Poligono de frecuencias acumuladas (Ojiva)\n",
        "\n",
        "frec_acumulada = np.array([0, 6, 17, 25, 35, 43, 50]) # Frecuencia acumulada **definir\n",
        "\n",
        "plt.plot(intervalo, frec_acumulada, c='r', marker='o', ms=10, mfc='blue')\n",
        "plt.xlabel('Intervalo de clases')\n",
        "plt.ylabel('Frecuencia acumulada')\n",
        "\n",
        "#plt.savefig('Actividad 3 Ojiva (Muestra).png')\n",
        "plt.show()"
      ],
      "execution_count": 25,
      "outputs": [
        {
          "output_type": "display_data",
          "data": {
            "image/png": "[encoded data removed]",
            "text/plain": [
              "<Figure size 432x288 with 1 Axes>"
            ]
          },
          "metadata": {
            "tags": [],
            "needs_background": "light"
          }
        }
      ]
    },
    {
      "cell_type": "code",
      "metadata": {
        "colab": {
          "base_uri": "https://localhost:8080/"
        },
        "id": "w61wJRfD-xxo",
        "outputId": "037eb568-2a58-48cb-b4cd-11ef8d0a2ff6"
      },
      "source": [
        "# Quartiles\n",
        "Q3 = 3 * np.sum(frec) / 4\n",
        "print(\"Posicion Q3: \", Q3)\n",
        "\n",
        "Q2 = 2 * np.sum(frec) / 4\n",
        "print(\"Posicion Q2: \", Q2)\n",
        "\n",
        "Q1 = 1 * np.sum(frec) / 4\n",
        "print(\"Posicion Q1: \", Q1)\n",
        "\n",
        "print(\"\\nValor Q3: \", np.percentile(X_muestra, 75))\n",
        "print(\"Valor Q2: \", np.percentile(X_muestra, 50))\n",
        "print(\"Valor Q1: \", np.percentile(X_muestra, 25))"
      ],
      "execution_count": 26,
      "outputs": [
        {
          "output_type": "stream",
          "text": [
            "Posicion Q3:  37.5\n",
            "Posicion Q2:  25.0\n",
            "Posicion Q1:  12.5\n",
            "\n",
            "Valor Q3:  35.0\n",
            "Valor Q2:  30.5\n",
            "Valor Q1:  25.25\n"
          ],
          "name": "stdout"
        }
      ]
    },
    {
      "cell_type": "code",
      "metadata": {
        "colab": {
          "base_uri": "https://localhost:8080/"
        },
        "id": "eLy_2hQk-xxo",
        "outputId": "ee95a02c-b994-4ef3-d252-5cb4ec6c23a6"
      },
      "source": [
        "# Percentiles \n",
        "print(np.percentile(X_muestra, [0, 10, 20, 30, 40, 50, 60, 70 ,80, 90, 100]))"
      ],
      "execution_count": null,
      "outputs": [
        {
          "output_type": "stream",
          "text": [
            "[0.2  0.4  0.6  0.8  1.   1.1  1.3  1.63 1.82 2.53 5.2 ]\n"
          ],
          "name": "stdout"
        }
      ]
    },
    {
      "cell_type": "code",
      "metadata": {
        "id": "R_eZKPhxI_lN"
      },
      "source": [
        ""
      ],
      "execution_count": null,
      "outputs": []
    },
    {
      "cell_type": "markdown",
      "metadata": {
        "id": "mZLj35Qh-6fR"
      },
      "source": [
        "#### Media, Mediana y Moda"
      ]
    },
    {
      "cell_type": "code",
      "metadata": {
        "colab": {
          "base_uri": "https://localhost:8080/"
        },
        "id": "R7RxwQi98imF",
        "outputId": "1a0e0a1f-4ceb-4033-bd5c-cc314f29c3cd"
      },
      "source": [
        "# Media, mediana y moda\n",
        "\n",
        "x = np.array([42,47,53,47,50,45,46,48,41,49,45,40,54])\n",
        "print('Data: {}'.format(x))\n",
        "\n",
        "media = np.sum(x) / len(x)\n",
        "print('Media: {}'.format(media))\n",
        "\n",
        "mediana = np.median(x)\n",
        "print('Mediana: {}'.format(mediana))\n",
        "\n",
        "moda = st.mode(x)\n",
        "print('Moda: {} / {}'.format(moda.mode, moda.count))"
      ],
      "execution_count": null,
      "outputs": [
        {
          "output_type": "stream",
          "text": [
            "Data: [42 47 53 47 50 45 46 48 41 49 45 40 54]\n",
            "Media: 46.69230769230769\n",
            "Mediana: 47.0\n",
            "Moda: [45] / [2]\n"
          ],
          "name": "stdout"
        }
      ]
    },
    {
      "cell_type": "markdown",
      "metadata": {
        "id": "NGDzgG7uvNlf"
      },
      "source": [
        "#### Histograma de frecuencias"
      ]
    },
    {
      "cell_type": "code",
      "metadata": {
        "id": "Ev4_NJiVf7Yn"
      },
      "source": [
        "# Histograma de frecuencias\n",
        "x = np.array([2,2,4,4,4,4,6,6,6,6,6,6,8,8,8,8,8,8,8,8,8,8,9,10,10,10,10,10,10,10,10,10,10,10,10,10,10,10,10,10,10,10,10,10,10,12,12,12,12,12,12,12,12,14,14,14,16,16,16,16])\n",
        "frec = np.array([2,4,7,10,22,8,3,4])\n",
        "\n",
        "intervalo = np.array([1,3,5,7,9,11,13,15,17])\n",
        "\n",
        "# Muestra\n",
        "plt.hist(x, bins=intervalo)\n",
        "plt.grid(True)\n",
        "plt.xlabel(\"Cantidad de minutos(tiempo)\")\n",
        "plt.ylabel(\"Frecuencia\")\n",
        "\n",
        "plt.savefig('Actividad d) parcial-histograma')\n",
        "\n",
        "# Pie de frecuencias\n",
        "fig, ax = plt.subplots(figsize=(7,7))\n",
        "ax.pie(frec, labels=[1, 2, 3, 4, 5, 6, 7, 8], autopct='%.2f%%',shadow=True, labeldistance=1.1)\n",
        "\n",
        "plt.savefig('Actividad d) parcial-pie')\n",
        "\n",
        "plt.show()"
      ],
      "execution_count": null,
      "outputs": []
    },
    {
      "cell_type": "markdown",
      "metadata": {
        "id": "vIkLn7xxJVv0"
      },
      "source": [
        "## TID (Sp1 a Sp8)"
      ]
    },
    {
      "cell_type": "markdown",
      "metadata": {
        "id": "f8r15Ew7-Pa6"
      },
      "source": [
        "### Sp1 / h2 : variable datos"
      ]
    },
    {
      "cell_type": "markdown",
      "metadata": {
        "id": "trmZtAKa-gTw"
      },
      "source": [
        "#### Valores estadisticos:"
      ]
    },
    {
      "cell_type": "code",
      "metadata": {
        "colab": {
          "base_uri": "https://localhost:8080/"
        },
        "id": "KgTX--Ty-Uyp",
        "outputId": "a966f661-1e3c-447f-97b8-35f5d42a974f"
      },
      "source": [
        "edad = pd.array([16,16,16,17,17,17,17,17,17,18,18,18,19,20])\n",
        "\n",
        "lenArray = len(edad)\n",
        "\n",
        "media = np.sum(edad) / len(edad)\n",
        "mediana = 17 #impar\n",
        "moda = 17 #repeticion 6 veces\n",
        "\n",
        "print(\"Cantidad de datos:\", lenArray)\n",
        "print(\"Media edad:\", media)\n",
        "print(\"Mediana edad:\", mediana)\n",
        "print(\"Moda edad:\", moda)"
      ],
      "execution_count": null,
      "outputs": [
        {
          "output_type": "stream",
          "text": [
            "Cantidad de datos: 14\n",
            "Media edad: 17.357142857142858\n",
            "Mediana edad: 17\n",
            "Moda edad: 17\n"
          ],
          "name": "stdout"
        }
      ]
    },
    {
      "cell_type": "code",
      "metadata": {
        "colab": {
          "base_uri": "https://localhost:8080/"
        },
        "id": "5CKyMQLL-bpK",
        "outputId": "54746a40-e43a-4f4e-effc-42e072e97594"
      },
      "source": [
        "# x = max - min\n",
        "rango = 20 - 16\n",
        "# x = (x - m)2 / media\n",
        "varianza = np.sum(np.square(edad - media)) / lenArray\n",
        "# x = _/varianza\n",
        "desviacionEstandar = np.sqrt(varianza)\n",
        "# x = desviacionEstandar / media\n",
        "coeficienteVariacion = (desviacionEstandar / media) * 100\n",
        "\n",
        "print(\"Rango edad:\", rango)\n",
        "print(\"Desviacion estandar edad:\", desviacionEstandar)\n",
        "print(\"Varianza edad:\", varianza)\n",
        "print(\"Coeficiente variacion: \" + str(coeficienteVariacion) + \"%\")"
      ],
      "execution_count": null,
      "outputs": [
        {
          "output_type": "stream",
          "text": [
            "Rango edad: 4\n",
            "Desviacion estandar edad: 1.1088696211614302\n",
            "Varianza edad: 1.2295918367346936\n",
            "Coeficiente variacion: 6.3885492577201735%\n"
          ],
          "name": "stdout"
        }
      ]
    },
    {
      "cell_type": "markdown",
      "metadata": {
        "id": "BIkDe1l5-jVq"
      },
      "source": [
        "#### Serie de frecuencias:"
      ]
    },
    {
      "cell_type": "code",
      "metadata": {
        "colab": {
          "base_uri": "https://localhost:8080/"
        },
        "id": "GNJEVeGr-oSh",
        "outputId": "692ad71a-e032-4302-9c41-41ecb4943ed2"
      },
      "source": [
        "# 16, 18, 14, 15, 17\n",
        "# 14, 19, 18, 20, 21\n",
        "# 17, 15. 16. 18, 16\n",
        "# 18, 17, 15, 19, 18\n",
        "# 17, 20, 18, 20, 17\n",
        "# 18, 19, 21, 18, 19\n",
        "\n",
        "x = np.array([14,15,16,17,18,19,20,21])\n",
        "print('\\nDatos:', x)\n",
        "\n",
        "f = np.array([2, 3, 3, 5, 8, 4, 3, 2])      # 30\n",
        "print('\\nTotal frecuencia:', np.sum(f))\n",
        "print('\\nFrecuencia:', f)\n",
        "\n",
        "fr = f / np.sum(f)\n",
        "p = np.dot(np.sum(fr), 100)\n",
        "\n",
        "print('\\nFrecuencia relativa:', fr)\n",
        "print('\\nPorcentaje:', p)"
      ],
      "execution_count": null,
      "outputs": [
        {
          "output_type": "stream",
          "text": [
            "\n",
            "Datos: [14 15 16 17 18 19 20 21]\n",
            "\n",
            "Total frecuencia: 30\n",
            "\n",
            "Frecuencia: [2 3 3 5 8 4 3 2]\n",
            "\n",
            "Frecuencia relativa: [0.06666667 0.1        0.1        0.16666667 0.26666667 0.13333333\n",
            " 0.1        0.06666667]\n",
            "\n",
            "Porcentaje: 100.0\n"
          ],
          "name": "stdout"
        }
      ]
    },
    {
      "cell_type": "markdown",
      "metadata": {
        "id": "V4tGwHve-snh"
      },
      "source": [
        "#### Serie de frecuencias por intervalos agrupados:"
      ]
    },
    {
      "cell_type": "code",
      "metadata": {
        "colab": {
          "base_uri": "https://localhost:8080/"
        },
        "id": "1nHkK8NT-yFy",
        "outputId": "bc39a4cf-d27e-4763-c51d-5f0c6cf6ea78"
      },
      "source": [
        "X = np.array([[22, 19, 16, 13, 18, 15, 20, 14, 15, 16], [15, 16, 20, 13, 15, 18, 15, 13, 18, 15]])\n",
        "print('Data: {}'.format(X))\n",
        "\n",
        "datos = X.shape[1] * X.shape[0]\n",
        "print('Shape[1] * Shape[0]: {}'.format(datos)) # Lenght of X\n",
        "\n",
        "rango = 22 - 13\n",
        "print('Rango: {}'.format(rango))\n",
        "\n",
        "intervalos = 1 + 3.322 * np.log10(datos)\n",
        "print('Intervalos: {}'.format(intervalos))\n",
        "\n",
        "amplitud = rango / intervalos\n",
        "print('Amplitud: {}'.format(amplitud))"
      ],
      "execution_count": null,
      "outputs": [
        {
          "output_type": "stream",
          "text": [
            "Data: [[22 19 16 13 18 15 20 14 15 16]\n",
            " [15 16 20 13 15 18 15 13 18 15]]\n",
            "Shape[1] * Shape[0]: 20\n",
            "Rango: 9\n",
            "Intervalos: 5.322021645595746\n",
            "Amplitud: 1.6910866958701634\n"
          ],
          "name": "stdout"
        }
      ]
    },
    {
      "cell_type": "code",
      "metadata": {
        "id": "Fbiz8WA9VimM"
      },
      "source": [
        ""
      ],
      "execution_count": null,
      "outputs": []
    },
    {
      "cell_type": "markdown",
      "metadata": {
        "id": "BlKemL8Y_Ig4"
      },
      "source": [
        "### Sp2 / h1 : diagramas"
      ]
    },
    {
      "cell_type": "code",
      "metadata": {
        "colab": {
          "base_uri": "https://localhost:8080/"
        },
        "id": "MjZ99cHo_Qmn",
        "outputId": "e8987c75-bb23-4977-e739-5bdc60b7cc2d"
      },
      "source": [
        "# Define datos\n",
        "\n",
        "x = np.array([19, 19,20, 20, 20, 20, 20, 20, 21, 21, 21, 21, 21, 21, 21 ,21 ,21 ,22, 22, 22, 22, 22 ,22 ,22, 23, 23, 23, 24, 24, 25])\n",
        "print(x)"
      ],
      "execution_count": null,
      "outputs": [
        {
          "output_type": "stream",
          "text": [
            "[19 19 20 20 20 20 20 20 21 21 21 21 21 21 21 21 21 22 22 22 22 22 22 22\n",
            " 23 23 23 24 24 25]\n"
          ],
          "name": "stdout"
        }
      ]
    },
    {
      "cell_type": "code",
      "metadata": {
        "colab": {
          "base_uri": "https://localhost:8080/"
        },
        "id": "Djv0NdNh_UXQ",
        "outputId": "584aa2c6-3d28-4037-846e-ea87387b89e7"
      },
      "source": [
        "# Serie de frecuencias\n",
        "\n",
        "xmarca = np.array([20, 22, 24])\n",
        "frec = np.array([2,6,9,7,3,2,1]) # frecuencia intervalo 1\n",
        "\n",
        "frecrelativa = frec / np.sum(frec) # frecuencia relativa ^\n",
        "\n",
        "frecabsoluta = np.array([2, 8, 15, 23, 26, 28, 29]) # frecuencia absoluta\n",
        "\n",
        "intervalo1 = np.array([19,20,21,22,23,24,25]) # intervalo 1\n",
        "\n",
        "print(xmarca)\n",
        "print(frec)\n",
        "print(frecrelativa)\n",
        "print(frecabsoluta)\n",
        "print(intervalo1)"
      ],
      "execution_count": null,
      "outputs": [
        {
          "output_type": "stream",
          "text": [
            "[20 22 24]\n",
            "[2 6 9 7 3 2 1]\n",
            "[0.06666667 0.2        0.3        0.23333333 0.1        0.06666667\n",
            " 0.03333333]\n",
            "[ 2  8 15 23 26 28 29]\n",
            "[19 20 21 22 23 24 25]\n"
          ],
          "name": "stdout"
        }
      ]
    },
    {
      "cell_type": "code",
      "metadata": {
        "colab": {
          "base_uri": "https://localhost:8080/"
        },
        "id": "JNQ3UQUZ_Wag",
        "outputId": "8c9c011f-9f82-4320-8e6e-7b51e71c1c22"
      },
      "source": [
        "# Serie de frecuencias por intervalos procedimientos\n",
        "\n",
        "rango = np.max(x) - np.min(x) \n",
        "intervalo = np.floor(1 + 3.322 * np.log10(len(x)))\n",
        "amplitud = rango / intervalo\n",
        "\n",
        "intervalo2 = np.array([[19, 21], [21, 23], [23, 25]]) # intervalo 2.0\n",
        "\n",
        "print(rango)\n",
        "print(intervalo)\n",
        "print(amplitud)\n",
        "print(intervalo2)"
      ],
      "execution_count": null,
      "outputs": [
        {
          "output_type": "stream",
          "text": [
            "6\n",
            "5.0\n",
            "1.2\n",
            "[[19 21]\n",
            " [21 23]\n",
            " [23 25]]\n"
          ],
          "name": "stdout"
        }
      ]
    },
    {
      "cell_type": "code",
      "metadata": {
        "colab": {
          "base_uri": "https://localhost:8080/"
        },
        "id": "xwUW6vZN_Yq4",
        "outputId": "26d70065-2927-4a00-e358-f45efdd2914e"
      },
      "source": [
        "# Histograma en numpy\n",
        "a = np.arange(len(frec))\n",
        "hist = np.histogram(x)\n",
        "\n",
        "print(a)\n",
        "print(hist[0]) # frecuencia intervalo 0.6\n",
        "print(hist[1]) # intervalo 0.6"
      ],
      "execution_count": null,
      "outputs": [
        {
          "output_type": "stream",
          "text": [
            "[0 1 2 3 4 5 6]\n",
            "[2 6 0 9 0 7 3 0 2 1]\n",
            "[19.  19.6 20.2 20.8 21.4 22.  22.6 23.2 23.8 24.4 25. ]\n"
          ],
          "name": "stdout"
        }
      ]
    },
    {
      "cell_type": "markdown",
      "metadata": {
        "id": "Quz1499WAHFO"
      },
      "source": [
        "#### Diagrama de barras:"
      ]
    },
    {
      "cell_type": "code",
      "metadata": {
        "colab": {
          "base_uri": "https://localhost:8080/"
        },
        "id": "LlUIj86V_nQx",
        "outputId": "39a73dd4-246f-4e7b-8407-d6b8c62f2d71"
      },
      "source": [
        "fig, ax = plt.subplots(figsize=(8,5))\n",
        "ax.bar(a,frec,width=0.5, hatch='/', edgecolor='black', ls='--', linewidth=3, color='orange')"
      ],
      "execution_count": null,
      "outputs": [
        {
          "output_type": "execute_result",
          "data": {
            "text/plain": [
              "<BarContainer object of 7 artists>"
            ]
          },
          "metadata": {
            "tags": []
          },
          "execution_count": 152
        },
        {
          "output_type": "display_data",
          "data": {
            "image/png": "[encoded data removed]",
            "text/plain": [
              "<Figure size 576x360 with 1 Axes>"
            ]
          },
          "metadata": {
            "tags": [],
            "needs_background": "light"
          }
        }
      ]
    },
    {
      "cell_type": "markdown",
      "metadata": {
        "id": "vWRmC14rAD5w"
      },
      "source": [
        "#### Pie:"
      ]
    },
    {
      "cell_type": "code",
      "metadata": {
        "colab": {
          "base_uri": "https://localhost:8080/"
        },
        "id": "knMHwOGj_xlp",
        "outputId": "b60d7134-ef8e-4814-ae1b-8158ad543ce0"
      },
      "source": [
        "fig, ax = plt.subplots(figsize=(8,8))\n",
        "ax.pie(frec, autopct='%.2f%%',shadow=True, labeldistance=1.1)"
      ],
      "execution_count": null,
      "outputs": [
        {
          "output_type": "execute_result",
          "data": {
            "text/plain": [
              "([<matplotlib.patches.Wedge at 0x7f2a710d4ed0>,\n",
              "  <matplotlib.patches.Wedge at 0x7f2a710d4290>,\n",
              "  <matplotlib.patches.Wedge at 0x7f2a71735390>,\n",
              "  <matplotlib.patches.Wedge at 0x7f2a7099cf50>,\n",
              "  <matplotlib.patches.Wedge at 0x7f2a70e4aad0>,\n",
              "  <matplotlib.patches.Wedge at 0x7f2a7093ab90>,\n",
              "  <matplotlib.patches.Wedge at 0x7f2a7093add0>],\n",
              " [Text(1.075962358309037, 0.22870287165240302, ''),\n",
              "  Text(0.5499999702695115, 0.9526279613277875, ''),\n",
              "  Text(-0.9526279870751434, 0.5499999256737774, ''),\n",
              "  Text(-0.44741018820837447, -1.0049000564669837, ''),\n",
              "  Text(0.646563890003987, -0.8899186120892812, ''),\n",
              "  Text(1.0049000669393746, -0.4474101646869913, ''),\n",
              "  Text(1.093974103116432, -0.11498113632504307, '')],\n",
              " [Text(0.5868885590776565, 0.12474702090131072, '6.67%'),\n",
              "  Text(0.2999999837833699, 0.5196152516333385, '20.00%'),\n",
              "  Text(-0.5196152656773508, 0.299999959458424, '30.00%'),\n",
              "  Text(-0.24404192084093151, -0.5481273035274455, '23.33%'),\n",
              "  Text(0.3526712127294474, -0.48541015204869875, '10.00%'),\n",
              "  Text(0.5481273092396588, -0.2440419080110861, '6.67%'),\n",
              "  Text(0.5967131471544175, -0.06271698345002348, '3.33%')])"
            ]
          },
          "metadata": {
            "tags": []
          },
          "execution_count": 153
        },
        {
          "output_type": "display_data",
          "data": {
            "image/png": "[encoded data removed]",
            "text/plain": [
              "<Figure size 576x576 with 1 Axes>"
            ]
          },
          "metadata": {
            "tags": []
          }
        }
      ]
    },
    {
      "cell_type": "markdown",
      "metadata": {
        "id": "WfaU8Gm3AAvX"
      },
      "source": [
        "#### Histogramas:"
      ]
    },
    {
      "cell_type": "code",
      "metadata": {
        "colab": {
          "base_uri": "https://localhost:8080/"
        },
        "id": "TDjL3tBh_1Xo",
        "outputId": "c7f9dbca-ff76-42a0-e8b7-431f54167e1e"
      },
      "source": [
        "plt.hist(x, bins=intervalo1)\n",
        "plt.grid(True)\n",
        "plt.show()\n",
        "plt.clf()"
      ],
      "execution_count": null,
      "outputs": [
        {
          "output_type": "display_data",
          "data": {
            "image/png": "[encoded data removed]",
            "text/plain": [
              "<Figure size 432x288 with 1 Axes>"
            ]
          },
          "metadata": {
            "tags": [],
            "needs_background": "light"
          }
        },
        {
          "output_type": "display_data",
          "data": {
            "text/plain": [
              "<Figure size 432x288 with 0 Axes>"
            ]
          },
          "metadata": {
            "tags": []
          }
        }
      ]
    },
    {
      "cell_type": "markdown",
      "metadata": {
        "id": "OFhSuZKSVYyY"
      },
      "source": [
        "### Sp3 / h1 : distribucion de intervalos de clases"
      ]
    },
    {
      "cell_type": "code",
      "metadata": {
        "id": "o4IkhdeMVlDZ",
        "colab": {
          "base_uri": "https://localhost:8080/"
        },
        "outputId": "dc27c149-e789-42bb-9989-29177faa48c5"
      },
      "source": [
        "# Mayor > 20\n",
        "X = np.array([[22, 19, 16, 13, 18, 15, 20, 14, 15, 16], [15, 16, 20, 13, 15, 18, 15, 13, 18, 15]])\n",
        "print(X)\n",
        "\n",
        "count = X.shape[0] * X.shape[1] # total\n",
        "print(count)\n",
        "\n",
        "rango = np.max(X) - np.min(X) # rango\n",
        "print(rango)\n",
        "\n",
        "z = 1 + 3.322 * np.log10(count) # intervalo\n",
        "print(z)\n",
        "\n",
        "A = rango / z # amplitud\n",
        "print(A)"
      ],
      "execution_count": null,
      "outputs": [
        {
          "output_type": "stream",
          "text": [
            "[[22 19 16 13 18 15 20 14 15 16]\n",
            " [15 16 20 13 15 18 15 13 18 15]]\n",
            "20\n",
            "9\n",
            "5.322021645595746\n",
            "1.6910866958701634\n"
          ],
          "name": "stdout"
        }
      ]
    },
    {
      "cell_type": "code",
      "metadata": {
        "id": "iQ-XFRdSXj99",
        "colab": {
          "base_uri": "https://localhost:8080/"
        },
        "outputId": "6281dd16-416a-4ad2-9e9b-1b7057b1f31d"
      },
      "source": [
        "Xe = np.array([[58, 50, 56, 56, 58],\n",
        "              [58, 56, 63, 50, 63],\n",
        "              [68, 63, 64, 64, 53],\n",
        "              [60, 68, 65, 63, 61],\n",
        "              [55, 65, 56, 63, 52],\n",
        "              [57, 60, 59, 58, 64]])\n",
        "print(Xe)\n",
        "\n",
        "r = np.max(Xe) - np.min(Xe)\n",
        "print(\"\\nRango: \", r)\n",
        "\n",
        "z = np.floor(1 + 3.332 * np.log10(Xe.size)) # Redondeamos a impar (np.floor)\n",
        "print(\"\\nIntervalos: \", z)\n",
        "\n",
        "A = np.round(r / z) # Redondeamos al mas cercano (np.round)\n",
        "print(\"\\nAmplitud:\", A)\n",
        "\n",
        "Nr = (A * z) - r # Nuevo rango\n",
        "print(\"\\nNuevo rango: \", Nr)"
      ],
      "execution_count": null,
      "outputs": [
        {
          "output_type": "stream",
          "text": [
            "[[58 50 56 56 58]\n",
            " [58 56 63 50 63]\n",
            " [68 63 64 64 53]\n",
            " [60 68 65 63 61]\n",
            " [55 65 56 63 52]\n",
            " [57 60 59 58 64]]\n",
            "\n",
            "Rango:  18\n",
            "\n",
            "Intervalos:  5.0\n",
            "\n",
            "Amplitud: 4.0\n",
            "\n",
            "Nuevo rango:  2.0\n"
          ],
          "name": "stdout"
        }
      ]
    },
    {
      "cell_type": "code",
      "metadata": {
        "id": "HTGjQ2aaX0j_",
        "colab": {
          "base_uri": "https://localhost:8080/"
        },
        "outputId": "7f26f295-4500-484e-e7b7-b3bfd7d5e7cc"
      },
      "source": [
        "rang = np.array([49, 53, 57, 61, 65, 69]) # Rango\n",
        "print(rang)\n",
        "\n",
        "Xi = np.array([51, 55, 59, 63, 67]) # lI - LS / 2 (Promedio marca de clase)\n",
        "print(Xi)\n",
        "\n",
        "f = np.array([3, 6, 8, 9, 4]) # Frecuencia (rango 4) f > X\n",
        "print(f) # == total\n",
        "\n",
        "frec, bins_edge = np.histogram(Xe, bins = rang) # Frecuencia definida por numpy\n",
        "print(np.sum(frec)) \n",
        "\n",
        "fr = frec / np.sum(Xe.size) # Frecuencia relativa f1 / n\n",
        "print(fr) # == 1\n",
        "\n",
        "fA = np.array([3,9,17,26,30]) # Acumulacion de frecuencias \n",
        "print(fA) # == (3, 3+9, 3+9+8, 3+9+8+9, 3+9+8+9+4) "
      ],
      "execution_count": null,
      "outputs": [
        {
          "output_type": "stream",
          "text": [
            "[49 53 57 61 65 69]\n",
            "[51 55 59 63 67]\n",
            "[3 6 8 9 4]\n",
            "30\n",
            "[0.1        0.2        0.26666667 0.3        0.13333333]\n",
            "[ 3  9 17 26 30]\n"
          ],
          "name": "stdout"
        }
      ]
    },
    {
      "cell_type": "markdown",
      "metadata": {
        "id": "yKQpdimRVmBR"
      },
      "source": [
        "### Sp4 / h1 : frecuencia acumulada"
      ]
    },
    {
      "cell_type": "code",
      "metadata": {
        "id": "Riv5OxswWGBR"
      },
      "source": [
        ""
      ],
      "execution_count": null,
      "outputs": []
    },
    {
      "cell_type": "markdown",
      "metadata": {
        "id": "idYubZLWWIeS"
      },
      "source": [
        "### Sp5 / h1 : valores de dispersion (Tabla frecuencia: valores agrupados)"
      ]
    },
    {
      "cell_type": "markdown",
      "metadata": {
        "id": "JfLyfgiGYJeG"
      },
      "source": [
        "**Formulas:**\n",
        "\n",
        "- [Media](http://tid.ies21.edu.ar/145/me/105_145_mm.jpg)\n",
        "- [Desvio Medio](http://tid.ies21.edu.ar/145/me/108_145_mm.jpg)\n",
        "- [Varianza](http://tid.ies21.edu.ar/145/me/109_145_mm.jpg)\n",
        "- [Desvio estandar](http://tid.ies21.edu.ar/145/me/113_145_mm.jpg)"
      ]
    },
    {
      "cell_type": "code",
      "metadata": {
        "id": "t29-3eiVWNJw",
        "colab": {
          "base_uri": "https://localhost:8080/"
        },
        "outputId": "6cac98c7-b187-4f1f-f1fb-7d2431af8cbf"
      },
      "source": [
        "# Rango == Max - Min\n",
        "# Desviacion media == ∑ Xi - X / n\n",
        "\n",
        "e = np.array([3,0,1,0,2,0,1])\n",
        "print(\"\\nDatos: \", e)\n",
        "\n",
        "p = np.sum(e) / e.size\n",
        "print(\"\\nPromedio: \", p)\n",
        "\n",
        "dm = np.sum(np.abs(e - p)) / e.size # la suma del valor absouluto menos el promedio dividido entre el tamaño\n",
        "print(\"\\nDesviacion media: \", dm)"
      ],
      "execution_count": null,
      "outputs": [
        {
          "output_type": "stream",
          "text": [
            "\n",
            "Datos:  [3 0 1 0 2 0 1]\n",
            "\n",
            "Promedio:  1.0\n",
            "\n",
            "Desviacion media:  0.8571428571428571\n"
          ],
          "name": "stdout"
        }
      ]
    },
    {
      "cell_type": "code",
      "metadata": {
        "id": "rW-QyUNxYAvv",
        "colab": {
          "base_uri": "https://localhost:8080/"
        },
        "outputId": "989edbb0-665d-4f99-a53f-34c90adfde44"
      },
      "source": [
        "# Varianza  ==    ∑ (Xi - X) ** 2 / n    |o|     ∑ (Xi - X) ** 2 / (n - 1)       \n",
        "# Desvio estandar ==  _/varianza\n",
        "\n",
        "e = np.array([5,6,6,7,8]) # Datos\n",
        "print(\"\\nDatos: \", e)\n",
        "\n",
        "p = np.sum(e) / e.size # Promedio\n",
        "print(\"\\nPromedio: \", p)\n",
        "\n",
        "S = np.sum(np.square(e - p)) / e.size # Varianza\n",
        "print(\"\\nVarianza^2: \", S)\n",
        "\n",
        "r = np.sqrt(S) # Desvio estandar\n",
        "print(\"\\nDesvio estandar: \", r)"
      ],
      "execution_count": null,
      "outputs": [
        {
          "output_type": "stream",
          "text": [
            "\n",
            "Datos:  [5 6 6 7 8]\n",
            "\n",
            "Promedio:  6.4\n",
            "\n",
            "Varianza^2:  1.0399999999999998\n",
            "\n",
            "Desvio estandar:  1.0198039027185568\n"
          ],
          "name": "stdout"
        }
      ]
    },
    {
      "cell_type": "markdown",
      "metadata": {
        "id": "85lf5_C2WNYx"
      },
      "source": [
        "### Sp6 / h1 : coeficiente de variacion (Tabla frecuencia: valores agrupados)"
      ]
    },
    {
      "cell_type": "markdown",
      "metadata": {
        "id": "a_GePvSNcCmZ"
      },
      "source": [
        "**Formulas:**\n",
        "\n",
        "- [Coeficiente de variacion](http://tid.ies21.edu.ar/145/me/399_145_mm.jpg)"
      ]
    },
    {
      "cell_type": "code",
      "metadata": {
        "id": "EUb05voAWUlI",
        "colab": {
          "base_uri": "https://localhost:8080/"
        },
        "outputId": "d1afcba6-375b-454c-90b8-77a04533aa96"
      },
      "source": [
        "# Coeficiente de variacion == (desviacionestandar / promedio) * 100\n",
        "\n",
        "x = 174.0 # promedio\n",
        "dm = 6.49\n",
        "var = 64.66\n",
        "de = 8.04\n",
        "\n",
        "coeficientevar = (de / x) * 100\n",
        "print(coeficientevar)"
      ],
      "execution_count": null,
      "outputs": [
        {
          "output_type": "stream",
          "text": [
            "4.620689655172414\n"
          ],
          "name": "stdout"
        }
      ]
    },
    {
      "cell_type": "markdown",
      "metadata": {
        "id": "wXEgTKpUWVEH"
      },
      "source": [
        "### Sp7 / h1 : Cuartiles, deciles y percentiles \n"
      ]
    },
    {
      "cell_type": "code",
      "metadata": {
        "id": "NkXwc2fHW0qQ",
        "colab": {
          "base_uri": "https://localhost:8080/"
        },
        "outputId": "9a4b4f64-d4d2-4760-81c3-588c46b93800"
      },
      "source": [
        "### Sp6 / h1 : Cuartiles, deciles y percentiles \n",
        "\n",
        "print('Ref: https://www.monografias.com/trabajos90/medidas-posicion-y-forma/medidas-posicion-y-forma.shtml')"
      ],
      "execution_count": null,
      "outputs": [
        {
          "output_type": "stream",
          "text": [
            "Ref: https://www.monografias.com/trabajos90/medidas-posicion-y-forma/medidas-posicion-y-forma.shtml\n"
          ],
          "name": "stdout"
        }
      ]
    },
    {
      "cell_type": "markdown",
      "metadata": {
        "id": "ct08eX-adPi_"
      },
      "source": [
        "## TP1 (Posicion y dispersion)"
      ]
    },
    {
      "cell_type": "markdown",
      "metadata": {
        "id": "Q8ct8KoPda3n"
      },
      "source": [
        "#### Actividad 1\n",
        "\n",
        "1) En un grupo de estudiantes se considera el número de ensayos que necesita cada uno para memorizar una lista de seis pares de palabras. \n",
        "\n",
        "Los resultados fueron: \n",
        "\n",
        "5 8 3 9 6 7 10 6 7 4 6 9 5 6 7 9 4 6 8 7\n",
        "\n",
        "    a) Construya la tabla de frecuencias. \n",
        "    b) Calcule la moda, la media, y la mediana de las observaciones dadas. Obtenga la frecuencia del conjunto de los resultados superiores a 5 \n",
        "    c) Represente los datos a través de un histograma de frecuencias. Qué conclusiones puede obtener, a partir del gráfico?\n"
      ]
    },
    {
      "cell_type": "code",
      "metadata": {
        "id": "ipeqeWYWeJNH",
        "colab": {
          "base_uri": "https://localhost:8080/"
        },
        "outputId": "fbb3b554-80e1-4767-a4ac-9f661a064cb1"
      },
      "source": [
        "X_data = np.array([5, 8, 3, 9, 6, 7, 10, 6, 7, 4, 6, 9, 5, 6, 7, 9, 4, 6, 8, 7])\n",
        "n = X_data.size\n",
        "\n",
        "print(\"Datos: \", X_data)\n",
        "print(\"Total: \", n)\n",
        "print(\"Menor: \", np.min(X_data))\n",
        "print(\"Mayor: \", np.max(X_data))"
      ],
      "execution_count": null,
      "outputs": [
        {
          "output_type": "stream",
          "text": [
            "Datos:  [ 5  8  3  9  6  7 10  6  7  4  6  9  5  6  7  9  4  6  8  7]\n",
            "Total:  20\n",
            "Menor:  3\n",
            "Mayor:  10\n"
          ],
          "name": "stdout"
        }
      ]
    },
    {
      "cell_type": "code",
      "metadata": {
        "id": "jxzAZ8dWel2F",
        "colab": {
          "base_uri": "https://localhost:8080/"
        },
        "outputId": "f2f7e197-f118-45bd-a26c-29cc2f1c8b53"
      },
      "source": [
        "# a) \n",
        "# Frecuencia\n",
        "f, bins = np.histogram(X_data, bins=[3,4,5,6,7,8,9,10,11])\n",
        "\n",
        "print(\"Frecuencia: \", f)\n",
        "print(\"Intervalos: \", bins)\n",
        "\n",
        "# Frecuencia relativa\n",
        "fr = f / np.sum(f)\n",
        "print(\"Frecuencia relativa: \", fr)\n",
        "\n",
        "# Porcentaje de frecuencias\n",
        "pf = np.dot(fr, 100)\n",
        "print(\"Porcentaje relativo: \", pf)"
      ],
      "execution_count": null,
      "outputs": [
        {
          "output_type": "stream",
          "text": [
            "Frecuencia:  [1 2 2 5 4 2 3 1]\n",
            "Intervalos:  [ 3  4  5  6  7  8  9 10 11]\n",
            "Frecuencia relativa:  [0.05 0.1  0.1  0.25 0.2  0.1  0.15 0.05]\n",
            "Porcentaje relativo:  [ 5. 10. 10. 25. 20. 10. 15.  5.]\n"
          ],
          "name": "stdout"
        }
      ]
    },
    {
      "cell_type": "code",
      "metadata": {
        "id": "egoAx_UOesXd",
        "colab": {
          "base_uri": "https://localhost:8080/"
        },
        "outputId": "4cb0042d-3bcb-476d-feb4-c9cedfc7c8f5"
      },
      "source": [
        "# b)\n",
        "# Media\n",
        "xifi = np.sum(f * np.array([3,4,5,6,7,8,9,10])) # xi * fi\n",
        "media = xifi / np.sum(f) # (Xi * Fi) / size(f)\n",
        "\n",
        "print(\"Media: \", media)\n",
        "\n",
        "# Mediana\n",
        "X_data_sorted = np.sort(X_data, axis=None)\n",
        "print(\"X Ordenado: \", X_data_sorted)\n",
        "\n",
        "Me = (6 + 7) / 2 \n",
        "print(\"Mediana: \", Me)\n",
        "\n",
        "# Moda (Dato repetido)\n",
        "Mo = st.mode(X_data)\n",
        "print(\"Moda: \" + str(Mo[0]) + \" | Total repeticiones: \" + str(Mo[1]))"
      ],
      "execution_count": null,
      "outputs": [
        {
          "output_type": "stream",
          "text": [
            "Media:  6.6\n",
            "X Ordenado:  [ 3  4  4  5  5  6  6  6  6  6  7  7  7  7  8  8  9  9  9 10]\n",
            "Mediana:  6.5\n",
            "Moda: [6] | Total repeticiones: [5]\n"
          ],
          "name": "stdout"
        }
      ]
    },
    {
      "cell_type": "code",
      "metadata": {
        "id": "3LcXcH9ffG3E",
        "colab": {
          "base_uri": "https://localhost:8080/",
          "height": 673
        },
        "outputId": "07daf72f-9a41-4ee3-bc51-187be1f32c67"
      },
      "source": [
        "# c)\n",
        "# Histograma de frecuencias\n",
        "plt.hist(X_data, bins=[3,4,5,6,7,8,9,10,11])\n",
        "plt.grid(True)\n",
        "plt.xlabel(\"Cantidad de ensayos\")\n",
        "plt.ylabel(\"Frecuencia\")\n",
        "\n",
        "# Pie de frecuencias\n",
        "fig, ax = plt.subplots(figsize=(7,7))\n",
        "ax.pie(f, labels = [3,4,5,6,7,8,9,10] ,autopct='%.2f%%',shadow=True, labeldistance=1.1)\n",
        "\n",
        "# plt.savefig('Actividad 1.png')\n",
        "plt.show()"
      ],
      "execution_count": null,
      "outputs": [
        {
          "output_type": "display_data",
          "data": {
            "image/png": "[encoded data removed]",
            "text/plain": [
              "<Figure size 432x288 with 1 Axes>"
            ]
          },
          "metadata": {
            "tags": [],
            "needs_background": "light"
          }
        },
        {
          "output_type": "display_data",
          "data": {
            "image/png": "[encoded data removed]",
            "text/plain": [
              "<Figure size 504x504 with 1 Axes>"
            ]
          },
          "metadata": {
            "tags": []
          }
        }
      ]
    },
    {
      "cell_type": "markdown",
      "metadata": {
        "id": "1mIQex6CdvCS"
      },
      "source": [
        "#### Actividad 2\n",
        "1) Los niños, a diferencia de los adultos, tienden a recordar las películas, cuentos e historias como una sucesión de acciones más que el argumento en forma global y de conjunto. En el relato de una película, por ejemplo, utilizan con frecuencia las palabras \"y entonces...\". Una psicóloga con suprema paciencia pidió a 50 niños que le contaran una determinada película que ellos habían visto. Consideró la variable: cantidad de \"y entonces...\" utilizados en el relato y registró los siguientes datos: \n",
        "\n",
        "Los resultados fueron: \n",
        "\n",
        "8 15 22 19 15 17 18 20 17 12\n",
        "16 16 17 21 23 18 20 21 20 20\n",
        "15 18 17 19 20 23 22 10 17 19\n",
        "19 21 20 18 18 24 11 19 31 16\n",
        "17 18 19 20 18 18 40 18 19 16\n",
        "\n",
        "Como parte del mismo estudio la experimentadora obtuvo de 50 adultos el mismo tipo de datos. Estos fueron: \n",
        " \n",
        "10 12 5 8 13 10 12 8 7 9\n",
        "11 10 9 9 11 15 12 17 14 10\n",
        "9 8 15 16 10 14 7 16 9 1\n",
        "4 11 12 7 9 10 3 11 14 8\n",
        "12 5 10 9 7 11 14 10 15 9\n",
        "\n",
        "    a) Construya la tabla de frecuencias. \n",
        "    b) Calcule la moda, la media, y la mediana.\n",
        "    c) Grafique ambas distribuciones de manera que puedan ser comparadas. \n",
        "    d) Los puntos anteriores, ¿qué indican respecto de la conducta observada en niños y adultos?"
      ]
    },
    {
      "cell_type": "code",
      "metadata": {
        "id": "hZq1e326eIRu",
        "colab": {
          "base_uri": "https://localhost:8080/"
        },
        "outputId": "e57c3147-18a0-41ba-c4f7-515b2b71876c"
      },
      "source": [
        "X_muestra1 = np.array([8, 15, 22, 19, 15, 17, 18, 20, 17, 12, 16, 16, 17, 21, 23, 18, 20, 21, 20, 20, 15, 18, 17, 19, 20, 23, 22, 10, 17, 19, 19, 21, 20, 18, 18, 24, 11, 19, 31, 16, 17, 18, 19, 20, 18, 18, 40, 18, 19, 16])\n",
        "X_muestra1 = np.sort(X_muestra1, axis=None)\n",
        "n1 = X_muestra1.size\n",
        "\n",
        "X_muestra2 = np.array([10, 12, 5, 8, 13, 10, 12, 8, 7, 9, 11, 10, 9, 9, 11, 15, 12, 17, 14, 10, 9, 8, 15, 16, 10, 14, 7, 16, 9, 1, 4, 11, 12, 7, 9, 10, 3, 11, 14, 8, 12, 5, 10, 9, 7, 11, 14, 10, 15, 9])\n",
        "X_muestra2 = np.sort(X_muestra2, axis=None)\n",
        "n2 = X_muestra2.size\n",
        "\n",
        "print(\"Muestra 1: \", X_muestra1)\n",
        "print(\"Muestra 2: \", X_muestra2)\n",
        "\n",
        "print(\"\\nTotal muestra 1: \", n1)\n",
        "print(\"Total muestra 2: \", n2)\n",
        "\n",
        "print(\"\\nMenor muestra 1: \", np.min(X_muestra1))\n",
        "print(\"Mayor muestra 1: \", np.max(X_muestra1))\n",
        "\n",
        "print(\"\\nMenor muestra 2: \", np.min(X_muestra2))\n",
        "print(\"Mayor muestra 2: \", np.max(X_muestra2))"
      ],
      "execution_count": null,
      "outputs": [
        {
          "output_type": "stream",
          "text": [
            "Muestra 1:  [ 8 10 11 12 15 15 15 16 16 16 16 17 17 17 17 17 17 18 18 18 18 18 18 18\n",
            " 18 18 19 19 19 19 19 19 19 20 20 20 20 20 20 20 21 21 21 22 22 23 23 24\n",
            " 31 40]\n",
            "Muestra 2:  [ 1  3  4  5  5  7  7  7  7  8  8  8  8  9  9  9  9  9  9  9  9 10 10 10\n",
            " 10 10 10 10 10 11 11 11 11 11 12 12 12 12 12 13 14 14 14 14 15 15 15 16\n",
            " 16 17]\n",
            "\n",
            "Total muestra 1:  50\n",
            "Total muestra 2:  50\n",
            "\n",
            "Menor muestra 1:  8\n",
            "Mayor muestra 1:  40\n",
            "\n",
            "Menor muestra 2:  1\n",
            "Mayor muestra 2:  17\n"
          ],
          "name": "stdout"
        }
      ]
    },
    {
      "cell_type": "code",
      "metadata": {
        "id": "R17nD3c9fXnE",
        "colab": {
          "base_uri": "https://localhost:8080/"
        },
        "outputId": "71fb626b-6e38-4ebc-98e1-811c0a9eb5a0"
      },
      "source": [
        "# a) Tabla frecuencias\n",
        "# Muestra 1:\n",
        "\n",
        "R1 = np.max(X_muestra1) - np.min(X_muestra1)\n",
        "K1 = np.round(1 + 3.322 * np.log10(X_muestra1.size))\n",
        "A1 = (R1 / K1) \n",
        "\n",
        "print(\"Rango m1: \", R1)\n",
        "print(\"Intervalo m1: \", K1)\n",
        "print(\"Amplitud m1: \", A1)\n",
        "\n",
        "intervalo1 = np.array([8,13,18,23,28,33,38,43])\n",
        "frec1, bins1 = np.histogram(X_muestra1, bins = intervalo1) # Frecuencia definida por numpy\n",
        "print(\"Frecuencia m1: \", frec1)\n",
        "print(\"Intervalo m1: \", bins1)\n",
        "\n",
        "frecrel1 = frec1 / np.sum(X_muestra1.size)\n",
        "print(\"Frecuencia relativa m1: \", frecrel1)\n",
        "\n",
        "frecrelporc1 = frecrel1 * 100\n",
        "print(\"Frecuencia porcentual m1: \", frecrelporc1)"
      ],
      "execution_count": null,
      "outputs": [
        {
          "output_type": "stream",
          "text": [
            "Rango m1:  32\n",
            "Intervalo m1:  7.0\n",
            "Amplitud m1:  4.571428571428571\n",
            "Frecuencia m1:  [ 4 13 28  3  1  0  1]\n",
            "Intervalo m1:  [ 8 13 18 23 28 33 38 43]\n",
            "Frecuencia relativa m1:  [0.08 0.26 0.56 0.06 0.02 0.   0.02]\n",
            "Frecuencia porcentual m1:  [ 8. 26. 56.  6.  2.  0.  2.]\n"
          ],
          "name": "stdout"
        }
      ]
    },
    {
      "cell_type": "code",
      "metadata": {
        "id": "0K_UoSKcfbYs",
        "colab": {
          "base_uri": "https://localhost:8080/"
        },
        "outputId": "e63d9161-5ccb-439d-b789-324493ff785e"
      },
      "source": [
        "# Muestra 2\n",
        "\n",
        "R2 = np.max(X_muestra2) - np.min(X_muestra2)\n",
        "K2 = np.round(1 + 3.322 * np.log10(X_muestra2.size))\n",
        "A2 = (R2 / K2) \n",
        "\n",
        "print(\"Rango m2: \", R2)\n",
        "print(\"Intervalo m2: \", K2)\n",
        "print(\"Amplitud m2: \", A2)\n",
        "\n",
        "# Promedio print(np.sum(X_muestra2) / X_muestra2.size)\n",
        "\n",
        "intervalo2 = np.array([1,3,5,7,9,11,13,15,17])\n",
        "frec2, bins2 = np.histogram(X_muestra2, bins = intervalo2) # Frecuencia definida por numpy\n",
        "print(\"Frecuencia m2: \", frec2)\n",
        "print(\"Intervalo m2: \", bins2)\n",
        "\n",
        "frecrel2 = frec2 / X_muestra2.size\n",
        "print(\"Frecuencia relativa m2: \", frecrel2)\n",
        "\n",
        "frecrelporc2 = frecrel2 * 100\n",
        "print(\"Frecuencia porcentual m2: \", frecrelporc2)"
      ],
      "execution_count": null,
      "outputs": [
        {
          "output_type": "stream",
          "text": [
            "Rango m2:  16\n",
            "Intervalo m2:  7.0\n",
            "Amplitud m2:  2.2857142857142856\n",
            "Frecuencia m2:  [ 1  2  2  8 16 10  5  6]\n",
            "Intervalo m2:  [ 1  3  5  7  9 11 13 15 17]\n",
            "Frecuencia relativa m2:  [0.02 0.04 0.04 0.16 0.32 0.2  0.1  0.12]\n",
            "Frecuencia porcentual m2:  [ 2.  4.  4. 16. 32. 20. 10. 12.]\n"
          ],
          "name": "stdout"
        }
      ]
    },
    {
      "cell_type": "code",
      "metadata": {
        "id": "f-400cmxffDM",
        "colab": {
          "base_uri": "https://localhost:8080/"
        },
        "outputId": "2f27ff71-914b-49f8-eb20-4e78b0d18345"
      },
      "source": [
        "# b) Media mediana y moda\n",
        "# Muestra 1\n",
        "\n",
        "print(\"Media: \", (np.sum(X_muestra1) / np.sum(frec1)))\n",
        "print(\"Mediana: \", np.median(X_muestra1))\n",
        "moda = st.mode(X_muestra1)\n",
        "print(\"Moda: \", moda)"
      ],
      "execution_count": null,
      "outputs": [
        {
          "output_type": "stream",
          "text": [
            "Media:  18.7\n",
            "Mediana:  18.0\n",
            "Moda:  ModeResult(mode=array([18]), count=array([9]))\n"
          ],
          "name": "stdout"
        }
      ]
    },
    {
      "cell_type": "code",
      "metadata": {
        "id": "D3QBSBMLf3d8",
        "colab": {
          "base_uri": "https://localhost:8080/"
        },
        "outputId": "14f930de-dfb7-4ccb-ec3a-e8e0dcdaa3cf"
      },
      "source": [
        "# Muestra 2\n",
        "\n",
        "print(\"Media: \", (np.sum(X_muestra2) / np.sum(frec2)))\n",
        "print(\"Mediana: \", np.median(X_muestra2))\n",
        "moda = st.mode(X_muestra2)\n",
        "print(\"Moda: \", moda)"
      ],
      "execution_count": null,
      "outputs": [
        {
          "output_type": "stream",
          "text": [
            "Media:  10.16\n",
            "Mediana:  10.0\n",
            "Moda:  ModeResult(mode=array([9]), count=array([8]))\n"
          ],
          "name": "stdout"
        }
      ]
    },
    {
      "cell_type": "code",
      "metadata": {
        "id": "z156iml_f7Z7",
        "colab": {
          "base_uri": "https://localhost:8080/",
          "height": 673
        },
        "outputId": "819f74c5-15db-4b5a-b0ec-13dee5702049"
      },
      "source": [
        "# c) Grafique ambas distribuciones y compare\n",
        "# Muestra 1\n",
        "plt.hist(X_muestra1, bins=bins1)\n",
        "plt.grid(True)\n",
        "plt.xlabel(\"Cantidad de 'y entonces..'\")\n",
        "plt.ylabel(\"Frecuencia\")\n",
        "\n",
        "plt.savefig('Actividad 2 histograma (Muestra 1).png')\n",
        "# Pie de frecuencias\n",
        "\n",
        "fig, ax = plt.subplots(figsize=(7,7))\n",
        "ax.pie(frec1, labels=[1, 2, 3, 4, 5, 6, 7], autopct='%.2f%%',shadow=True, labeldistance=1.1)\n",
        "\n",
        "plt.show()"
      ],
      "execution_count": null,
      "outputs": [
        {
          "output_type": "display_data",
          "data": {
            "image/png": "[encoded data removed]",
            "text/plain": [
              "<Figure size 432x288 with 1 Axes>"
            ]
          },
          "metadata": {
            "tags": [],
            "needs_background": "light"
          }
        },
        {
          "output_type": "display_data",
          "data": {
            "image/png": "[encoded data removed]",
            "text/plain": [
              "<Figure size 504x504 with 1 Axes>"
            ]
          },
          "metadata": {
            "tags": []
          }
        }
      ]
    },
    {
      "cell_type": "code",
      "metadata": {
        "id": "iYZiBH9mf7tL",
        "colab": {
          "base_uri": "https://localhost:8080/",
          "height": 673
        },
        "outputId": "5c1c7d16-f095-445c-f7f9-fbf978d79ad7"
      },
      "source": [
        "# Muestra 2\n",
        "plt.hist(X_muestra2, bins=bins2)\n",
        "plt.grid(True)\n",
        "plt.xlabel(\"Cantidad de 'y entonces..'\")\n",
        "plt.ylabel(\"Frecuencia\")\n",
        "\n",
        "# Pie de frecuencias\n",
        "\n",
        "fig, ax = plt.subplots(figsize=(7,7))\n",
        "ax.pie(frec2, labels=[1, 2, 3, 4, 5, 6, 7, 8], autopct='%.2f%%',shadow=True, labeldistance=1.1)\n",
        "\n",
        "#plt.savefig('Actividad 2 pie (Muestra 2).png')\n",
        "\n",
        "plt.show()"
      ],
      "execution_count": null,
      "outputs": [
        {
          "output_type": "display_data",
          "data": {
            "image/png": "[encoded data removed]",
            "text/plain": [
              "<Figure size 432x288 with 1 Axes>"
            ]
          },
          "metadata": {
            "tags": [],
            "needs_background": "light"
          }
        },
        {
          "output_type": "display_data",
          "data": {
            "image/png": "[encoded data removed]",
            "text/plain": [
              "<Figure size 504x504 with 1 Axes>"
            ]
          },
          "metadata": {
            "tags": []
          }
        }
      ]
    },
    {
      "cell_type": "markdown",
      "metadata": {
        "id": "_orkbsowdu8F"
      },
      "source": [
        "#### Actividad 3\n",
        "3) A fin de decidir cuántos mostradores de servicio se necesitarán en tiendas que serán construidas en el futuro, una cadena de supermercados quiso obtener información acerca del tiempo (en minutos) requerido para atender a los clientes. Se registró la duración de 60 casos:\n",
        "\n",
        "3.6\t1.9\t2.1\t0.3\t0.8\t0.2\t1.0\t1.4\t1.8\t1.6\n",
        "1.1\t1.8\t0.3\t1.1\t0.5\t1.2\t0.6\t1.1\t0.8\t1.7\n",
        "1.4\t0.2\t1.3\t3.1\t0.4\t2.3\t1.8\t4.5\t0.9\t0.7\n",
        "0.6\t2.8\t2.5\t1.1\t0.4\t1.2\t0.4\t1.3\t0.8\t1.3\n",
        "1.1\t1.2\t0.8\t1.0\t0.9\t0.7\t3.1\t1.7\t1.1\t2.2\n",
        "1.6\t1.9\t5.2\t0.5\t1.8\t0.3\t1.1\t0.6\t0.7\t0.6\n",
        "\n",
        "    a)\t¿Cuál es la variable a analizar? ¿Es cuantitativa o cualitativa?\n",
        "    b)\tOrganizarlos de la manera que le resulte más conveniente (de forma simple o en intervalos) y justificar la organización elegida.\n",
        "    c)\tCalcule los valores de posición y dispersión. Cuáles de estos valores tomará como represntativos? justifique\n",
        "    d)\tRepresentar gráficamente las frecuencias anteriores mediante un histograma y un polígono de frecuencias.\n",
        "    e)\tConstruir las frecuencias acumuladas crecientes, y graficarlas mediante una ojiva.\n",
        "    f)\tCalcule los cuartiles, e indique qué información le proporciona.\n",
        "    g)\t¿Qué proporción de los tiempos de servicio es menor a un minuto?"
      ]
    },
    {
      "cell_type": "code",
      "metadata": {
        "id": "CLq4fpjreGgG",
        "colab": {
          "base_uri": "https://localhost:8080/"
        },
        "outputId": "c0283037-a96d-4fa4-d746-b7ffce307d00"
      },
      "source": [
        "X_muestra = np.array([3.6, 1.9, 2.1, 0.3, 0.8, 0.2, 1.0, 1.4, 1.8, 1.6, 1.1, 1.8, 0.3, 1.1, 0.5, 1.2, 0.6, 1.1, 0.8, 1.7, 1.4, 0.2, 1.3, 3.1, 0.4, 2.3, 1.8, 4.5, 0.9, 0.7, 0.6, 2.8, 2.5, 1.1, 0.4, 1.2, 0.4, 1.3, 0.8, 1.3, 1.1, 1.2, 0.8, 1.0, 0.9, 0.7, 3.1, 1.7, 1.1, 2.2, 1.6, 1.9, 5.2, 0.5, 1.8, 0.3, 1.1, 0.6, 0.7, 0.6])\n",
        "X_muestra = np.sort(X_muestra, axis=None)\n",
        "n = X_muestra.size\n",
        "\n",
        "print(\"Muestra 1: \", X_muestra)\n",
        "print(\"\\nTotal muestra 1: \", n)\n",
        "print(\"\\nMenor muestra 1: \", np.min(X_muestra))\n",
        "print(\"Mayor muestra 1: \", np.max(X_muestra))"
      ],
      "execution_count": null,
      "outputs": [
        {
          "output_type": "stream",
          "text": [
            "Muestra 1:  [0.2 0.2 0.3 0.3 0.3 0.4 0.4 0.4 0.5 0.5 0.6 0.6 0.6 0.6 0.7 0.7 0.7 0.8\n",
            " 0.8 0.8 0.8 0.9 0.9 1.  1.  1.1 1.1 1.1 1.1 1.1 1.1 1.1 1.2 1.2 1.2 1.3\n",
            " 1.3 1.3 1.4 1.4 1.6 1.6 1.7 1.7 1.8 1.8 1.8 1.8 1.9 1.9 2.1 2.2 2.3 2.5\n",
            " 2.8 3.1 3.1 3.6 4.5 5.2]\n",
            "\n",
            "Total muestra 1:  60\n",
            "\n",
            "Menor muestra 1:  0.2\n",
            "Mayor muestra 1:  5.2\n"
          ],
          "name": "stdout"
        }
      ]
    },
    {
      "cell_type": "code",
      "metadata": {
        "id": "21IWrCBFgSwj",
        "colab": {
          "base_uri": "https://localhost:8080/"
        },
        "outputId": "af67d495-0e76-4e51-e595-fa422a21a78f"
      },
      "source": [
        "# Describe data (Quartiles, min, max, media, count)\n",
        "\n",
        "data = pd.Series(X_muestra)\n",
        "data.describe()"
      ],
      "execution_count": null,
      "outputs": [
        {
          "output_type": "execute_result",
          "data": {
            "text/plain": [
              "count    60.000000\n",
              "mean      1.366667\n",
              "std       1.002652\n",
              "min       0.200000\n",
              "25%       0.700000\n",
              "50%       1.100000\n",
              "75%       1.800000\n",
              "max       5.200000\n",
              "dtype: float64"
            ]
          },
          "metadata": {
            "tags": []
          },
          "execution_count": 55
        }
      ]
    },
    {
      "cell_type": "code",
      "metadata": {
        "id": "L8aNoCOOgUuz",
        "colab": {
          "base_uri": "https://localhost:8080/"
        },
        "outputId": "c428eb99-a9a6-458e-8719-ae4bbc08833e"
      },
      "source": [
        "# b) Tabla frecuencias\n",
        "# Muestra:\n",
        "\n",
        "R = np.max(X_muestra) - np.min(X_muestra)\n",
        "K = np.round(1 + 3.322 * np.log10(X_muestra.size))\n",
        "A = (R / K) \n",
        "\n",
        "print(\"Rango: \", R)\n",
        "print(\"Intervalo: \", K)\n",
        "print(\"Amplitud: \", A)"
      ],
      "execution_count": null,
      "outputs": [
        {
          "output_type": "stream",
          "text": [
            "Rango:  5.0\n",
            "Intervalo:  7.0\n",
            "Amplitud:  0.7142857142857143\n"
          ],
          "name": "stdout"
        }
      ]
    },
    {
      "cell_type": "code",
      "metadata": {
        "id": "2yZ-PkaEgYJS",
        "colab": {
          "base_uri": "https://localhost:8080/"
        },
        "outputId": "9e3e7fa0-ec4c-435f-e65e-7daebc743fe1"
      },
      "source": [
        "intervalo = np.array([0.2,1,1.8,2.6,3.4,4.2,5,5.8])\n",
        "frec, bins = np.histogram(X_muestra, bins = intervalo) # Frecuencia definida por numpy\n",
        "print(\"Frecuencia: \", frec)\n",
        "print(\"Intervalo: \", bins)\n",
        "\n",
        "frecrel = frec / np.sum(X_muestra.size)\n",
        "print(\"Frecuencia relativa: \", frecrel)\n",
        "\n",
        "frecrelporc = frecrel * 100\n",
        "print(\"Frecuencia relativa: \", frecrelporc)"
      ],
      "execution_count": null,
      "outputs": [
        {
          "output_type": "stream",
          "text": [
            "Frecuencia:  [23 21 10  3  1  1  1]\n",
            "Intervalo:  [0.2 1.  1.8 2.6 3.4 4.2 5.  5.8]\n",
            "Frecuencia relativa:  [0.38333333 0.35       0.16666667 0.05       0.01666667 0.01666667\n",
            " 0.01666667]\n",
            "Frecuencia relativa:  [38.33333333 35.         16.66666667  5.          1.66666667  1.66666667\n",
            "  1.66666667]\n"
          ],
          "name": "stdout"
        }
      ]
    },
    {
      "cell_type": "code",
      "metadata": {
        "id": "Z0u6uryUgaVz",
        "colab": {
          "base_uri": "https://localhost:8080/"
        },
        "outputId": "f9882a27-e3ea-46ac-86ef-6f2601130df3"
      },
      "source": [
        "# c) \n",
        "# Media mediana y moda\n",
        "# Muestra \n",
        "\n",
        "media = (np.sum(X_muestra) / np.sum(frec))\n",
        "print(\"Media: \", media)\n",
        "\n",
        "print(\"Mediana: \", np.median(X_muestra))\n",
        "\n",
        "moda = st.mode(X_muestra)\n",
        "print(\"Moda: \", moda)"
      ],
      "execution_count": null,
      "outputs": [
        {
          "output_type": "stream",
          "text": [
            "Media:  1.3666666666666665\n",
            "Mediana:  1.1\n",
            "Moda:  ModeResult(mode=array([1.1]), count=array([7]))\n"
          ],
          "name": "stdout"
        }
      ]
    },
    {
      "cell_type": "code",
      "metadata": {
        "id": "qlEOxDLygcX7",
        "colab": {
          "base_uri": "https://localhost:8080/"
        },
        "outputId": "1f085ed1-6d44-4905-d7ee-9ce5b960f830"
      },
      "source": [
        "# Valores de dispercion\n",
        "dm = np.sum(np.abs(X_muestra - media)) / X_muestra.size # la suma del valor absouluto menos el promedio dividido entre el tamaño de muestra\n",
        "print(\"\\nDesviacion media: \", dm)\n",
        "\n",
        "p = np.sum(X_muestra) / X_muestra.size # Promedio\n",
        "print(\"\\nPromedio: \", p)\n",
        "\n",
        "S = np.sum(np.square(X_muestra - p)) / X_muestra.size # Varianza\n",
        "print(\"\\nVarianza: \", S)\n",
        "\n",
        "r = np.sqrt(S) # Desvio estandar\n",
        "print(\"\\nDesvio estandar: \", r)\n",
        "\n",
        "coeficientevar = (r / media) * 100\n",
        "print(\"\\nCoeficiente de variacion: \", coeficientevar)"
      ],
      "execution_count": null,
      "outputs": [
        {
          "output_type": "stream",
          "text": [
            "\n",
            "Desviacion media:  0.7244444444444444\n",
            "\n",
            "Promedio:  1.3666666666666665\n",
            "\n",
            "Varianza:  0.9885555555555556\n",
            "\n",
            "Desvio estandar:  0.9942613115049562\n",
            "\n",
            "Coeficiente de variacion:  72.75082767109437\n"
          ],
          "name": "stdout"
        }
      ]
    },
    {
      "cell_type": "code",
      "metadata": {
        "id": "D-o1hv9dgfKL",
        "colab": {
          "base_uri": "https://localhost:8080/",
          "height": 673
        },
        "outputId": "3f39a54c-aa37-4c06-a980-72b924808c98"
      },
      "source": [
        "# d)\n",
        "\n",
        "# Muestra\n",
        "plt.hist(X_muestra, bins=intervalo)\n",
        "plt.grid(True)\n",
        "plt.xlabel(\"Cantidad de minutos(tiempo)\")\n",
        "plt.ylabel(\"Frecuencia\")\n",
        "\n",
        "# Pie de frecuencias\n",
        "fig, ax = plt.subplots(figsize=(7,7))\n",
        "ax.pie(frec, labels=[1, 2, 3, 4, 5, 6, 7], autopct='%.2f%%',shadow=True, labeldistance=1.1)\n",
        "\n",
        "plt.show()"
      ],
      "execution_count": null,
      "outputs": [
        {
          "output_type": "display_data",
          "data": {
            "image/png": "[encoded data removed]",
            "text/plain": [
              "<Figure size 432x288 with 1 Axes>"
            ]
          },
          "metadata": {
            "tags": [],
            "needs_background": "light"
          }
        },
        {
          "output_type": "display_data",
          "data": {
            "image/png": "[encoded data removed]",
            "text/plain": [
              "<Figure size 504x504 with 1 Axes>"
            ]
          },
          "metadata": {
            "tags": []
          }
        }
      ]
    },
    {
      "cell_type": "code",
      "metadata": {
        "id": "fPoSS_ybghK0",
        "colab": {
          "base_uri": "https://localhost:8080/",
          "height": 279
        },
        "outputId": "b346b046-a7e0-40e3-d97f-3d4e79611505"
      },
      "source": [
        "# e)\n",
        "# Ojiva\n",
        "\n",
        "y = np.array([23, 44, 54, 57, 58, 59, 60, 61]) # Frecuencia acumulada\n",
        "\n",
        "plt.plot(intervalo, y, c='y', marker='o', ms=10, mfc='red')\n",
        "plt.xlabel('Intervalo de clases')\n",
        "plt.ylabel('Frecuencia acumulada')\n",
        "\n",
        "#plt.savefig('Actividad 3 Ojiva (Muestra).png')\n",
        "plt.show()"
      ],
      "execution_count": null,
      "outputs": [
        {
          "output_type": "display_data",
          "data": {
            "image/png": "[encoded data removed]",
            "text/plain": [
              "<Figure size 432x288 with 1 Axes>"
            ]
          },
          "metadata": {
            "tags": [],
            "needs_background": "light"
          }
        }
      ]
    },
    {
      "cell_type": "code",
      "metadata": {
        "id": "aon0TUXpglbj",
        "colab": {
          "base_uri": "https://localhost:8080/"
        },
        "outputId": "f04a5490-77d9-417a-9b5d-091b81c8729c"
      },
      "source": [
        "# f)\n",
        "# Muestra\n",
        "\n",
        "Q3 = 3 * np.sum(frec) / 4\n",
        "print(\"Posicion Q3: \", Q3)\n",
        "\n",
        "Q2 = 2 * np.sum(frec) / 4\n",
        "print(\"Posicion Q2: \", Q2)\n",
        "\n",
        "Q1 = 1 * np.sum(frec) / 4\n",
        "print(\"Posicion Q1: \", Q1)\n",
        "\n",
        "print(np.percentile(X_muestra, 75))\n",
        "print(np.percentile(X_muestra, 50))\n",
        "print(np.percentile(X_muestra, 25))"
      ],
      "execution_count": null,
      "outputs": [
        {
          "output_type": "stream",
          "text": [
            "Posicion Q3:  45.0\n",
            "Posicion Q2:  30.0\n",
            "Posicion Q1:  15.0\n",
            "1.8\n",
            "1.1\n",
            "0.7\n"
          ],
          "name": "stdout"
        }
      ]
    },
    {
      "cell_type": "code",
      "metadata": {
        "id": "jpcr7iLagnv6",
        "colab": {
          "base_uri": "https://localhost:8080/"
        },
        "outputId": "a4c8e02f-f91e-4dd5-b921-ffe05ba0839a"
      },
      "source": [
        "# Percentiles \n",
        "print(np.percentile(X_muestra, [0, 10, 20, 30, 40, 50, 60, 70 ,80, 90, 100]))"
      ],
      "execution_count": null,
      "outputs": [
        {
          "output_type": "stream",
          "text": [
            "[0.2  0.4  0.6  0.8  1.   1.1  1.3  1.63 1.82 2.53 5.2 ]\n"
          ],
          "name": "stdout"
        }
      ]
    },
    {
      "cell_type": "markdown",
      "metadata": {
        "id": "_JaYFUoxduYf"
      },
      "source": [
        "#### Actividad 4\n",
        "4) Una empresa consultora ha entrevistado un grupo de 50 personas a las cuales les han preguntado la edad. Se obtuvieron los siguientes datos:\n",
        "\n",
        "23\t34\t21\t41\t42\t35\t32\t36\t27\t20\n",
        "19\t31\t39\t38\t41\t26\t24\t27\t30\t33\n",
        "23\t32\t40\t34\t25\t28\t29\t30\t22\t24\n",
        "26\t36\t38\t21\t39\t22\t33\t35\t32\t28\n",
        "27\t26\t24\t32\t37\t39\t32\t24\t35\t26\n",
        "\n",
        "Se ha decidido organizar los datos en intervalos. A partir de estos datos, ya organizados, determine:\n",
        "\n",
        "    a)\tValores de posición: media, mediana y moda. Cuál tomará como representativo de la distribución?\n",
        "    b)\tValores de Dispersión. Cuál tomará como represntativo?\n",
        "    c)\tCuartiles. Qué información le proporcionan?\n",
        "    d)\tRepresentar gráficamente las frecuencias acumuladas.\n",
        "    e)\tObtener conclusiones."
      ]
    },
    {
      "cell_type": "code",
      "metadata": {
        "id": "D3i3yiVjeHe-",
        "colab": {
          "base_uri": "https://localhost:8080/"
        },
        "outputId": "98d8f7e8-9e53-4130-94a3-6d2fa3d9ca0d"
      },
      "source": [
        "X = np.array([23, 34, 21, 41, 42, 35, 32, 36, 27, 20, 19, 31, 39, 38, 41, 26, 24, 27, 30, 33, 23, 32, 40, 34, 25, 28, 29, 30, 22, 24, 26, 36, 38, 21, 39, 22, 33, 35, 32, 28, 27, 26, 24, 32, 37, 39, 32, 24, 35, 26])\n",
        "X = np.sort(X, axis=None)\n",
        "n = X.size\n",
        "\n",
        "print(\"Muestra: \", X)\n",
        "print(\"\\nTotal muestra: \", n)\n",
        "print(\"\\nMenor muestra: \", np.min(X))\n",
        "print(\"Mayor muestra: \", np.max(X))"
      ],
      "execution_count": null,
      "outputs": [
        {
          "output_type": "stream",
          "text": [
            "Muestra:  [19 20 21 21 22 22 23 23 24 24 24 24 25 26 26 26 26 27 27 27 28 28 29 30\n",
            " 30 31 32 32 32 32 32 33 33 34 34 35 35 35 36 36 37 38 38 39 39 39 40 41\n",
            " 41 42]\n",
            "\n",
            "Total muestra:  50\n",
            "\n",
            "Menor muestra:  19\n",
            "Mayor muestra:  42\n"
          ],
          "name": "stdout"
        }
      ]
    },
    {
      "cell_type": "code",
      "metadata": {
        "id": "Lljh17_hgxty",
        "colab": {
          "base_uri": "https://localhost:8080/"
        },
        "outputId": "e3614ca7-c310-46b2-a01e-fc0b7c578ba3"
      },
      "source": [
        "Xpandas = pd.Series(X)\n",
        "Xpandas.describe()"
      ],
      "execution_count": null,
      "outputs": [
        {
          "output_type": "execute_result",
          "data": {
            "text/plain": [
              "count    50.000000\n",
              "mean     30.360000\n",
              "std       6.381606\n",
              "min      19.000000\n",
              "25%      25.250000\n",
              "50%      30.500000\n",
              "75%      35.000000\n",
              "max      42.000000\n",
              "dtype: float64"
            ]
          },
          "metadata": {
            "tags": []
          },
          "execution_count": 66
        }
      ]
    },
    {
      "cell_type": "code",
      "metadata": {
        "id": "yzMH6hVAgzda",
        "colab": {
          "base_uri": "https://localhost:8080/"
        },
        "outputId": "d30f60f9-b6f8-4a6d-934f-5f926350ab3c"
      },
      "source": [
        "# a) Tabla frecuencias\n",
        "# Muestra:\n",
        "\n",
        "R = np.max(X) - np.min(X)\n",
        "K = (1 + 3.322 * np.log10(X.size))\n",
        "A = (R / K) \n",
        "\n",
        "print(\"Rango: \", R)\n",
        "print(\"Intervalo: \", np.round(K))\n",
        "print(\"Amplitud: \", A)"
      ],
      "execution_count": null,
      "outputs": [
        {
          "output_type": "stream",
          "text": [
            "Rango:  23\n",
            "Intervalo:  7.0\n",
            "Amplitud:  3.461781296255042\n"
          ],
          "name": "stdout"
        }
      ]
    },
    {
      "cell_type": "code",
      "metadata": {
        "id": "VlleRRr8g1DS",
        "colab": {
          "base_uri": "https://localhost:8080/"
        },
        "outputId": "3f7b8f65-6112-4079-9a4c-4efe10cd9e6c"
      },
      "source": [
        "intervalo = np.array([19,23,27,31,35,39,43,47])\n",
        "frec, bins = np.histogram(X, bins = intervalo) # Frecuencia definida por numpy\n",
        "print(\"Frecuencia: \", frec)\n",
        "print(\"Intervalo: \", bins)\n",
        "\n",
        "frecrel = frec / np.sum(X.size)\n",
        "print(\"Frecuencia relativa: \", frecrel)\n",
        "\n",
        "frecrelporc = frecrel * 100\n",
        "print(\"Frecuencia relativa: \", frecrelporc)"
      ],
      "execution_count": null,
      "outputs": [
        {
          "output_type": "stream",
          "text": [
            "Frecuencia:  [ 6 11  8 10  8  7  0]\n",
            "Intervalo:  [19 23 27 31 35 39 43 47]\n",
            "Frecuencia relativa:  [0.12 0.22 0.16 0.2  0.16 0.14 0.  ]\n",
            "Frecuencia relativa:  [12. 22. 16. 20. 16. 14.  0.]\n"
          ],
          "name": "stdout"
        }
      ]
    },
    {
      "cell_type": "code",
      "metadata": {
        "id": "k93PQW__g2qs",
        "colab": {
          "base_uri": "https://localhost:8080/"
        },
        "outputId": "e081d3bf-576b-4097-dc91-1a0a76823fb0"
      },
      "source": [
        "# a) \n",
        "# Media mediana y moda\n",
        "# Muestra \n",
        "\n",
        "media = (np.sum(X) / np.sum(frec))\n",
        "print(\"Media: \", media)\n",
        "\n",
        "print(\"Mediana: \", np.median(X))\n",
        "\n",
        "moda = st.mode(X)\n",
        "print(\"Moda: \", moda)"
      ],
      "execution_count": null,
      "outputs": [
        {
          "output_type": "stream",
          "text": [
            "Media:  30.36\n",
            "Mediana:  30.5\n",
            "Moda:  ModeResult(mode=array([32]), count=array([5]))\n"
          ],
          "name": "stdout"
        }
      ]
    },
    {
      "cell_type": "code",
      "metadata": {
        "id": "3qjA-nb4g4OF",
        "colab": {
          "base_uri": "https://localhost:8080/"
        },
        "outputId": "e92bbe1c-3406-4530-d93f-4ee4101278b8"
      },
      "source": [
        "# b) Valores de dispercion\n",
        "\n",
        "p = np.sum(X) / X.size # Promedio\n",
        "print(\"\\nPromedio: \", p)\n",
        "\n",
        "dm = np.sum(np.abs(X - p)) / X.size # la suma del valor absouluto menos el promedio dividido entre el tamaño de muestra\n",
        "print(\"\\nDesviacion media: \", dm)\n",
        "\n",
        "S = np.sum(np.square(X - p)) / X.size # Varianza\n",
        "print(\"\\nVarianza: \", S)\n",
        "\n",
        "r = np.sqrt(S) # Desvio estandar\n",
        "print(\"\\nDesvio estandar: \", r)\n",
        "\n",
        "coeficientevar = (r / media) * 100\n",
        "print(\"\\nCoeficiente de variacion: \", coeficientevar)"
      ],
      "execution_count": null,
      "outputs": [
        {
          "output_type": "stream",
          "text": [
            "\n",
            "Promedio:  30.36\n",
            "\n",
            "Desviacion media:  5.48\n",
            "\n",
            "Varianza:  39.9104\n",
            "\n",
            "Desvio estandar:  6.317467847167883\n",
            "\n",
            "Coeficiente de variacion:  20.808523870776956\n"
          ],
          "name": "stdout"
        }
      ]
    },
    {
      "cell_type": "code",
      "metadata": {
        "id": "6YboqNKAg5yT",
        "colab": {
          "base_uri": "https://localhost:8080/"
        },
        "outputId": "34cb38aa-f38f-420d-e839-ac917e3a2eee"
      },
      "source": [
        "np.sum(np.abs(X - media))"
      ],
      "execution_count": null,
      "outputs": [
        {
          "output_type": "execute_result",
          "data": {
            "text/plain": [
              "274.0"
            ]
          },
          "metadata": {
            "tags": []
          },
          "execution_count": 71
        }
      ]
    },
    {
      "cell_type": "code",
      "metadata": {
        "id": "4CwxY5ACg7ii",
        "colab": {
          "base_uri": "https://localhost:8080/"
        },
        "outputId": "73acaaa2-c61d-43ea-cd66-fcbf609b7954"
      },
      "source": [
        "# c) Cuartiles\n",
        "# Muestra\n",
        "\n",
        "Q3 = 3 * np.sum(frec) / 4\n",
        "print(\"Posicion Q3: \", Q3)\n",
        "\n",
        "Q2 = 2 * np.sum(frec) / 4\n",
        "print(\"Posicion Q2: \", Q2)\n",
        "\n",
        "Q1 = 1 * np.sum(frec) / 4\n",
        "print(\"Posicion Q1: \", Q1)\n",
        "\n",
        "print(np.percentile(X, 75))\n",
        "print(np.percentile(X, 50))\n",
        "print(np.percentile(X, 25))"
      ],
      "execution_count": null,
      "outputs": [
        {
          "output_type": "stream",
          "text": [
            "Posicion Q3:  37.5\n",
            "Posicion Q2:  25.0\n",
            "Posicion Q1:  12.5\n",
            "35.0\n",
            "30.5\n",
            "25.25\n"
          ],
          "name": "stdout"
        }
      ]
    },
    {
      "cell_type": "code",
      "metadata": {
        "id": "oL5qoj80g9Xy",
        "colab": {
          "base_uri": "https://localhost:8080/"
        },
        "outputId": "90dc584c-c166-45a4-88d4-649bbdd797fb"
      },
      "source": [
        "# Percentiles \n",
        "print(np.percentile(X, [0, 10, 20, 30, 40, 50, 60, 70 ,80, 90, 100]))"
      ],
      "execution_count": null,
      "outputs": [
        {
          "output_type": "stream",
          "text": [
            "[19.  22.  24.  26.  27.6 30.5 32.  34.3 36.2 39.  42. ]\n"
          ],
          "name": "stdout"
        }
      ]
    },
    {
      "cell_type": "code",
      "metadata": {
        "id": "P86Rbs6cg_KC",
        "colab": {
          "base_uri": "https://localhost:8080/",
          "height": 279
        },
        "outputId": "8a598882-463f-47cc-d6f9-4337cbb81a09"
      },
      "source": [
        "# d) Frecuencias acumuladas: Ojiva\n",
        "# Ojiva\n",
        "\n",
        "y = np.array([6, 17, 25, 35, 43, 50]) # Frecuencia acumulada\n",
        "\n",
        "intervalonew = np.array([19,23,27,31,35,39])\n",
        "plt.plot(intervalonew, y, c='y', marker='o', ms=10, mfc='red')\n",
        "plt.xlabel('Intervalo de clases')\n",
        "plt.ylabel('Frecuencia acumulada')\n",
        "\n",
        "plt.savefig('Actividad 4 Ojiva (Muestra).png')\n",
        "plt.show()"
      ],
      "execution_count": null,
      "outputs": [
        {
          "output_type": "display_data",
          "data": {
            "image/png": "[encoded data removed]",
            "text/plain": [
              "<Figure size 432x288 with 1 Axes>"
            ]
          },
          "metadata": {
            "tags": [],
            "needs_background": "light"
          }
        }
      ]
    },
    {
      "cell_type": "code",
      "metadata": {
        "id": "ExbzYQeMhCPy",
        "colab": {
          "base_uri": "https://localhost:8080/",
          "height": 673
        },
        "outputId": "818ae208-4029-460a-b6a9-0501576bbbdc"
      },
      "source": [
        "# Muestra\n",
        "plt.hist(X)\n",
        "plt.grid(True)\n",
        "plt.xlabel(\"Edades\")\n",
        "plt.ylabel(\"Frecuencia\")\n",
        "\n",
        "# Pie de frecuencias\n",
        "fig, ax = plt.subplots(figsize=(7,7))\n",
        "ax.pie(frec, labels=[1, 2, 3, 4, 5, 6, 7], autopct='%.2f%%',shadow=True, labeldistance=1.1)\n",
        "\n",
        "plt.show()"
      ],
      "execution_count": null,
      "outputs": [
        {
          "output_type": "display_data",
          "data": {
            "image/png": "[encoded data removed]",
            "text/plain": [
              "<Figure size 432x288 with 1 Axes>"
            ]
          },
          "metadata": {
            "tags": [],
            "needs_background": "light"
          }
        },
        {
          "output_type": "display_data",
          "data": {
            "image/png": "[encoded data removed]",
            "text/plain": [
              "<Figure size 504x504 with 1 Axes>"
            ]
          },
          "metadata": {
            "tags": []
          }
        }
      ]
    }
  ]
}
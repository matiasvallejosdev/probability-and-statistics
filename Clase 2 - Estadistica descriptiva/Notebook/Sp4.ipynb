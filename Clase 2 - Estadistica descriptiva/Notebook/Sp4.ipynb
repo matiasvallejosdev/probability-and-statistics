{
 "cells": [
  {
   "cell_type": "code",
   "execution_count": 2,
   "id": "thousand-enzyme",
   "metadata": {},
   "outputs": [],
   "source": [
    "import pandas as pd\n",
    "import numpy as np\n",
    "import matplotlib.pyplot as plt"
   ]
  },
  {
   "cell_type": "markdown",
   "id": "sealed-lyric",
   "metadata": {},
   "source": [
    "### Sp4 / h1 : Frecuencia acumulada"
   ]
  },
  {
   "cell_type": "code",
   "execution_count": null,
   "id": "external-logistics",
   "metadata": {},
   "outputs": [],
   "source": []
  }
 ],
 "metadata": {
  "kernelspec": {
   "display_name": "Python [conda env:dev-ml] *",
   "language": "python",
   "name": "conda-env-dev-ml-py"
  },
  "language_info": {
   "codemirror_mode": {
    "name": "ipython",
    "version": 3
   },
   "file_extension": ".py",
   "mimetype": "text/x-python",
   "name": "python",
   "nbconvert_exporter": "python",
   "pygments_lexer": "ipython3",
   "version": "3.8.3"
  }
 },
 "nbformat": 4,
 "nbformat_minor": 5
}

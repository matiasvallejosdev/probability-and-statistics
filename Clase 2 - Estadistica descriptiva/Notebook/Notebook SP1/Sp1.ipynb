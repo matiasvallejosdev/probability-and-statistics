{
 "cells": [
  {
   "cell_type": "code",
   "execution_count": 2,
   "id": "diagnostic-healthcare",
   "metadata": {},
   "outputs": [],
   "source": [
    "import numpy as np\n",
    "import pandas as pd"
   ]
  },
  {
   "cell_type": "markdown",
   "id": "through-prescription",
   "metadata": {},
   "source": [
    "### Sp1 / h2 : variable datos\n",
    "#### Valores estadisticos:"
   ]
  },
  {
   "cell_type": "code",
   "execution_count": 44,
   "id": "proprietary-shell",
   "metadata": {},
   "outputs": [
    {
     "name": "stdout",
     "output_type": "stream",
     "text": [
      "Cantidad de datos: 14\n",
      "Media edad: 17.357142857142858\n",
      "Mediana edad: 17\n",
      "Moda edad: 17\n"
     ]
    }
   ],
   "source": [
    "edad = pd.array([16,16,16,17,17,17,17,17,17,18,18,18,19,20])\n",
    "\n",
    "lenArray = len(edad)\n",
    "\n",
    "media = np.sum(edad) / len(edad)\n",
    "mediana = 17 #impar\n",
    "moda = 17 #repeticion 6 veces\n",
    "\n",
    "print(\"Cantidad de datos:\", lenArray)\n",
    "print(\"Media edad:\", media)\n",
    "print(\"Mediana edad:\", mediana)\n",
    "print(\"Moda edad:\", moda)"
   ]
  },
  {
   "cell_type": "code",
   "execution_count": 46,
   "id": "optimum-chain",
   "metadata": {},
   "outputs": [
    {
     "name": "stdout",
     "output_type": "stream",
     "text": [
      "Rango edad: 4\n",
      "Desviacion estandar edad: 1.1088696211614302\n",
      "Varianza edad: 1.2295918367346936\n",
      "Coeficiente variacion: 6.3885492577201735%\n"
     ]
    }
   ],
   "source": [
    "# x = max - min\n",
    "rango = 20 - 16\n",
    "# x = (x - m)2 / media\n",
    "varianza = np.sum(np.square(edad - media)) / lenArray\n",
    "# x = _/varianza\n",
    "desviacionEstandar = np.sqrt(varianza)\n",
    "# x = desviacionEstandar / media\n",
    "coeficienteVariacion = (desviacionEstandar / media) * 100\n",
    "\n",
    "print(\"Rango edad:\", rango)\n",
    "print(\"Desviacion estandar edad:\", desviacionEstandar)\n",
    "print(\"Varianza edad:\", varianza)\n",
    "print(\"Coeficiente variacion: \" + str(coeficienteVariacion) + \"%\")"
   ]
  },
  {
   "cell_type": "code",
   "execution_count": null,
   "id": "governmental-appendix",
   "metadata": {},
   "outputs": [],
   "source": []
  },
  {
   "cell_type": "markdown",
   "id": "practical-litigation",
   "metadata": {},
   "source": [
    "#### Serie de frecuencias:"
   ]
  },
  {
   "cell_type": "code",
   "execution_count": 7,
   "id": "appropriate-prediction",
   "metadata": {},
   "outputs": [
    {
     "name": "stdout",
     "output_type": "stream",
     "text": [
      "\n",
      "Datos: [14 15 16 17 18 19 20 21]\n",
      "\n",
      "Total frecuencia: 30\n",
      "\n",
      "Frecuencia: [2 3 3 5 8 4 3 2]\n",
      "\n",
      "Frecuencia relativa: [0.06666667 0.1        0.1        0.16666667 0.26666667 0.13333333\n",
      " 0.1        0.06666667]\n",
      "\n",
      "Porcentaje: [ 6.66666667 10.         10.         16.66666667 26.66666667 13.33333333\n",
      " 10.          6.66666667]\n"
     ]
    }
   ],
   "source": [
    "# 16, 18, 14, 15, 17\n",
    "# 14, 19, 18, 20, 21\n",
    "# 17, 15. 16. 18, 16\n",
    "# 18, 17, 15, 19, 18\n",
    "# 17, 20, 18, 20, 17\n",
    "# 18, 19, 21, 18, 19\n",
    "\n",
    "x = np.array([14,15,16,17,18,19,20,21])\n",
    "print('\\nDatos:', x)\n",
    "\n",
    "f = np.array([2, 3, 3, 5, 8, 4, 3, 2])      # 30\n",
    "print('\\nTotal frecuencia:', np.sum(f))\n",
    "print('\\nFrecuencia:', f)\n",
    "\n",
    "fr = f / np.sum(f)\n",
    "p = np.dot(fr, 100)\n",
    "\n",
    "print('\\nFrecuencia relativa:', fr)\n",
    "print('\\nPorcentaje:', p)"
   ]
  },
  {
   "cell_type": "code",
   "execution_count": null,
   "id": "psychological-rental",
   "metadata": {},
   "outputs": [],
   "source": []
  },
  {
   "cell_type": "markdown",
   "id": "conscious-stanley",
   "metadata": {},
   "source": [
    "#### Serie de frecuencias por intervalos agrupados:"
   ]
  },
  {
   "cell_type": "code",
   "execution_count": 5,
   "id": "designed-empire",
   "metadata": {},
   "outputs": [
    {
     "name": "stdout",
     "output_type": "stream",
     "text": [
      "[[22 19 16 13 18 15 20 14 15 16]\n",
      " [15 16 20 13 15 18 15 13 18 15]]\n",
      "20\n",
      "9\n",
      "5.322021645595746\n",
      "1.6910866958701634\n"
     ]
    }
   ],
   "source": [
    "X = np.array([[22, 19, 16, 13, 18, 15, 20, 14, 15, 16], [15, 16, 20, 13, 15, 18, 15, 13, 18, 15]])\n",
    "print(X)\n",
    "\n",
    "datos = X.shape[1] * X.shape[0]\n",
    "print(datos)\n",
    "\n",
    "rango = 22 - 13\n",
    "print(rango)\n",
    "\n",
    "intervalos = 1 + 3.322 * np.log10(datos)\n",
    "print(intervalos)\n",
    "\n",
    "amplitud = rango / intervalos\n",
    "print(amplitud)"
   ]
  },
  {
   "cell_type": "code",
   "execution_count": null,
   "id": "intellectual-buyer",
   "metadata": {},
   "outputs": [],
   "source": []
  }
 ],
 "metadata": {
  "kernelspec": {
   "display_name": "Python [conda env:dev-ml] *",
   "language": "python",
   "name": "conda-env-dev-ml-py"
  },
  "language_info": {
   "codemirror_mode": {
    "name": "ipython",
    "version": 3
   },
   "file_extension": ".py",
   "mimetype": "text/x-python",
   "name": "python",
   "nbconvert_exporter": "python",
   "pygments_lexer": "ipython3",
   "version": "3.8.3"
  }
 },
 "nbformat": 4,
 "nbformat_minor": 5
}

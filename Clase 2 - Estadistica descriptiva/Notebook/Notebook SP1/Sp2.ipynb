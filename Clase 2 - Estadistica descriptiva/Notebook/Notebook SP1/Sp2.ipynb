{
 "cells": [
  {
   "cell_type": "code",
   "execution_count": 2,
   "id": "individual-review",
   "metadata": {},
   "outputs": [],
   "source": [
    "import pandas as pd\n",
    "import numpy as np\n",
    "import matplotlib.pyplot as plt"
   ]
  },
  {
   "cell_type": "markdown",
   "id": "sustainable-homeless",
   "metadata": {},
   "source": [
    "### Sp2 / h1 : diagramas"
   ]
  },
  {
   "cell_type": "code",
   "execution_count": 8,
   "id": "advisory-helicopter",
   "metadata": {},
   "outputs": [
    {
     "name": "stdout",
     "output_type": "stream",
     "text": [
      "[19 19 20 20 20 20 20 20 21 21 21 21 21 21 21 21 21 22 22 22 22 22 22 22\n",
      " 23 23 23 24 24 25]\n"
     ]
    }
   ],
   "source": [
    "x = np.array([19, 19,20, 20, 20, 20, 20, 20, 21, 21, 21, 21, 21, 21, 21 ,21 ,21 ,22, 22, 22, 22, 22 ,22 ,22, 23, 23, 23, 24, 24, 25])\n",
    "print(x)"
   ]
  },
  {
   "cell_type": "code",
   "execution_count": 10,
   "id": "liquid-tribute",
   "metadata": {},
   "outputs": [
    {
     "name": "stdout",
     "output_type": "stream",
     "text": [
      "[20 22 24]\n",
      "[2 6 9 7 3 2 1]\n",
      "[0.06666667 0.2        0.3        0.23333333 0.1        0.06666667\n",
      " 0.03333333]\n",
      "[ 2  8 15 23 26 28 29]\n",
      "[19 20 21 22 23 24 25]\n"
     ]
    }
   ],
   "source": [
    "# Serie de frecuencias\n",
    "xmarca = np.array([20, 22, 24])\n",
    "frec = np.array([2,6,9,7,3,2,1]) # frecuencia intervalo 1\n",
    "\n",
    "frecrelativa = frec / np.sum(frec) # frecuencia relativa ^\n",
    "\n",
    "frecabsoluta = np.array([2, 8, 15, 23, 26, 28, 29]) # frecuencia absoluta\n",
    "\n",
    "intervalo1 = np.array([19,20,21,22,23,24,25]) # intervalo 1\n",
    "\n",
    "print(xmarca)\n",
    "print(frec)\n",
    "print(frecrelativa)\n",
    "print(frecabsoluta)\n",
    "print(intervalo1)"
   ]
  },
  {
   "cell_type": "code",
   "execution_count": null,
   "id": "further-marble",
   "metadata": {},
   "outputs": [],
   "source": []
  },
  {
   "cell_type": "code",
   "execution_count": 12,
   "id": "electrical-judge",
   "metadata": {},
   "outputs": [
    {
     "name": "stdout",
     "output_type": "stream",
     "text": [
      "6\n",
      "5.0\n",
      "1.2\n",
      "[[19 21]\n",
      " [21 23]\n",
      " [23 25]]\n"
     ]
    }
   ],
   "source": [
    "# Serie de frecuencias por intervalos procedimiento\n",
    "rango = np.max(x) - np.min(x) \n",
    "intervalo = np.floor(1 + 3.322 * np.log10(len(x)))\n",
    "amplitud = rango / intervalo\n",
    "\n",
    "intervalo2 = np.array([[19, 21], [21, 23], [23, 25]]) # intervalo 2.0\n",
    "\n",
    "print(rango)\n",
    "print(intervalo)\n",
    "print(amplitud)\n",
    "print(intervalo2)"
   ]
  },
  {
   "cell_type": "code",
   "execution_count": null,
   "id": "convinced-magnitude",
   "metadata": {},
   "outputs": [],
   "source": []
  },
  {
   "cell_type": "code",
   "execution_count": 136,
   "id": "likely-reading",
   "metadata": {},
   "outputs": [
    {
     "name": "stdout",
     "output_type": "stream",
     "text": [
      "[1 2 3 4 5 6 7]\n",
      "[2 6 0 9 0 7 3 0 2 1]\n",
      "[19.  19.6 20.2 20.8 21.4 22.  22.6 23.2 23.8 24.4 25. ]\n"
     ]
    }
   ],
   "source": [
    "## Histograma en numpy\n",
    "a = np.arange(len(frec))\n",
    "hist = np.histogram(x)\n",
    "\n",
    "print(y)\n",
    "print(hist[0]) # frecuencia intervalo 0.6\n",
    "print(hist[1]) # intervalo 0.6"
   ]
  },
  {
   "cell_type": "markdown",
   "id": "streaming-hudson",
   "metadata": {},
   "source": [
    "#### Diagrama bastones (bar)"
   ]
  },
  {
   "cell_type": "code",
   "execution_count": 18,
   "id": "foster-fluid",
   "metadata": {},
   "outputs": [
    {
     "data": {
      "text/plain": [
       "<BarContainer object of 7 artists>"
      ]
     },
     "execution_count": 18,
     "metadata": {},
     "output_type": "execute_result"
    },
    {
     "data": {
      "image/png": "[encoded data removed]",
      "text/plain": [
       "<Figure size 576x360 with 1 Axes>"
      ]
     },
     "metadata": {
      "needs_background": "light"
     },
     "output_type": "display_data"
    }
   ],
   "source": [
    "fig, ax = plt.subplots(figsize=(8,5))\n",
    "ax.bar(y,frec,width=0.5, hatch='/', edgecolor='black', ls='--', linewidth=3, color='orange')"
   ]
  },
  {
   "cell_type": "markdown",
   "id": "sexual-syntax",
   "metadata": {},
   "source": [
    "#### Diagrama sectore (pie)"
   ]
  },
  {
   "cell_type": "code",
   "execution_count": 19,
   "id": "historic-click",
   "metadata": {},
   "outputs": [
    {
     "data": {
      "text/plain": [
       "([<matplotlib.patches.Wedge at 0x207b4b34f40>,\n",
       "  <matplotlib.patches.Wedge at 0x207b4b418b0>,\n",
       "  <matplotlib.patches.Wedge at 0x207b4b4e1c0>,\n",
       "  <matplotlib.patches.Wedge at 0x207b4b4ea90>,\n",
       "  <matplotlib.patches.Wedge at 0x207b4b5c3d0>,\n",
       "  <matplotlib.patches.Wedge at 0x207b4b5cca0>,\n",
       "  <matplotlib.patches.Wedge at 0x207b4b6a5b0>],\n",
       " [Text(1.075962358309037, 0.22870287165240302, ''),\n",
       "  Text(0.5499999702695115, 0.9526279613277875, ''),\n",
       "  Text(-0.9526279870751434, 0.5499999256737774, ''),\n",
       "  Text(-0.44741018820837447, -1.0049000564669837, ''),\n",
       "  Text(0.646563890003987, -0.8899186120892812, ''),\n",
       "  Text(1.0049000669393746, -0.4474101646869913, ''),\n",
       "  Text(1.093974103116432, -0.11498113632504307, '')],\n",
       " [Text(0.5868885590776565, 0.12474702090131072, '6.67%'),\n",
       "  Text(0.2999999837833699, 0.5196152516333385, '20.00%'),\n",
       "  Text(-0.5196152656773508, 0.299999959458424, '30.00%'),\n",
       "  Text(-0.24404192084093151, -0.5481273035274455, '23.33%'),\n",
       "  Text(0.3526712127294474, -0.48541015204869875, '10.00%'),\n",
       "  Text(0.5481273092396588, -0.2440419080110861, '6.67%'),\n",
       "  Text(0.5967131471544175, -0.06271698345002348, '3.33%')])"
      ]
     },
     "execution_count": 19,
     "metadata": {},
     "output_type": "execute_result"
    },
    {
     "data": {
      "image/png": "[encoded data removed]",
      "text/plain": [
       "<Figure size 576x576 with 1 Axes>"
      ]
     },
     "metadata": {},
     "output_type": "display_data"
    }
   ],
   "source": [
    "fig, ax = plt.subplots(figsize=(8,8))\n",
    "ax.pie(frec, autopct='%.2f%%',shadow=True, labeldistance=1.1)"
   ]
  },
  {
   "cell_type": "markdown",
   "id": "baking-computer",
   "metadata": {},
   "source": [
    "#### Histogramas"
   ]
  },
  {
   "cell_type": "code",
   "execution_count": 16,
   "id": "selective-comparison",
   "metadata": {},
   "outputs": [
    {
     "data": {
      "image/png": "[encoded data removed]",
      "text/plain": [
       "<Figure size 432x288 with 1 Axes>"
      ]
     },
     "metadata": {
      "needs_background": "light"
     },
     "output_type": "display_data"
    },
    {
     "data": {
      "text/plain": [
       "<Figure size 432x288 with 0 Axes>"
      ]
     },
     "metadata": {},
     "output_type": "display_data"
    }
   ],
   "source": [
    "plt.hist(x, bins=intervalo1)\n",
    "plt.grid(True)\n",
    "plt.show()\n",
    "plt.clf()"
   ]
  }
 ],
 "metadata": {
  "kernelspec": {
   "display_name": "Python [conda env:dev-ml] *",
   "language": "python",
   "name": "conda-env-dev-ml-py"
  },
  "language_info": {
   "codemirror_mode": {
    "name": "ipython",
    "version": 3
   },
   "file_extension": ".py",
   "mimetype": "text/x-python",
   "name": "python",
   "nbconvert_exporter": "python",
   "pygments_lexer": "ipython3",
   "version": "3.8.3"
  }
 },
 "nbformat": 4,
 "nbformat_minor": 5
}

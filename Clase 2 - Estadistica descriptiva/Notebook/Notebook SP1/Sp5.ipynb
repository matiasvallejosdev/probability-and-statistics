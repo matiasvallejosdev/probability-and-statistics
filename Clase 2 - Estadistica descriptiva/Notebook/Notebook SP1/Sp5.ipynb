{
 "cells": [
  {
   "cell_type": "code",
   "execution_count": 2,
   "id": "vital-conditions",
   "metadata": {},
   "outputs": [],
   "source": [
    "import pandas as pd\n",
    "import numpy as np\n",
    "import matplotlib.pyplot as plt"
   ]
  },
  {
   "cell_type": "markdown",
   "id": "silent-sentence",
   "metadata": {},
   "source": [
    "### Sp5 / h1 : Valores de dispersion (Tabla frecuencia: valores agrupados)"
   ]
  },
  {
   "cell_type": "markdown",
   "id": "honest-casting",
   "metadata": {},
   "source": [
    "#### Valores estudidados:\n",
    "- Alcance o Rango\n",
    "- Desvío medio"
   ]
  },
  {
   "cell_type": "code",
   "execution_count": 47,
   "id": "greatest-azerbaijan",
   "metadata": {},
   "outputs": [
    {
     "name": "stdout",
     "output_type": "stream",
     "text": [
      "\n",
      "Datos:  [3 0 1 0 2 0 1]\n",
      "\n",
      "Promedio:  1.0\n",
      "\n",
      "Desviacion media:  0.8571428571428571\n"
     ]
    }
   ],
   "source": [
    "# Rango == Max - Min\n",
    "# Desviacion media == ∑ Xi - X / n\n",
    "\n",
    "e = np.array([3,0,1,0,2,0,1])\n",
    "print(\"\\nDatos: \", e)\n",
    "\n",
    "p = np.sum(e) / e.size\n",
    "print(\"\\nPromedio: \", p)\n",
    "\n",
    "dm = np.sum(np.abs(e - p)) / e.size # la suma del valor absouluto menos el promedio dividido entre el tamaño\n",
    "print(\"\\nDesviacion media: \", dm)"
   ]
  },
  {
   "cell_type": "markdown",
   "id": "indoor-sleep",
   "metadata": {},
   "source": [
    "- Varianza\n",
    "- Desvío estándar"
   ]
  },
  {
   "cell_type": "code",
   "execution_count": 30,
   "id": "through-event",
   "metadata": {},
   "outputs": [
    {
     "name": "stdout",
     "output_type": "stream",
     "text": [
      "\n",
      "Datos:  [5 6 6 7 8]\n",
      "\n",
      "Promedio:  6.4\n",
      "\n",
      "Varianza^2:  1.0399999999999998\n",
      "\n",
      "Desvio estandar:  1.0198039027185568\n"
     ]
    }
   ],
   "source": [
    "# Varianza  ==    ∑ (Xi - X) ** 2 / n    |o|     ∑ (Xi - X) ** 2 / (n - 1)       \n",
    "# Desvio estandar ==  _/varianza\n",
    "\n",
    "e = np.array([5,6,6,7,8]) # Datos\n",
    "print(\"\\nDatos: \", e)\n",
    "\n",
    "p = np.sum(e) / e.size # Promedio\n",
    "print(\"\\nPromedio: \", p)\n",
    "\n",
    "S = np.sum(np.square(e - p)) / e.size # Varianza\n",
    "print(\"\\nVarianza^2: \", S)\n",
    "\n",
    "r = np.sqrt(S) # Desvio estandar\n",
    "print(\"\\nDesvio estandar: \", r)"
   ]
  },
  {
   "cell_type": "code",
   "execution_count": null,
   "id": "compact-thirty",
   "metadata": {},
   "outputs": [],
   "source": []
  },
  {
   "cell_type": "markdown",
   "id": "religious-pizza",
   "metadata": {},
   "source": [
    "Ejercicio medidas dispercion:"
   ]
  },
  {
   "cell_type": "code",
   "execution_count": 46,
   "id": "copyrighted-conversion",
   "metadata": {},
   "outputs": [
    {
     "name": "stdout",
     "output_type": "stream",
     "text": [
      "[52 55 58]\n",
      "55.0\n",
      "2.0\n",
      "9.0\n",
      "3.0\n"
     ]
    }
   ],
   "source": [
    "exc = np.array([52,55,58])\n",
    "p = np.sum(exc) / exc.size\n",
    "dm = np.sum(np.abs(exc - p)) / exc.size\n",
    "s = np.sum(np.square(exc - p)) / (exc.size - 1)\n",
    "r = np.sqrt(s)\n",
    "\n",
    "print(e)\n",
    "print(p)\n",
    "print(dm)\n",
    "print(s)\n",
    "print(r)"
   ]
  },
  {
   "cell_type": "code",
   "execution_count": null,
   "id": "crucial-consultancy",
   "metadata": {},
   "outputs": [],
   "source": []
  },
  {
   "cell_type": "markdown",
   "id": "mounted-korean",
   "metadata": {},
   "source": [
    "**Formulas:**\n",
    "\n",
    "_Media:_\n",
    "\n",
    "![Texto alternativo](../Images/105_145_mm.jpg)\n",
    "\n",
    "_Desvio medio:_\n",
    "\n",
    "![Texto alternativo](../Images/108_145_mm.jpg \"Tabla\")\n",
    "\n",
    "_Varianza:_\n",
    "\n",
    "![Texto alternativo](../Images/109_145_mm.jpg \"Tabla\")\n",
    "\n",
    "_Desvio estandar:_\n",
    "\n",
    "![Texto alternativo](../Images/113_145_mm.jpg \"Tabla\")\n",
    "\n",
    "_Coeficiente variacion:_\n",
    "\n",
    "![Texto alternativo](../Images/136_145_mm.jpg \"Tabla\")"
   ]
  },
  {
   "cell_type": "code",
   "execution_count": null,
   "id": "aggregate-contributor",
   "metadata": {},
   "outputs": [],
   "source": []
  },
  {
   "cell_type": "markdown",
   "id": "regular-penalty",
   "metadata": {},
   "source": [
    "#### Ejercicio TID:\n",
    "![Texto alternativo](../Images/116_145_mm.jpg \"Tabla\")"
   ]
  },
  {
   "cell_type": "code",
   "execution_count": 128,
   "id": "noticed-expansion",
   "metadata": {},
   "outputs": [
    {
     "name": "stdout",
     "output_type": "stream",
     "text": [
      "174.0\n",
      "6.489795918367347\n",
      "64.66666666666667\n",
      "8.04155872120988\n",
      "[0.04081633 0.08163265 0.18367347 0.2244898  0.2244898  0.16326531\n",
      " 0.06122449 0.02040816]\n",
      "4.621585471959701\n"
     ]
    }
   ],
   "source": [
    "Fi = np.array([2,4,9,11,11,8,3,1]) # frecuencia\n",
    "Xi = np.array([158, 163, 168, 173, 178, 183, 188, 193]) # Ls - Li / 2\n",
    "XiFi = np.array([316,652,1512,1903,1958,1464,564,193]) # Xi * fi\n",
    "\n",
    "promedio = np.floor(np.sum(XiFi) / np.sum(Fi)) # ∑ (Xi * fi) / n\n",
    "\n",
    "desvioMedio = np.sum(np.abs(Xi - promedio) * Fi) / np.sum(Fi) # Xi - X * fi / sum(fi)             ***** ABSOLUTAS!\n",
    "\n",
    "v1 = np.square(Xi - promedio) * Fi\n",
    "varianza = np.sum(v1) / (np.sum(Fi) - 1)\n",
    "\n",
    "desviacionEstandar = np.sqrt(varianza)\n",
    "\n",
    "fr = Fi / np.sum(Fi)\n",
    "\n",
    "coeficientevar = (desviacionEstandar / promedio ) * 100\n",
    "\n",
    "print(promedio)\n",
    "print(desvioMedio)\n",
    "print(varianza)\n",
    "print(desviacionEstandar)\n",
    "print(fr)\n",
    "print(coeficientevar)"
   ]
  }
 ],
 "metadata": {
  "kernelspec": {
   "display_name": "Python [conda env:dev-ml] *",
   "language": "python",
   "name": "conda-env-dev-ml-py"
  },
  "language_info": {
   "codemirror_mode": {
    "name": "ipython",
    "version": 3
   },
   "file_extension": ".py",
   "mimetype": "text/x-python",
   "name": "python",
   "nbconvert_exporter": "python",
   "pygments_lexer": "ipython3",
   "version": "3.8.3"
  }
 },
 "nbformat": 4,
 "nbformat_minor": 5
}

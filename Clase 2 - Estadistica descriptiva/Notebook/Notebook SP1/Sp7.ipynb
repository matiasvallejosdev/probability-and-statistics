{
 "cells": [
  {
   "cell_type": "code",
   "execution_count": 2,
   "id": "overhead-designation",
   "metadata": {},
   "outputs": [],
   "source": [
    "import pandas as pd\n",
    "import numpy as np\n",
    "import matplotlib.pyplot as plt"
   ]
  },
  {
   "cell_type": "markdown",
   "id": "other-ocean",
   "metadata": {},
   "source": [
    "### Sp6 / h1 : Cuartiles, deciles y percentiles \n",
    "\n",
    "> Ref: https://www.monografias.com/trabajos90/medidas-posicion-y-forma/medidas-posicion-y-forma.shtml"
   ]
  },
  {
   "cell_type": "markdown",
   "id": "revised-religious",
   "metadata": {},
   "source": [
    "![Texto alternativo](../Images/399_145_mm.jpg \"Tabla\")"
   ]
  }
 ],
 "metadata": {
  "kernelspec": {
   "display_name": "Python [conda env:dev-ml] *",
   "language": "python",
   "name": "conda-env-dev-ml-py"
  },
  "language_info": {
   "codemirror_mode": {
    "name": "ipython",
    "version": 3
   },
   "file_extension": ".py",
   "mimetype": "text/x-python",
   "name": "python",
   "nbconvert_exporter": "python",
   "pygments_lexer": "ipython3",
   "version": "3.8.3"
  }
 },
 "nbformat": 4,
 "nbformat_minor": 5
}

{
 "cells": [
  {
   "cell_type": "code",
   "execution_count": 2,
   "id": "horizontal-withdrawal",
   "metadata": {},
   "outputs": [],
   "source": [
    "import pandas as pd\n",
    "import numpy as np\n",
    "import matplotlib.pyplot as plt"
   ]
  },
  {
   "cell_type": "markdown",
   "id": "premium-deficit",
   "metadata": {},
   "source": [
    "### Sp6 / h1 : Coeficiente de variacion (Tabla frecuencia: valores agrupados)"
   ]
  },
  {
   "cell_type": "markdown",
   "id": "ignored-planner",
   "metadata": {},
   "source": [
    "![Texto alternativo](../Images/399_145_mm.jpg \"Tabla\")"
   ]
  },
  {
   "cell_type": "code",
   "execution_count": 5,
   "id": "political-papua",
   "metadata": {},
   "outputs": [
    {
     "name": "stdout",
     "output_type": "stream",
     "text": [
      "4.620689655172414\n"
     ]
    }
   ],
   "source": [
    "# Coeficiente de variacion == (desviacionestandar / promedio) * 100\n",
    "\n",
    "x = 174.0 # promedio\n",
    "dm = 6.49\n",
    "var = 64.66\n",
    "de = 8.04\n",
    "\n",
    "coeficientevar = (de / x) * 100\n",
    "print(coeficientevar)"
   ]
  }
 ],
 "metadata": {
  "kernelspec": {
   "display_name": "Python [conda env:dev-ml] *",
   "language": "python",
   "name": "conda-env-dev-ml-py"
  },
  "language_info": {
   "codemirror_mode": {
    "name": "ipython",
    "version": 3
   },
   "file_extension": ".py",
   "mimetype": "text/x-python",
   "name": "python",
   "nbconvert_exporter": "python",
   "pygments_lexer": "ipython3",
   "version": "3.8.3"
  }
 },
 "nbformat": 4,
 "nbformat_minor": 5
}

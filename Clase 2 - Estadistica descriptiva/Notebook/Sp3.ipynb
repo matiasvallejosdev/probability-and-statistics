{
 "cells": [
  {
   "cell_type": "code",
   "execution_count": 2,
   "id": "affecting-latter",
   "metadata": {},
   "outputs": [],
   "source": [
    "import pandas as pd\n",
    "import numpy as np\n",
    "import matplotlib.pyplot as plt"
   ]
  },
  {
   "cell_type": "markdown",
   "id": "beginning-evidence",
   "metadata": {},
   "source": [
    "### Sp3 / h1 : Distribucion de intervalos de clases"
   ]
  },
  {
   "cell_type": "code",
   "execution_count": 9,
   "id": "bronze-guyana",
   "metadata": {},
   "outputs": [
    {
     "name": "stdout",
     "output_type": "stream",
     "text": [
      "[[22 19 16 13 18 15 20 14 15 16]\n",
      " [15 16 20 13 15 18 15 13 18 15]]\n",
      "20\n",
      "9\n",
      "5.322021645595746\n",
      "1.6910866958701634\n"
     ]
    }
   ],
   "source": [
    "# Mayor a 20 \n",
    "\n",
    "X = np.array([[22, 19, 16, 13, 18, 15, 20, 14, 15, 16], [15, 16, 20, 13, 15, 18, 15, 13, 18, 15]])\n",
    "print(X)\n",
    "\n",
    "count = X.shape[0] * X.shape[1] # total\n",
    "print(count)\n",
    "\n",
    "rango = np.max(X) - np.min(X) # rango\n",
    "print(rango)\n",
    "\n",
    "z = 1 + 3.322 * np.log10(count) # intervalo\n",
    "print(z)\n",
    "\n",
    "A = rango / z # amplitud\n",
    "print(A)"
   ]
  },
  {
   "cell_type": "code",
   "execution_count": null,
   "id": "rolled-metro",
   "metadata": {},
   "outputs": [],
   "source": []
  },
  {
   "cell_type": "markdown",
   "id": "visible-reservation",
   "metadata": {},
   "source": [
    "#### Ejercicio tabla de frecuencias agrupadas en intervalos:"
   ]
  },
  {
   "cell_type": "code",
   "execution_count": 35,
   "id": "designing-vision",
   "metadata": {},
   "outputs": [
    {
     "name": "stdout",
     "output_type": "stream",
     "text": [
      "[[58 50 56 56 58]\n",
      " [58 56 63 50 63]\n",
      " [68 63 64 64 53]\n",
      " [60 68 65 63 61]\n",
      " [55 65 56 63 52]\n",
      " [57 60 59 58 64]]\n",
      "\n",
      "Rango:  18\n",
      "\n",
      "Intervalos:  5.0\n",
      "\n",
      "Amplitud: 4.0\n",
      "\n",
      "Nuevo rango:  2.0\n"
     ]
    }
   ],
   "source": [
    "Xe = np.array([[58, 50, 56, 56, 58],\n",
    "              [58, 56, 63, 50, 63],\n",
    "              [68, 63, 64, 64, 53],\n",
    "              [60, 68, 65, 63, 61],\n",
    "              [55, 65, 56, 63, 52],\n",
    "              [57, 60, 59, 58, 64]])\n",
    "print(Xe)\n",
    "\n",
    "r = np.max(Xe) - np.min(Xe)\n",
    "print(\"\\nRango: \", r)\n",
    "\n",
    "z = np.floor(1 + 3.332 * np.log10(Xe.size)) # Redondeamos a impar (np.floor)\n",
    "print(\"\\nIntervalos: \", z)\n",
    "\n",
    "A = np.round(r / z) # Redondeamos al mas cercano (np.round)\n",
    "print(\"\\nAmplitud:\", A)\n",
    "\n",
    "Nr = (A * z) - r # Nuevo rango\n",
    "print(\"\\nNuevo rango: \", Nr)"
   ]
  },
  {
   "cell_type": "code",
   "execution_count": 57,
   "id": "polyphonic-repeat",
   "metadata": {},
   "outputs": [
    {
     "name": "stdout",
     "output_type": "stream",
     "text": [
      "[49 53 57 61 65 69]\n",
      "[51 55 59 63 67]\n",
      "[3 6 8 9 4]\n",
      "30\n",
      "[0.1        0.2        0.26666667 0.3        0.13333333]\n",
      "[ 3  9 17 26 30]\n"
     ]
    }
   ],
   "source": [
    "rang = np.array([49, 53, 57, 61, 65, 69]) # Rango\n",
    "print(rang)\n",
    "\n",
    "Xi = np.array([51, 55, 59, 63, 67]) # lI - LS / 2 (Promedio marca de clase)\n",
    "print(Xi)\n",
    "\n",
    "f = np.array([3, 6, 8, 9, 4]) # Frecuencia (rango 4) f > X\n",
    "print(f) # == total\n",
    "\n",
    "frec, bins_edge = np.histogram(Xe, bins = rang) # Frecuencia definida por numpy\n",
    "print(np.sum(frec)) \n",
    "\n",
    "fr = frec / np.sum(Xe.size) # Frecuencia relativa f1 / n\n",
    "print(fr) # == 1\n",
    "\n",
    "fA = np.array([3,9,17,26,30]) # Acumulacion de frecuencias \n",
    "print(fA) # == (3, 3+9, 3+9+8, 3+9+8+9, 3+9+8+9+4) "
   ]
  }
 ],
 "metadata": {
  "kernelspec": {
   "display_name": "Python [conda env:dev-ml] *",
   "language": "python",
   "name": "conda-env-dev-ml-py"
  },
  "language_info": {
   "codemirror_mode": {
    "name": "ipython",
    "version": 3
   },
   "file_extension": ".py",
   "mimetype": "text/x-python",
   "name": "python",
   "nbconvert_exporter": "python",
   "pygments_lexer": "ipython3",
   "version": "3.8.3"
  }
 },
 "nbformat": 4,
 "nbformat_minor": 5
}

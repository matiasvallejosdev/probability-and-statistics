{
 "cells": [
  {
   "cell_type": "code",
   "execution_count": 1,
   "id": "upset-floating",
   "metadata": {},
   "outputs": [],
   "source": [
    "import pandas as pd\n",
    "import numpy as np\n",
    "import matplotlib.pyplot as plt\n",
    "from scipy import stats as st"
   ]
  },
  {
   "cell_type": "markdown",
   "id": "afraid-croatia",
   "metadata": {},
   "source": [
    "### TP1: Actividad 4\n",
    "\n",
    "4) Una empresa consultora ha entrevistado un grupo de 50 personas a las cuales les han preguntado la edad. Se obtuvieron los siguientes datos:\n",
    "\n",
    "23\t34\t21\t41\t42\t35\t32\t36\t27\t20\n",
    "19\t31\t39\t38\t41\t26\t24\t27\t30\t33\n",
    "23\t32\t40\t34\t25\t28\t29\t30\t22\t24\n",
    "26\t36\t38\t21\t39\t22\t33\t35\t32\t28\n",
    "27\t26\t24\t32\t37\t39\t32\t24\t35\t26\n",
    "\n",
    "Se ha decidido organizar los datos en intervalos. A partir de estos datos, ya organizados, determine:\n",
    "\n",
    "    a)\tValores de posición: media, mediana y moda. Cuál tomará como representativo de la distribución?\n",
    "    b)\tValores de Dispersión. Cuál tomará como represntativo?\n",
    "    c)\tCuartiles. Qué información le proporcionan?\n",
    "    d)\tRepresentar gráficamente las frecuencias acumuladas.\n",
    "    e)\tObtener conclusiones.\n",
    "\n"
   ]
  },
  {
   "cell_type": "code",
   "execution_count": 10,
   "id": "gorgeous-climb",
   "metadata": {},
   "outputs": [
    {
     "name": "stdout",
     "output_type": "stream",
     "text": [
      "Muestra:  [19 20 21 21 22 22 23 23 24 24 24 24 25 26 26 26 26 27 27 27 28 28 29 30\n",
      " 30 31 32 32 32 32 32 33 33 34 34 35 35 35 36 36 37 38 38 39 39 39 40 41\n",
      " 41 42]\n",
      "\n",
      "Total muestra:  50\n",
      "\n",
      "Menor muestra:  19\n",
      "Mayor muestra:  42\n"
     ]
    }
   ],
   "source": [
    "X = np.array([23, 34, 21, 41, 42, 35, 32, 36, 27, 20, 19, 31, 39, 38, 41, 26, 24, 27, 30, 33, 23, 32, 40, 34, 25, 28, 29, 30, 22, 24, 26, 36, 38, 21, 39, 22, 33, 35, 32, 28, 27, 26, 24, 32, 37, 39, 32, 24, 35, 26])\n",
    "X = np.sort(X, axis=None)\n",
    "n = X.size\n",
    "\n",
    "print(\"Muestra: \", X)\n",
    "print(\"\\nTotal muestra: \", n)\n",
    "print(\"\\nMenor muestra: \", np.min(X))\n",
    "print(\"Mayor muestra: \", np.max(X))"
   ]
  },
  {
   "cell_type": "code",
   "execution_count": 4,
   "id": "starting-lyric",
   "metadata": {},
   "outputs": [
    {
     "data": {
      "text/plain": [
       "count    50.000000\n",
       "mean     30.360000\n",
       "std       6.381606\n",
       "min      19.000000\n",
       "25%      25.250000\n",
       "50%      30.500000\n",
       "75%      35.000000\n",
       "max      42.000000\n",
       "dtype: float64"
      ]
     },
     "execution_count": 4,
     "metadata": {},
     "output_type": "execute_result"
    }
   ],
   "source": [
    "Xpandas = pd.Series(X)\n",
    "Xpandas.describe()"
   ]
  },
  {
   "cell_type": "code",
   "execution_count": null,
   "id": "wicked-carbon",
   "metadata": {},
   "outputs": [],
   "source": []
  },
  {
   "cell_type": "code",
   "execution_count": 8,
   "id": "objective-knitting",
   "metadata": {},
   "outputs": [
    {
     "name": "stdout",
     "output_type": "stream",
     "text": [
      "Rango:  23\n",
      "Intervalo:  7.0\n",
      "Amplitud:  3.461781296255042\n"
     ]
    }
   ],
   "source": [
    "# a) Tabla frecuencias\n",
    "# Muestra:\n",
    "\n",
    "R = np.max(X) - np.min(X)\n",
    "K = (1 + 3.322 * np.log10(X.size))\n",
    "A = (R / K) \n",
    "\n",
    "print(\"Rango: \", R)\n",
    "print(\"Intervalo: \", np.round(K))\n",
    "print(\"Amplitud: \", A)"
   ]
  },
  {
   "cell_type": "code",
   "execution_count": null,
   "id": "impressed-continent",
   "metadata": {},
   "outputs": [],
   "source": []
  },
  {
   "cell_type": "code",
   "execution_count": 12,
   "id": "finite-badge",
   "metadata": {},
   "outputs": [
    {
     "name": "stdout",
     "output_type": "stream",
     "text": [
      "Frecuencia:  [ 6 11  8 10  8  7  0]\n",
      "Intervalo:  [19 23 27 31 35 39 43 47]\n",
      "Frecuencia relativa:  [0.12 0.22 0.16 0.2  0.16 0.14 0.  ]\n",
      "Frecuencia relativa:  [12. 22. 16. 20. 16. 14.  0.]\n"
     ]
    }
   ],
   "source": [
    "intervalo = np.array([19,23,27,31,35,39,43,47])\n",
    "frec, bins = np.histogram(X, bins = intervalo) # Frecuencia definida por numpy\n",
    "print(\"Frecuencia: \", frec)\n",
    "print(\"Intervalo: \", bins)\n",
    "\n",
    "frecrel = frec / np.sum(X.size)\n",
    "print(\"Frecuencia relativa: \", frecrel)\n",
    "\n",
    "frecrelporc = frecrel * 100\n",
    "print(\"Frecuencia relativa: \", frecrelporc)"
   ]
  },
  {
   "cell_type": "code",
   "execution_count": null,
   "id": "statistical-gamma",
   "metadata": {},
   "outputs": [],
   "source": []
  },
  {
   "cell_type": "code",
   "execution_count": 24,
   "id": "entitled-theater",
   "metadata": {},
   "outputs": [
    {
     "name": "stdout",
     "output_type": "stream",
     "text": [
      "Media:  30.36\n",
      "Mediana:  30.5\n",
      "Moda:  ModeResult(mode=array([32]), count=array([5]))\n"
     ]
    }
   ],
   "source": [
    "# a) \n",
    "# Media mediana y moda\n",
    "# Muestra \n",
    "\n",
    "media = (np.sum(X) / np.sum(frec))\n",
    "print(\"Media: \", media)\n",
    "\n",
    "print(\"Mediana: \", np.median(X))\n",
    "\n",
    "moda = st.mode(X)\n",
    "print(\"Moda: \", moda)"
   ]
  },
  {
   "cell_type": "code",
   "execution_count": 20,
   "id": "naval-treasure",
   "metadata": {},
   "outputs": [
    {
     "name": "stdout",
     "output_type": "stream",
     "text": [
      "\n",
      "Promedio:  30.36\n",
      "\n",
      "Desviacion media:  5.48\n",
      "\n",
      "Varianza:  39.9104\n",
      "\n",
      "Desvio estandar:  6.317467847167883\n",
      "\n",
      "Coeficiente de variacion:  20.808523870776956\n"
     ]
    }
   ],
   "source": [
    "# b) Valores de dispercion\n",
    "\n",
    "p = np.sum(X) / X.size # Promedio\n",
    "print(\"\\nPromedio: \", p)\n",
    "\n",
    "dm = np.sum(np.abs(X - p)) / X.size # la suma del valor absouluto menos el promedio dividido entre el tamaño de muestra\n",
    "print(\"\\nDesviacion media: \", dm)\n",
    "\n",
    "S = np.sum(np.square(X - p)) / X.size # Varianza\n",
    "print(\"\\nVarianza: \", S)\n",
    "\n",
    "r = np.sqrt(S) # Desvio estandar\n",
    "print(\"\\nDesvio estandar: \", r)\n",
    "\n",
    "coeficientevar = (r / media) * 100\n",
    "print(\"\\nCoeficiente de variacion: \", coeficientevar)"
   ]
  },
  {
   "cell_type": "code",
   "execution_count": 21,
   "id": "vanilla-loading",
   "metadata": {},
   "outputs": [
    {
     "data": {
      "text/plain": [
       "1995.52"
      ]
     },
     "execution_count": 21,
     "metadata": {},
     "output_type": "execute_result"
    }
   ],
   "source": [
    "np.sum(np.abs(X - media))"
   ]
  },
  {
   "cell_type": "code",
   "execution_count": null,
   "id": "historic-success",
   "metadata": {},
   "outputs": [],
   "source": []
  },
  {
   "cell_type": "code",
   "execution_count": 31,
   "id": "tropical-brass",
   "metadata": {},
   "outputs": [
    {
     "name": "stdout",
     "output_type": "stream",
     "text": [
      "Posicion Q3:  37.5\n",
      "Posicion Q2:  25.0\n",
      "Posicion Q1:  12.5\n",
      "35.0\n",
      "30.5\n",
      "25.25\n"
     ]
    }
   ],
   "source": [
    "# c) Cuartiles\n",
    "# Muestra\n",
    "\n",
    "Q3 = 3 * np.sum(frec) / 4\n",
    "print(\"Posicion Q3: \", Q3)\n",
    "\n",
    "Q2 = 2 * np.sum(frec) / 4\n",
    "print(\"Posicion Q2: \", Q2)\n",
    "\n",
    "Q1 = 1 * np.sum(frec) / 4\n",
    "print(\"Posicion Q1: \", Q1)\n",
    "\n",
    "print(np.percentile(X, 75))\n",
    "print(np.percentile(X, 50))\n",
    "print(np.percentile(X, 25))"
   ]
  },
  {
   "cell_type": "code",
   "execution_count": 32,
   "id": "eleven-devices",
   "metadata": {},
   "outputs": [
    {
     "name": "stdout",
     "output_type": "stream",
     "text": [
      "[19.  22.  24.  26.  27.6 30.5 32.  34.3 36.2 39.  42. ]\n"
     ]
    }
   ],
   "source": [
    "# Percentiles \n",
    "print(np.percentile(X, [0, 10, 20, 30, 40, 50, 60, 70 ,80, 90, 100]))"
   ]
  },
  {
   "cell_type": "code",
   "execution_count": null,
   "id": "handled-festival",
   "metadata": {},
   "outputs": [],
   "source": []
  },
  {
   "cell_type": "code",
   "execution_count": 30,
   "id": "announced-professional",
   "metadata": {},
   "outputs": [
    {
     "data": {
      "image/png": "[encoded data removed]",
      "text/plain": [
       "<Figure size 432x288 with 1 Axes>"
      ]
     },
     "metadata": {
      "needs_background": "light"
     },
     "output_type": "display_data"
    }
   ],
   "source": [
    "# d) Frecuencias acumuladas: Ojiva\n",
    "# Ojiva\n",
    "\n",
    "y = np.array([6, 17, 25, 35, 43, 50]) # Frecuencia acumulada\n",
    "\n",
    "intervalonew = np.array([19,23,27,31,35,39])\n",
    "plt.plot(intervalonew, y, c='y', marker='o', ms=10, mfc='red')\n",
    "plt.xlabel('Intervalo de clases')\n",
    "plt.ylabel('Frecuencia acumulada')\n",
    "\n",
    "plt.savefig('Actividad 4 Ojiva (Muestra).png')\n",
    "plt.show()"
   ]
  },
  {
   "cell_type": "code",
   "execution_count": null,
   "id": "celtic-button",
   "metadata": {},
   "outputs": [],
   "source": []
  },
  {
   "cell_type": "code",
   "execution_count": null,
   "id": "tamil-storm",
   "metadata": {},
   "outputs": [],
   "source": [
    "# e) Conclusiones"
   ]
  },
  {
   "cell_type": "code",
   "execution_count": 36,
   "id": "civic-dodge",
   "metadata": {},
   "outputs": [
    {
     "data": {
      "image/png": "[encoded data removed]",
      "text/plain": [
       "<Figure size 432x288 with 1 Axes>"
      ]
     },
     "metadata": {
      "needs_background": "light"
     },
     "output_type": "display_data"
    },
    {
     "data": {
      "image/png": "[encoded data removed]",
      "text/plain": [
       "<Figure size 504x504 with 1 Axes>"
      ]
     },
     "metadata": {},
     "output_type": "display_data"
    }
   ],
   "source": [
    "\n",
    "# Muestra\n",
    "plt.hist(X)\n",
    "plt.grid(True)\n",
    "plt.xlabel(\"Edades\")\n",
    "plt.ylabel(\"Frecuencia\")\n",
    "\n",
    "# Pie de frecuencias\n",
    "fig, ax = plt.subplots(figsize=(7,7))\n",
    "ax.pie(frec, labels=[1, 2, 3, 4, 5, 6, 7], autopct='%.2f%%',shadow=True, labeldistance=1.1)\n",
    "\n",
    "plt.show()"
   ]
  }
 ],
 "metadata": {
  "kernelspec": {
   "display_name": "Python [conda env:dev-ml] *",
   "language": "python",
   "name": "conda-env-dev-ml-py"
  },
  "language_info": {
   "codemirror_mode": {
    "name": "ipython",
    "version": 3
   },
   "file_extension": ".py",
   "mimetype": "text/x-python",
   "name": "python",
   "nbconvert_exporter": "python",
   "pygments_lexer": "ipython3",
   "version": "3.8.3"
  }
 },
 "nbformat": 4,
 "nbformat_minor": 5
}

{
 "cells": [
  {
   "cell_type": "code",
   "execution_count": 5,
   "id": "bigger-upgrade",
   "metadata": {},
   "outputs": [],
   "source": [
    "import pandas as pd\n",
    "import numpy as np\n",
    "import matplotlib.pyplot as plt\n",
    "from scipy import stats as st"
   ]
  },
  {
   "cell_type": "markdown",
   "id": "comprehensive-salvation",
   "metadata": {},
   "source": [
    "### TP1: Actividad 3\n",
    "\n",
    "3) A fin de decidir cuántos mostradores de servicio se necesitarán en tiendas que serán construidas en el futuro, una cadena de supermercados quiso obtener información acerca del tiempo (en minutos) requerido para atender a los clientes. Se registró la duración de 60 casos:\n",
    "\n",
    "3.6\t1.9\t2.1\t0.3\t0.8\t0.2\t1.0\t1.4\t1.8\t1.6\n",
    "1.1\t1.8\t0.3\t1.1\t0.5\t1.2\t0.6\t1.1\t0.8\t1.7\n",
    "1.4\t0.2\t1.3\t3.1\t0.4\t2.3\t1.8\t4.5\t0.9\t0.7\n",
    "0.6\t2.8\t2.5\t1.1\t0.4\t1.2\t0.4\t1.3\t0.8\t1.3\n",
    "1.1\t1.2\t0.8\t1.0\t0.9\t0.7\t3.1\t1.7\t1.1\t2.2\n",
    "1.6\t1.9\t5.2\t0.5\t1.8\t0.3\t1.1\t0.6\t0.7\t0.6\n",
    "\n",
    "    a)\t¿Cuál es la variable a analizar? ¿Es cuantitativa o cualitativa?\n",
    "    b)\tOrganizarlos de la manera que le resulte más conveniente (de forma simple o en intervalos) y justificar la organización elegida.\n",
    "    c)\tCalcule los valores de posición y dispersión. Cuáles de estos valores tomará como represntativos? justifique\n",
    "    d)\tRepresentar gráficamente las frecuencias anteriores mediante un histograma y un polígono de frecuencias.\n",
    "    e)\tConstruir las frecuencias acumuladas crecientes, y graficarlas mediante una ojiva.\n",
    "    f)\tCalcule los cuartiles, e indique qué información le proporciona.\n",
    "    g)\t¿Qué proporción de los tiempos de servicio es menor a un minuto?\n"
   ]
  },
  {
   "cell_type": "code",
   "execution_count": 6,
   "id": "desirable-workstation",
   "metadata": {},
   "outputs": [
    {
     "name": "stdout",
     "output_type": "stream",
     "text": [
      "Muestra 1:  [0.2 0.2 0.3 0.3 0.3 0.4 0.4 0.4 0.5 0.5 0.6 0.6 0.6 0.6 0.7 0.7 0.7 0.8\n",
      " 0.8 0.8 0.8 0.9 0.9 1.  1.  1.1 1.1 1.1 1.1 1.1 1.1 1.1 1.2 1.2 1.2 1.3\n",
      " 1.3 1.3 1.4 1.4 1.6 1.6 1.7 1.7 1.8 1.8 1.8 1.8 1.9 1.9 2.1 2.2 2.3 2.5\n",
      " 2.8 3.1 3.1 3.6 4.5 5.2]\n",
      "\n",
      "Total muestra 1:  60\n",
      "\n",
      "Menor muestra 1:  0.2\n",
      "Mayor muestra 1:  5.2\n"
     ]
    }
   ],
   "source": [
    "X_muestra = np.array([3.6, 1.9, 2.1, 0.3, 0.8, 0.2, 1.0, 1.4, 1.8, 1.6, 1.1, 1.8, 0.3, 1.1, 0.5, 1.2, 0.6, 1.1, 0.8, 1.7, 1.4, 0.2, 1.3, 3.1, 0.4, 2.3, 1.8, 4.5, 0.9, 0.7, 0.6, 2.8, 2.5, 1.1, 0.4, 1.2, 0.4, 1.3, 0.8, 1.3, 1.1, 1.2, 0.8, 1.0, 0.9, 0.7, 3.1, 1.7, 1.1, 2.2, 1.6, 1.9, 5.2, 0.5, 1.8, 0.3, 1.1, 0.6, 0.7, 0.6])\n",
    "X_muestra = np.sort(X_muestra, axis=None)\n",
    "n = X_muestra.size\n",
    "\n",
    "print(\"Muestra 1: \", X_muestra)\n",
    "print(\"\\nTotal muestra 1: \", n)\n",
    "print(\"\\nMenor muestra 1: \", np.min(X_muestra))\n",
    "print(\"Mayor muestra 1: \", np.max(X_muestra))"
   ]
  },
  {
   "cell_type": "code",
   "execution_count": 14,
   "id": "focused-appliance",
   "metadata": {},
   "outputs": [
    {
     "data": {
      "text/plain": [
       "count    60.000000\n",
       "mean      1.366667\n",
       "std       1.002652\n",
       "min       0.200000\n",
       "25%       0.700000\n",
       "50%       1.100000\n",
       "75%       1.800000\n",
       "max       5.200000\n",
       "dtype: float64"
      ]
     },
     "execution_count": 14,
     "metadata": {},
     "output_type": "execute_result"
    }
   ],
   "source": [
    "# Describe data (Quartiles, min, max, media, count)\n",
    "\n",
    "data = pd.Series(X_muestra)\n",
    "data.describe()"
   ]
  },
  {
   "cell_type": "code",
   "execution_count": null,
   "id": "precise-tactics",
   "metadata": {},
   "outputs": [],
   "source": []
  },
  {
   "cell_type": "code",
   "execution_count": 7,
   "id": "particular-holiday",
   "metadata": {},
   "outputs": [
    {
     "name": "stdout",
     "output_type": "stream",
     "text": [
      "Rango:  5.0\n",
      "Intervalo:  7.0\n",
      "Amplitud:  0.7142857142857143\n"
     ]
    }
   ],
   "source": [
    "# b) Tabla frecuencias\n",
    "# Muestra:\n",
    "\n",
    "R = np.max(X_muestra) - np.min(X_muestra)\n",
    "K = np.round(1 + 3.322 * np.log10(X_muestra.size))\n",
    "A = (R / K) \n",
    "\n",
    "print(\"Rango: \", R)\n",
    "print(\"Intervalo: \", K)\n",
    "print(\"Amplitud: \", A)"
   ]
  },
  {
   "cell_type": "code",
   "execution_count": 8,
   "id": "straight-excellence",
   "metadata": {},
   "outputs": [
    {
     "name": "stdout",
     "output_type": "stream",
     "text": [
      "Frecuencia:  [23 21 10  3  1  1  1]\n",
      "Intervalo:  [0.2 1.  1.8 2.6 3.4 4.2 5.  5.8]\n",
      "Frecuencia relativa:  [0.38333333 0.35       0.16666667 0.05       0.01666667 0.01666667\n",
      " 0.01666667]\n",
      "Frecuencia relativa:  [38.33333333 35.         16.66666667  5.          1.66666667  1.66666667\n",
      "  1.66666667]\n"
     ]
    }
   ],
   "source": [
    "intervalo = np.array([0.2,1,1.8,2.6,3.4,4.2,5,5.8])\n",
    "frec, bins = np.histogram(X_muestra, bins = intervalo) # Frecuencia definida por numpy\n",
    "print(\"Frecuencia: \", frec)\n",
    "print(\"Intervalo: \", bins)\n",
    "\n",
    "frecrel = frec / np.sum(X_muestra.size)\n",
    "print(\"Frecuencia relativa: \", frecrel)\n",
    "\n",
    "frecrelporc = frecrel * 100\n",
    "print(\"Frecuencia relativa: \", frecrelporc)"
   ]
  },
  {
   "cell_type": "code",
   "execution_count": 9,
   "id": "attempted-discrimination",
   "metadata": {},
   "outputs": [
    {
     "name": "stdout",
     "output_type": "stream",
     "text": [
      "Media:  1.3666666666666665\n",
      "Mediana:  1.1\n",
      "Moda:  ModeResult(mode=array([1.1]), count=array([7]))\n"
     ]
    }
   ],
   "source": [
    "# c) \n",
    "# Media mediana y moda\n",
    "# Muestra \n",
    "\n",
    "media = (np.sum(X_muestra) / np.sum(frec))\n",
    "print(\"Media: \", media)\n",
    "\n",
    "print(\"Mediana: \", np.median(X_muestra))\n",
    "\n",
    "moda = st.mode(X_muestra)\n",
    "print(\"Moda: \", moda)"
   ]
  },
  {
   "cell_type": "code",
   "execution_count": 10,
   "id": "chronic-certification",
   "metadata": {},
   "outputs": [
    {
     "name": "stdout",
     "output_type": "stream",
     "text": [
      "\n",
      "Desviacion media:  0.7244444444444444\n",
      "\n",
      "Promedio:  1.3666666666666665\n",
      "\n",
      "Varianza:  0.9885555555555556\n",
      "\n",
      "Desvio estandar:  0.9942613115049562\n",
      "\n",
      "Coeficiente de variacion:  72.75082767109437\n"
     ]
    }
   ],
   "source": [
    "# Valores de dispercion\n",
    "dm = np.sum(np.abs(X_muestra - media)) / X_muestra.size # la suma del valor absouluto menos el promedio dividido entre el tamaño de muestra\n",
    "print(\"\\nDesviacion media: \", dm)\n",
    "\n",
    "p = np.sum(X_muestra) / X_muestra.size # Promedio\n",
    "print(\"\\nPromedio: \", p)\n",
    "\n",
    "S = np.sum(np.square(X_muestra - p)) / X_muestra.size # Varianza\n",
    "print(\"\\nVarianza: \", S)\n",
    "\n",
    "r = np.sqrt(S) # Desvio estandar\n",
    "print(\"\\nDesvio estandar: \", r)\n",
    "\n",
    "coeficientevar = (r / media) * 100\n",
    "print(\"\\nCoeficiente de variacion: \", coeficientevar)"
   ]
  },
  {
   "cell_type": "code",
   "execution_count": 11,
   "id": "aboriginal-equation",
   "metadata": {},
   "outputs": [
    {
     "data": {
      "image/png": "[encoded data removed]",
      "text/plain": [
       "<Figure size 432x288 with 1 Axes>"
      ]
     },
     "metadata": {
      "needs_background": "light"
     },
     "output_type": "display_data"
    },
    {
     "data": {
      "image/png": "[encoded data removed]",
      "text/plain": [
       "<Figure size 504x504 with 1 Axes>"
      ]
     },
     "metadata": {},
     "output_type": "display_data"
    }
   ],
   "source": [
    "# d)\n",
    "\n",
    "# Muestra\n",
    "plt.hist(X_muestra, bins=intervalo)\n",
    "plt.grid(True)\n",
    "plt.xlabel(\"Cantidad de minutos(tiempo)\")\n",
    "plt.ylabel(\"Frecuencia\")\n",
    "\n",
    "# Pie de frecuencias\n",
    "fig, ax = plt.subplots(figsize=(7,7))\n",
    "ax.pie(frec, labels=[1, 2, 3, 4, 5, 6, 7], autopct='%.2f%%',shadow=True, labeldistance=1.1)\n",
    "\n",
    "plt.show()"
   ]
  },
  {
   "cell_type": "code",
   "execution_count": null,
   "id": "brave-compiler",
   "metadata": {},
   "outputs": [],
   "source": []
  },
  {
   "cell_type": "code",
   "execution_count": 12,
   "id": "promotional-proportion",
   "metadata": {},
   "outputs": [
    {
     "data": {
      "image/png": "[encoded data removed]",
      "text/plain": [
       "<Figure size 432x288 with 1 Axes>"
      ]
     },
     "metadata": {
      "needs_background": "light"
     },
     "output_type": "display_data"
    }
   ],
   "source": [
    "# e)\n",
    "# Ojiva\n",
    "\n",
    "y = np.array([23, 44, 54, 57, 58, 59, 60, 61]) # Frecuencia acumulada\n",
    "\n",
    "plt.plot(intervalo, y, c='y', marker='o', ms=10, mfc='red')\n",
    "plt.xlabel('Intervalo de clases')\n",
    "plt.ylabel('Frecuencia acumulada')\n",
    "\n",
    "#plt.savefig('Actividad 3 Ojiva (Muestra).png')\n",
    "plt.show()"
   ]
  },
  {
   "cell_type": "code",
   "execution_count": null,
   "id": "unlikely-recovery",
   "metadata": {},
   "outputs": [],
   "source": []
  },
  {
   "cell_type": "code",
   "execution_count": 19,
   "id": "verbal-astronomy",
   "metadata": {},
   "outputs": [
    {
     "name": "stdout",
     "output_type": "stream",
     "text": [
      "Posicion Q3:  45.0\n",
      "Posicion Q2:  30.0\n",
      "Posicion Q1:  15.0\n",
      "1.8\n",
      "1.1\n",
      "0.7\n"
     ]
    }
   ],
   "source": [
    "# f)\n",
    "# Muestra\n",
    "\n",
    "Q3 = 3 * np.sum(frec) / 4\n",
    "print(\"Posicion Q3: \", Q3)\n",
    "\n",
    "Q2 = 2 * np.sum(frec) / 4\n",
    "print(\"Posicion Q2: \", Q2)\n",
    "\n",
    "Q1 = 1 * np.sum(frec) / 4\n",
    "print(\"Posicion Q1: \", Q1)\n",
    "\n",
    "print(np.percentile(X_muestra, 75))\n",
    "print(np.percentile(X_muestra, 50))\n",
    "print(np.percentile(X_muestra, 25))"
   ]
  },
  {
   "cell_type": "code",
   "execution_count": 24,
   "id": "whole-birthday",
   "metadata": {},
   "outputs": [
    {
     "name": "stdout",
     "output_type": "stream",
     "text": [
      "[0.2  0.4  0.6  0.8  1.   1.1  1.3  1.63 1.82 2.53 5.2 ]\n"
     ]
    }
   ],
   "source": [
    "# Percentiles \n",
    "\n",
    "print(np.percentile(X_muestra, [0, 10, 20, 30, 40, 50, 60, 70 ,80, 90, 100]))"
   ]
  },
  {
   "cell_type": "code",
   "execution_count": null,
   "id": "narrow-calcium",
   "metadata": {},
   "outputs": [],
   "source": []
  }
 ],
 "metadata": {
  "kernelspec": {
   "display_name": "Python [conda env:dev-ml] *",
   "language": "python",
   "name": "conda-env-dev-ml-py"
  },
  "language_info": {
   "codemirror_mode": {
    "name": "ipython",
    "version": 3
   },
   "file_extension": ".py",
   "mimetype": "text/x-python",
   "name": "python",
   "nbconvert_exporter": "python",
   "pygments_lexer": "ipython3",
   "version": "3.8.3"
  }
 },
 "nbformat": 4,
 "nbformat_minor": 5
}

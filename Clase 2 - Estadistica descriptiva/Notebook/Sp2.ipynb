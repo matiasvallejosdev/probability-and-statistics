{
 "cells": [
  {
   "cell_type": "code",
   "execution_count": 1,
   "id": "premium-intake",
   "metadata": {},
   "outputs": [],
   "source": [
    "import pandas as pd\n",
    "import numpy as np\n",
    "import matplotlib.pyplot as plt"
   ]
  },
  {
   "cell_type": "markdown",
   "id": "intelligent-sector",
   "metadata": {},
   "source": [
    "### Sp2 / h1 : diagramas"
   ]
  },
  {
   "cell_type": "code",
   "execution_count": 2,
   "id": "federal-jacket",
   "metadata": {},
   "outputs": [
    {
     "name": "stdout",
     "output_type": "stream",
     "text": [
      "[19 19 20 20 20 20 20 20 21 21 21 21 21 21 21 21 21 22 22 22 22 22 22 22\n",
      " 23 23 23 24 24 25]\n",
      "[1 2 3 4 5 6 7]\n"
     ]
    }
   ],
   "source": [
    "y = np.array([1,2,3,4,5,6,7])\n",
    "x = np.array([19, 19,20, 20, 20, 20, 20, 20, 21, 21, 21, 21, 21, 21, 21 ,21 ,21 ,22, 22, 22, 22, 22 ,22 ,22, 23, 23, 23, 24, 24, 25])\n",
    "\n",
    "print(x)\n",
    "print(y)"
   ]
  },
  {
   "cell_type": "code",
   "execution_count": 4,
   "id": "convenient-status",
   "metadata": {},
   "outputs": [
    {
     "name": "stdout",
     "output_type": "stream",
     "text": [
      "6\n",
      "5.0\n",
      "1.2\n",
      "[19 20 21 22 23 24 25]\n",
      "[[19 21]\n",
      " [21 23]\n",
      " [23 25]]\n"
     ]
    }
   ],
   "source": [
    "# Serie de frecuencias por intervalos procedimiento\n",
    "rango = 25 - 19 \n",
    "intervalo = np.floor(1 + 3.322 * np.log10(len(x)))\n",
    "amplitud = rango / intervalo\n",
    "\n",
    "claseintervalo2 = np.array([[19, 21], [21, 23], [23, 25]]) # intervalo 2.0\n",
    "\n",
    "print(rango)\n",
    "print(intervalo)\n",
    "print(amplitud)\n",
    "print(claseintervalo2)"
   ]
  },
  {
   "cell_type": "code",
   "execution_count": null,
   "id": "instructional-shareware",
   "metadata": {},
   "outputs": [],
   "source": []
  },
  {
   "cell_type": "code",
   "execution_count": 6,
   "id": "hawaiian-television",
   "metadata": {},
   "outputs": [
    {
     "name": "stdout",
     "output_type": "stream",
     "text": [
      "[20 22 24]\n",
      "[2 6 9 7 3 2 1]\n",
      "[0.06666667 0.2        0.3        0.23333333 0.1        0.06666667\n",
      " 0.03333333]\n",
      "[ 2  8 15 23 26 28 29]\n",
      "[19 20 21 22 23 24 25]\n"
     ]
    }
   ],
   "source": [
    "# Serie de frecuencias\n",
    "\n",
    "xmarca = np.array([20, 22, 24])\n",
    "frec = np.array([2,6,9,7,3,2,1]) # frecuencia intervalo 1\n",
    "frecrelativa = frec / np.sum(frec) # frecuencia relativa ^\n",
    "frecabsoluta = np.array([2, 8, 15, 23, 26, 28, 29]) # frecuencia absoluta\n",
    "claseintervalo1 = np.array([19,20,21,22,23,24,25]) # intervalo 1\n",
    "\n",
    "print(xmarca)\n",
    "print(frec)\n",
    "print(frecrelativa)\n",
    "print(frecabsoluta)\n",
    "print(claseintervalo1)"
   ]
  },
  {
   "cell_type": "code",
   "execution_count": null,
   "id": "extreme-collar",
   "metadata": {},
   "outputs": [],
   "source": []
  },
  {
   "cell_type": "code",
   "execution_count": 136,
   "id": "political-festival",
   "metadata": {},
   "outputs": [
    {
     "name": "stdout",
     "output_type": "stream",
     "text": [
      "[1 2 3 4 5 6 7]\n",
      "[2 6 0 9 0 7 3 0 2 1]\n",
      "[19.  19.6 20.2 20.8 21.4 22.  22.6 23.2 23.8 24.4 25. ]\n"
     ]
    }
   ],
   "source": [
    "## Histograma en numpy\n",
    "\n",
    "a = np.arange(len(frec))\n",
    "hist = np.histogram(x)\n",
    "\n",
    "print(y)\n",
    "print(hist[0]) # frecuencia intervalo 0.6\n",
    "print(hist[1]) # intervalo 0.6"
   ]
  },
  {
   "cell_type": "markdown",
   "id": "numeric-dictionary",
   "metadata": {},
   "source": [
    "#### Diagrama bastones (bar)"
   ]
  },
  {
   "cell_type": "code",
   "execution_count": null,
   "id": "healthy-pierre",
   "metadata": {},
   "outputs": [],
   "source": [
    "fig, ax = plt.subplots(figsize=(8,5))\n",
    "\n",
    "ax.bar(y,frec,width=0.5, hatch='/', edgecolor='black', ls='--', linewidth=3, color='orange')"
   ]
  },
  {
   "cell_type": "markdown",
   "id": "median-constant",
   "metadata": {},
   "source": [
    "#### Diagrama sectore (pie)"
   ]
  },
  {
   "cell_type": "code",
   "execution_count": null,
   "id": "focused-clarity",
   "metadata": {},
   "outputs": [],
   "source": [
    "fig, ax = plt.subplots(figsize=(8,8))\n",
    "ax.pie(frec, labels=y, autopct='%.2f%%',shadow=True, labeldistance=1.1)"
   ]
  },
  {
   "cell_type": "markdown",
   "id": "least-ethernet",
   "metadata": {},
   "source": [
    "#### Histogramas"
   ]
  },
  {
   "cell_type": "code",
   "execution_count": 145,
   "id": "tough-lesson",
   "metadata": {},
   "outputs": [
    {
     "data": {
      "image/png": "[encoded data removed]",
      "text/plain": [
       "<Figure size 432x288 with 1 Axes>"
      ]
     },
     "metadata": {
      "needs_background": "light"
     },
     "output_type": "display_data"
    },
    {
     "data": {
      "text/plain": [
       "<Figure size 432x288 with 0 Axes>"
      ]
     },
     "metadata": {},
     "output_type": "display_data"
    }
   ],
   "source": [
    "plt.hist(x, bins=claseintervalo)\n",
    "plt.grid(True)\n",
    "plt.show()\n",
    "plt.clf()"
   ]
  }
 ],
 "metadata": {
  "kernelspec": {
   "display_name": "Python [conda env:dev-ml] *",
   "language": "python",
   "name": "conda-env-dev-ml-py"
  },
  "language_info": {
   "codemirror_mode": {
    "name": "ipython",
    "version": 3
   },
   "file_extension": ".py",
   "mimetype": "text/x-python",
   "name": "python",
   "nbconvert_exporter": "python",
   "pygments_lexer": "ipython3",
   "version": "3.8.3"
  }
 },
 "nbformat": 4,
 "nbformat_minor": 5
}

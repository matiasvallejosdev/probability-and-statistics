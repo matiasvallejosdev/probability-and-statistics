{
 "cells": [
  {
   "cell_type": "code",
   "execution_count": 15,
   "id": "described-designer",
   "metadata": {},
   "outputs": [],
   "source": [
    "import numpy as np\n",
    "import pandas as pd\n",
    "from scipy import stats as st"
   ]
  },
  {
   "cell_type": "code",
   "execution_count": 29,
   "id": "decimal-mills",
   "metadata": {},
   "outputs": [
    {
     "name": "stdout",
     "output_type": "stream",
     "text": [
      "[42 47 53 47 50 45 46 48 41 49 45 40 54]\n",
      "46.69230769230769\n",
      "47.0\n",
      "ModeResult(mode=array([45]), count=array([2]))\n"
     ]
    }
   ],
   "source": [
    "# Media, mediana y moda\n",
    "\n",
    "x = np.array([42,47,53,47,50,45,46,48,41,49,45,40,54])\n",
    "print(x)\n",
    "\n",
    "media = np.sum(x) / len(x)\n",
    "print(media)\n",
    "\n",
    "mediana = np.median(x)\n",
    "print(mediana)\n",
    "\n",
    "moda = st.mode(x)\n",
    "print(moda)"
   ]
  }
 ],
 "metadata": {
  "kernelspec": {
   "display_name": "Python [conda env:dev-ml] *",
   "language": "python",
   "name": "conda-env-dev-ml-py"
  },
  "language_info": {
   "codemirror_mode": {
    "name": "ipython",
    "version": 3
   },
   "file_extension": ".py",
   "mimetype": "text/x-python",
   "name": "python",
   "nbconvert_exporter": "python",
   "pygments_lexer": "ipython3",
   "version": "3.8.3"
  }
 },
 "nbformat": 4,
 "nbformat_minor": 5
}

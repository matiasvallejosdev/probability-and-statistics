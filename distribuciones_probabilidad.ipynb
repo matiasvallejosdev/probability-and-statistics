{
  "nbformat": 4,
  "nbformat_minor": 0,
  "metadata": {
    "colab": {
      "name": "distribuciones_probabilidad.ipynb",
      "provenance": [],
      "authorship_tag": "ABX9TyPOCgcjvt5s3eOtd9bsaQpR",
      "include_colab_link": true
    },
    "kernelspec": {
      "name": "python3",
      "display_name": "Python 3"
    },
    "language_info": {
      "name": "python"
    }
  },
  "cells": [
    {
      "cell_type": "markdown",
      "metadata": {
        "id": "view-in-github",
        "colab_type": "text"
      },
      "source": [
        "<a href=\"https://colab.research.google.com/github/matiasvallejosdev/probabilidad-estadistica/blob/main/distribuciones_probabilidad.ipynb\" target=\"_parent\"><img src=\"https://colab.research.google.com/assets/colab-badge.svg\" alt=\"Open In Colab\"/></a>"
      ]
    },
    {
      "cell_type": "markdown",
      "metadata": {
        "id": "irvA3fDI7Te-"
      },
      "source": [
        "# Distribuciones de probabilidad\n",
        "Son características propias que permiten establecer las probabilidades\n",
        "correspondientes a los diferentes valores que pueden adoptar la variable\n",
        "aleatoria por intermedio de una fórmula o modelo matemático que permite su\n",
        "cálculo."
      ]
    },
    {
      "cell_type": "code",
      "metadata": {
        "id": "PKeAX-S69Xid"
      },
      "source": [
        "import numpy as np\n",
        "from scipy import stats as st"
      ],
      "execution_count": 2,
      "outputs": []
    },
    {
      "cell_type": "markdown",
      "metadata": {
        "id": "dpWIaxvL4zE9"
      },
      "source": [
        "## Guia\n",
        "¿Como aplicar las distribuciones segun cada caso? ¿Que parametros tomar en cuenta? ¿Es una distribucion discreta o continua?"
      ]
    },
    {
      "cell_type": "markdown",
      "metadata": {
        "id": "iEUSuWLh43ZV"
      },
      "source": [
        "__Distribuciones de Probabilidad__\n",
        "\n",
        "__¿Cómo me doy cuenta el modelo que tengo que aplicar?__\n",
        "\n",
        "* Binomial\n",
        "\n",
        "  * n: nº de elementos de la muestra\n",
        "  * p: probabilidad de éxito en la población.\n",
        "  * Distribución de variable discreta.\n",
        "  * Puede preguntarse por la probabilidad de una variable aleatoria puntual P(x=2) por ejemplo, o por un intervalo P(x>2).\n",
        "  * Población grande frente a la muestra\n",
        "  * La muestra debe ser menor al 5% de la población\n",
        "  * Eventos independientes\n",
        "\n",
        "* Hipergeométrica\n",
        "  * N: nº de elementos de la población\n",
        "  * M: nº de éxitos de la población\n",
        "  * n: nº de elementos de la muestra\n",
        "\n",
        "* Distribución de variable discreta.\n",
        "  * Puede preguntarse por la probabilidad de una variable aleatoria puntual P(x=2) por ejemplo, o por un intervalo P(x>2).\n",
        "  * La población y la muestra están más cercanas.\n",
        "  * La muestra es mayor o igual al 5 % de la población.\n",
        "  * Eventos dependientes\n",
        "\n",
        "* Poisson\n",
        " * λ : promedio o proporción de ocurrencia de un evento\n",
        " * Distribución de variable discreta.\n",
        " * Puede preguntarse por la probabilidad de una variable aleatoria puntual P(x=2) por ejemplo, o por un intervalo P(x>2).\n",
        " * Es una binomial pero para casos raros.\n",
        " * Es una binomial para n que tiende a infinito y p que tiende a cero\n",
        "\n",
        "* Normal\n",
        "  * μ: Media poblacional (promedio)\n",
        "  * δ: desviación estándar poblacional\n",
        "  * • Es una distribución de variable continua.\n",
        "  * • Forma acampanada\n",
        "  * • La probabilidad de una variable aleatoria puntual es cero P(x) = 0. Por ejemplo P(x=2) = 0\n",
        "  * Por eso siempre se pregunta por un intervalo y no por una probabilidad puntual.\n",
        "  * Acá es lo mismo decir P(x<2) o P(x<2) \n",
        "\n",
        "  Por ejemplo:\n",
        "* (*) Son los datos que las caracterizan y se necesitan para resolverlas con la tabla o por fórmula\n",
        "Para todos los casos:\n",
        "* Éxito: característica de la población que se quiere estudiar.\n",
        "* X: Variable aleatoria: nº de éxitos en la muestra\n",
        "* P(x) es la probabilidad del éxito en la muestra que se pide calcular.\n",
        "\n",
        "__APROXIMACIONES de la binomial__\n",
        "\n",
        "* Aproximación condiciones\n",
        "* Cálculo de los parámetros\n",
        "* De la binomial a la de Poisson\n",
        "  * n.p < 7\n",
        "  * n.p = λ\n",
        "* De la binomial a la Normal\n",
        "  * n.p >= 5\n",
        "  * n.q >=5\n",
        "\n",
        "_Recordar que q es la probabilidad de fracaso de la población y se calcula:_\n",
        "* q = 1-p\n",
        "* n.p= μ\n",
        "* δ=q.p.n\n",
        "\n",
        "__¿Hay obligación de usar las aproximaciones?__\n",
        "\n",
        "NO. Los experimentos siguen siendo binomiales, pero si se dan las condiciones mencionadas, pueden resolverse por otro modelo porque el error que se comete es muy pequeño.\n",
        "\n",
        "__¿Cuándo conviene usarlas? ¿Cómo darse cuenta?__\n",
        "\n",
        "La mayoría de las veces es por la imposibilidad de calcularlo por la tabla por ser la muestra muy grande y no encontrarla o ser p muy pequeño y no encontrarlo en la tabla. Generalmente cuando eso pasa hay que investigar si puede aproximar a la de Poisson o a la normal.\n",
        "Para aproximar la binomial a la de Poisson, p es muy pequeño, en cambio para la normal no es necesario que p sea pequeño, pero si tiene que cumplir con las condiciones que figuran en el cuadro.\n",
        "\n",
        "__APROXIMACION DE HIPERGEOMÉTRICA A LA BINOMIAL:__\n",
        "\n",
        "Estas dos distribuciones son muy distintas dadas las características que se mencionaron en el cuadro. Por lo tanto antes de hacer la aproximación se debe tener en cuenta que la muestra sea aproximadamente el 5% de la población, porque si no el error en el que se incurriría sería grande, ya que en una los eventos son independientes y en la otra dependientes.\n",
        "\n",
        "__¿Cuándo la uso?__\n",
        "\n",
        "Si los datos del problema son los de una distribución hipergeométrica pero me resulta difícil resolverlo por este modelo debido a:\n",
        "\n",
        "* Que no tenemos la tabla de la hipergeométrica y tengo que calcular muchas probabilidades puntuales para responder a una pregunta, lo cual se torna tedioso.\n",
        "* Cuando los números combinatorios que componen la fórmula de la hipergeométrica no pueden calcularse por calculadora científica al dar tan grandes.\n",
        "* O cuando me doy cuenta que aunque los datos son de una distribución hipergeométrica, verifico que la muestra es menor al 5% de la población.\n",
        "\n",
        "Concluyo entonces que el experimento en realidad es binomial aunque los datos que me dan son iguales a los de una distribución hipergeométrica.\n",
        "\n",
        "__¿Cómo hago la aproximación a la binomial?__\n",
        "\n",
        "n: ya lo tengo.\n",
        "\n",
        "Me faltaría p que lo calculo mediante la regla de Laplace: casos favorables/casos probables. \n",
        "\n",
        "Es decir p=M/N\n",
        "\n",
        "\n",
        "__CONSEJOS:__\n",
        "\n",
        "Frente a un problema, primero anotá los datos que te dan.\n",
        "\n",
        "* Si te dan N,n,p: fijate si la muestra es menor al 5% de la población, si es así hacerla por binomial y no tengas en cuenta la población.\n",
        "* Si te dan los datos de una hipergeométrica y la muestra es menor al 5% de la población hacela por binomial (la aproximación que vimos)\n",
        "* Si te dan los datos para hacerla por binomial y no podés porque algunos de los parámetros no está en la tabla: investigá las condiciones y podés aproximarla por Poisson o por la normal."
      ]
    },
    {
      "cell_type": "code",
      "metadata": {
        "id": "gFgZlVZg7wzA"
      },
      "source": [
        ""
      ],
      "execution_count": null,
      "outputs": []
    },
    {
      "cell_type": "markdown",
      "metadata": {
        "id": "5otiSQwR7mnB"
      },
      "source": [
        "## Variable aleatoria discreta\n",
        "Una variable aleatoriase define como una variable cuantitativa discreta como el fenómeno de interés, o en estudio, cuyas respuestas o resultados se pueden expresar numéricamente. La clasificación de discreta obedece a que proviene de un proceso de contar. Es decir, que se refiere a un fenómeno en estudio, cuyo resultado es numérico, y específicamente su resultado es un número natural.\n",
        "\n"
      ]
    },
    {
      "cell_type": "markdown",
      "metadata": {
        "id": "yv9aVnP99_XV"
      },
      "source": [
        "### Distribucion binomial\n",
        "\n",
        "__B(n, x)__ _binomial:_\n",
        "\n",
        "1. El experimento se repite n veces en idénticas condiciones.\n",
        "2. Cada prueba puede tener únicamente uno de dos resultados que\n",
        "llamaremos éxito o fracaso.\n",
        "3. La probabilidad de éxito en una prueba es \"p\" y se mantiene constante. La probabilidad de fracaso será q = 1 – p.\n",
        "4. Las pruebas son independientes.\n",
        "\n",
        "```\n",
        "X = variable aleatoria \n",
        "p = probabilidad de exito (ej: 0.7)\n",
        "n = numero de ensayos (ej: 4)\n",
        "r_value = numero de resultados posibles (ej: 0;1;2;3;4)\n",
        "x = resultado\n",
        "```"
      ]
    },
    {
      "cell_type": "code",
      "metadata": {
        "colab": {
          "base_uri": "https://localhost:8080/"
        },
        "id": "_2pzQB3r5Dhb",
        "outputId": "aaebf9ce-9e88-41ce-d862-1fb1cbd0d5c6"
      },
      "source": [
        "n = 4\n",
        "p = 0.5\n",
        "r_value = 0\n",
        "\n",
        "# Get the mean and variance \n",
        "mean, var = st.binom.stats(n, p)\n",
        "\n",
        "# List of pmf values\n",
        "x = np.round(st.binom.pmf(r_value, n, p), 6) \n",
        "\n",
        "# Printing the table\n",
        "print('La probabilidad de que en la muestra de B(n={} | p={}) y dado que x={}: '.format(n, p, r_value))\n",
        "print(\"r\\tP(r)\")\n",
        "print(str(r_value) + \"\\t\" + str(x))\n",
        "print('')\n",
        "\n",
        "# Printing mean and variance\n",
        "print(\"Mean = \"+str(mean))\n",
        "print(\"Variance = \"+str(var))"
      ],
      "execution_count": 17,
      "outputs": [
        {
          "output_type": "stream",
          "text": [
            "La probabilidad de que en la muestra de B(n=4 | p=0.5) y dado que x=0: \n",
            "r\tP(r)\n",
            "0\t0.0625\n",
            "\n",
            "Mean = 2.0\n",
            "Variance = 1.0\n"
          ],
          "name": "stdout"
        }
      ]
    },
    {
      "cell_type": "markdown",
      "metadata": {
        "id": "xBj4TmPDHUEB"
      },
      "source": [
        "### Distribucion hipergeometrica\n",
        "Son experimentos similares a los binomiales, con la diferencia que en el hipergeométrico, la probabilidad de éxito NO SE MANTIENE CONSTANTE.\n",
        "\n",
        "```\n",
        "N = tamaño de la poblacion \n",
        "n = tamaño de la muestra\n",
        "k = exitos de la poblacion\n",
        "x = exitos de la muestra\n",
        "```"
      ]
    },
    {
      "cell_type": "code",
      "metadata": {
        "colab": {
          "base_uri": "https://localhost:8080/"
        },
        "id": "7KLJLpSWHTr5",
        "outputId": "f5ed3295-5079-462e-fd29-86cab98187b7"
      },
      "source": [
        "N = 10\n",
        "k = 3\n",
        "n = 5\n",
        "x = 1\n",
        "\n",
        "# Get mean and variance\n",
        "mean, var = st.hypergeom.stats(M, n, N)\n",
        "\n",
        "# List of pmf values\n",
        "x = np.round(st.hypergeom.pmf(x, N, k, n), 6) \n",
        "\n",
        "# Printing the table\n",
        "print('La probabilidad de que en la muestra de H(N={} | n={} | k={}) y dado que x={}: '.format(N, n, k, x))\n",
        "print(\"r\\tP(r)\")\n",
        "print(str(r_value) + \"\\t\" + str(x))\n",
        "print('')\n",
        "\n",
        "# Printing mean and variance\n",
        "print(\"Mean = \"+str(mean))\n",
        "print(\"Variance = \"+str(var))"
      ],
      "execution_count": null,
      "outputs": [
        {
          "output_type": "stream",
          "text": [
            "La probabilidad de que en la muestra de H(N=10 | n=5 | k=3) y dado que x=0.416667: \n",
            "r\tP(r)\n",
            "0\t0.416667\n",
            "\n",
            "Mean = 2.5\n",
            "Variance = 0.9868421052631579\n"
          ],
          "name": "stdout"
        }
      ]
    },
    {
      "cell_type": "markdown",
      "metadata": {
        "id": "TGclIS3EHbZP"
      },
      "source": [
        "### Distribucion poisson\n",
        "El modelo se puede utilizar en dos situaciones:\n",
        "1. Como aproximación al modelo binomial\n",
        "2. Como proceso aleatorio\n",
        "\n",
        "**_La variable aleatoria es el numero de veces que ocurre un evento durante un INTERVALO DEFINIDO (Area, Distancia, Tiempo, Volumen, etc)_**\n",
        "\n",
        "Se busca primero el valor de el que corresponde a la situación, en el caso de l=25, en la primera columna de la tabla; para obtener el valor de x lo hallaremos en la primera fila del sector correspondiente.\n",
        "\n",
        "```\n",
        "mu or λ = media o valor esperado de X (ej: 4 pacientes promedio)\n",
        "x = valores de X (ej: {0; 1; 2; 3; 4} )\n",
        "```"
      ]
    },
    {
      "cell_type": "markdown",
      "metadata": {
        "id": "RiFoU6JAiH8Y"
      },
      "source": [
        "#### Como aproximacion al modelo binomial\n",
        "_En entornos donde el tamaño de la muestra es muy grande (matemáticamente n tiende a infinito) y la probabilidad de éxito es muy pequeña, la distribución de\n",
        "Poisson tiene en cuenta los casos \"poco frecuentes\", y se logra a partir del límite para n que tiende a infinito, a la expresión del modelo binomial. En este\n",
        "desarrollo surge un nuevo parámetro, que es lamda y que es igual a n.p._"
      ]
    },
    {
      "cell_type": "code",
      "metadata": {
        "colab": {
          "base_uri": "https://localhost:8080/"
        },
        "id": "dqzUufzZHeLv",
        "outputId": "32d8ab15-70b2-47a3-bfb8-1494c2ac7e0b"
      },
      "source": [
        "n = 1\n",
        "mu = 2 \n",
        "lamda = mu * n\n",
        "X = 1\n",
        "\n",
        "# Get mean and variance\n",
        "mean, var, skew, kurt = st.poisson.stats(mu, moments='mvsk')\n",
        "\n",
        "# List of pmf values\n",
        "x = np.round(st.poisson.pmf(X, mu), 6)\n",
        "\n",
        "# Printing the table\n",
        "print('La probabilidad de que en la muestra de Poisson(λ={}) y dado que x={}: '.format(lamda, X))\n",
        "print(\"r\\tP(r)\")\n",
        "print(str(X) + \"\\t\" + str(x))\n",
        "print('')\n",
        "\n",
        "# Printing mean and variance\n",
        "print(\"Mean = \"+str(mean))\n",
        "print(\"Variance = \"+str(var))"
      ],
      "execution_count": 15,
      "outputs": [
        {
          "output_type": "stream",
          "text": [
            "La probabilidad de que en la muestra de Poisson(λ=2) y dado que x=1: \n",
            "r\tP(r)\n",
            "1\t0.270671\n",
            "\n",
            "Mean = 2.0\n",
            "Variance = 2.0\n"
          ],
          "name": "stdout"
        }
      ]
    },
    {
      "cell_type": "markdown",
      "metadata": {
        "id": "ZGF3r80qiL8f"
      },
      "source": [
        "#### Como proceso aleatorio\n",
        "El modelo de Poisson también permite una muy buena aproximación para el\n",
        "número de eventos, que ocurren en algunas ocasiones en el espacio, en el\n",
        "tiempo, en un volumen o cualquier otra magnitud."
      ]
    },
    {
      "cell_type": "code",
      "metadata": {
        "colab": {
          "base_uri": "https://localhost:8080/"
        },
        "id": "QCHT6ZnViLyv",
        "outputId": "99ebf863-873e-4699-9297-c17a664e7995"
      },
      "source": [
        "mu = 15\n",
        "x = 20\n",
        "\n",
        "# Atencion! La tabla es acumulada por lo que para:\n",
        "\n",
        "# P(x = 1) = P(x=1) - P(x=0)\n",
        "# P(x=20) = P(20) - P(19) = 0.9170 - 0.8752 = 0.0418\n",
        "\n",
        "# P(x < 12) = P(x=11)\n",
        "# P(x >= 13) = 1 - P(x=12)\n",
        "# P(x <= 12) = P(x=12) \n",
        "\n",
        "x = \"https://www.uv.es/montes/NHD/PoissonAcumulada.pdf\"\n",
        "print(x)"
      ],
      "execution_count": null,
      "outputs": [
        {
          "output_type": "stream",
          "text": [
            "https://www.uv.es/montes/NHD/PoissonAcumulada.pdf\n"
          ],
          "name": "stdout"
        }
      ]
    },
    {
      "cell_type": "markdown",
      "metadata": {
        "id": "6Ps1ZQsd7pue"
      },
      "source": [
        "## Variable aleatoria continua\n",
        "Una variable aleatoria continua es aquella variable en estudio que\n",
        "toma valores dentro de un intervalo continuo de números.\n",
        " \n",
        "El tipo de variable aleatoria que representa cualquier valor en un intervalo,\n",
        "se llama variable aleatoria continua, y son las distribuciones de probabilidad de este tipo de variables las que analizaremos a continuación."
      ]
    },
    {
      "cell_type": "markdown",
      "metadata": {
        "id": "lgUQvWZdv9b2"
      },
      "source": [
        "### Distribucion normal\n",
        "Una distribución es normal, cuando la misma es simétrica, acampanada y tiene que cumplir con la regla empírica.\n",
        "\n",
        "Dicha curva recibe el nombre de curva de distribución normal o curva de Gauss.\n",
        "Debido a su simetría, coinciden media, mediana y moda.\n",
        "```\n",
        "Z = variable normal estandar (x - mu / o)\n",
        "mu = media o valor esperado (ej: 0)\n",
        "o = desviacion estandar (ej: 1)\n",
        "x = valor de X (ej: 15)\n",
        "```"
      ]
    },
    {
      "cell_type": "markdown",
      "metadata": {
        "id": "R89gWMD-x8sr"
      },
      "source": [
        "#### Como aproximacion a la binomial\n",
        "La distribución binomial es una de las mencionadas\n",
        "anteriormente. Cuando el número n de pruebas en un experimento binomial es\n",
        "grande y p no es demasiado chico ni tampoco muy próximo a 1, es tomado como\n",
        "criterio de aproximación que n.p y n.q ambos sean mayores que 5.\n"
      ]
    },
    {
      "cell_type": "code",
      "metadata": {
        "colab": {
          "base_uri": "https://localhost:8080/"
        },
        "id": "9h7SDUksvWSc",
        "outputId": "e7775c39-16c3-492e-b6a3-06a13de40b4d"
      },
      "source": [
        "mu = 18\n",
        "o = 6\n",
        "X = 20\n",
        "Z = np.round((X - mu) / o, 6)\n",
        "\n",
        "# Get Z (valor estandar)\n",
        "print('Variable estandar Z: {}'.format(Z))\n",
        "\n",
        "# Get mean and variance\n",
        "mean, var = st.norm.stats(mu, o)\n",
        "\n",
        "# List of pmf values\n",
        "x = np.round(st.norm.cdf(X, mu, o), 6)\n",
        "\n",
        "# Printing the table\n",
        "print('La probabilidad de que en la muestra de Normal(λ={} | o={}) y dado que x={}: '.format(mu, o, X))\n",
        "\n",
        "print(\"r\\tP(r)\")\n",
        "print(str(r_value) + \"\\t\" + str(x))\n",
        "print('')\n",
        "\n",
        "# Printing mean and variance\n",
        "print(\"Mean = \"+str(mean))\n",
        "print(\"Variance = \"+str(var))"
      ],
      "execution_count": null,
      "outputs": [
        {
          "output_type": "stream",
          "text": [
            "Variable estandar Z: 0.333333\n",
            "La probabilidad de que en la muestra de Normal(λ=18 | o=6) y dado que x=20: \n",
            "r\tP(r)\n",
            "0\t0.630559\n",
            "\n",
            "Mean = 18.0\n",
            "Variance = 36.0\n"
          ],
          "name": "stdout"
        }
      ]
    }
  ]
}
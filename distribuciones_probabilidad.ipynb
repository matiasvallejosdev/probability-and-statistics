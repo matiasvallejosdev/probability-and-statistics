{
  "nbformat": 4,
  "nbformat_minor": 0,
  "metadata": {
    "colab": {
      "name": "distribuciones_probabilidad.ipynb",
      "provenance": [],
      "authorship_tag": "ABX9TyNRi6cVG7TZFEsjmrRVmC62",
      "include_colab_link": true
    },
    "kernelspec": {
      "name": "python3",
      "display_name": "Python 3"
    },
    "language_info": {
      "name": "python"
    }
  },
  "cells": [
    {
      "cell_type": "markdown",
      "metadata": {
        "id": "view-in-github",
        "colab_type": "text"
      },
      "source": [
        "<a href=\"https://colab.research.google.com/github/matiasvallejosdev/probabilidad-estadistica/blob/main/distribuciones_probabilidad.ipynb\" target=\"_parent\"><img src=\"https://colab.research.google.com/assets/colab-badge.svg\" alt=\"Open In Colab\"/></a>"
      ]
    },
    {
      "cell_type": "markdown",
      "metadata": {
        "id": "irvA3fDI7Te-"
      },
      "source": [
        "# Distribuciones de probabilidad\n",
        "Son características propias que permiten establecer las probabilidades\n",
        "correspondientes a los diferentes valores que pueden adoptar la variable\n",
        "aleatoria por intermedio de una fórmula o modelo matemático que permite su\n",
        "cálculo."
      ]
    },
    {
      "cell_type": "code",
      "metadata": {
        "id": "PKeAX-S69Xid"
      },
      "source": [
        "import numpy as np\n",
        "from scipy import stats as st"
      ],
      "execution_count": 31,
      "outputs": []
    },
    {
      "cell_type": "markdown",
      "metadata": {
        "id": "5otiSQwR7mnB"
      },
      "source": [
        "## Variable aleatoria discreta\n",
        "Una variable aleatoriase define como una variable cuantitativa discreta como el fenómeno de interés, o en estudio, cuyas respuestas o resultados se pueden expresar numéricamente. La clasificación de discreta obedece a que proviene de un proceso de contar. Es decir, que se refiere a un fenómeno en estudio, cuyo resultado es numérico, y específicamente su resultado es un número natural.\n",
        "\n"
      ]
    },
    {
      "cell_type": "markdown",
      "metadata": {
        "id": "yv9aVnP99_XV"
      },
      "source": [
        "### Distribucion binomial\n",
        "\n",
        "__B(n, x)__ _binomial:_\n",
        "\n",
        "1. El experimento se repite n veces en idénticas condiciones.\n",
        "2. Cada prueba puede tener únicamente uno de dos resultados que\n",
        "llamaremos éxito o fracaso.\n",
        "3. La probabilidad de éxito en una prueba es \"p\" y se mantiene constante. La probabilidad de fracaso será q = 1 – p.\n",
        "4. Las pruebas son independientes.\n",
        "\n",
        "```\n",
        "X = variable aleatoria \n",
        "p = probabilidad de exito (ej: 0.7)\n",
        "n = numero de ensayos (ej: 4)\n",
        "x = numero de resultados posibles (ej: 0;1;2;3;4)\n",
        "```"
      ]
    },
    {
      "cell_type": "code",
      "metadata": {
        "colab": {
          "base_uri": "https://localhost:8080/"
        },
        "id": "_2pzQB3r5Dhb",
        "outputId": "7dd9309c-fa34-46fc-a23a-b4c87df96a82"
      },
      "source": [
        "n = 4\n",
        "p = 0.5\n",
        "r_value = 0\n",
        "\n",
        "# Get the mean and variance \n",
        "mean, var = st.binom.stats(n, p)\n",
        "\n",
        "# List of pmf values\n",
        "x = np.round(st.binom.pmf(r_value, n, p), 6) \n",
        "\n",
        "# Printing the table\n",
        "print('La probabilidad de que en la muestra de B(n={} | p={}) y dado que x={}: '.format(n, p, r_value))\n",
        "print(\"r\\tP(r)\")\n",
        "print(str(r_value) + \"\\t\" + str(x))\n",
        "print('')\n",
        "\n",
        "# Printing mean and variance\n",
        "print(\"Mean = \"+str(mean))\n",
        "print(\"Variance = \"+str(var))"
      ],
      "execution_count": 66,
      "outputs": [
        {
          "output_type": "stream",
          "text": [
            "La probabilidad de que en la muestra de B(n=4 | p=0.5) y dado que x=0: \n",
            "r\tP(r)\n",
            "0\t0.0625\n",
            "\n",
            "Mean = 2.0\n",
            "Variance = 1.0\n"
          ],
          "name": "stdout"
        }
      ]
    },
    {
      "cell_type": "markdown",
      "metadata": {
        "id": "xBj4TmPDHUEB"
      },
      "source": [
        "### Distribucion hipergonometrica"
      ]
    },
    {
      "cell_type": "code",
      "metadata": {
        "id": "7KLJLpSWHTr5"
      },
      "source": [
        ""
      ],
      "execution_count": null,
      "outputs": []
    },
    {
      "cell_type": "markdown",
      "metadata": {
        "id": "TGclIS3EHbZP"
      },
      "source": [
        "### Distribucion poisson"
      ]
    },
    {
      "cell_type": "code",
      "metadata": {
        "id": "dqzUufzZHeLv"
      },
      "source": [
        ""
      ],
      "execution_count": null,
      "outputs": []
    },
    {
      "cell_type": "markdown",
      "metadata": {
        "id": "6Ps1ZQsd7pue"
      },
      "source": [
        "## Variable aleatoria continua\n",
        "Una variable aleatoria continua es aquella variable en estudio que\n",
        "toma valores dentro de un intervalo continuo de números."
      ]
    }
  ]
}